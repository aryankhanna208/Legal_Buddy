{
 "cells": [
  {
   "cell_type": "code",
   "execution_count": 1,
   "metadata": {},
   "outputs": [],
   "source": [
    "import os\n",
    "import pandas as pd\n",
    "import numpy as np"
   ]
  },
  {
   "cell_type": "code",
   "execution_count": 26,
   "metadata": {},
   "outputs": [
    {
     "data": {
      "text/plain": [
       "177"
      ]
     },
     "execution_count": 26,
     "metadata": {},
     "output_type": "execute_result"
    }
   ],
   "source": [
    "docs_in_folder=os.listdir(\"Women_s files\")\n",
    "len(docs_in_folder)"
   ]
  },
  {
   "cell_type": "code",
   "execution_count": 7,
   "metadata": {},
   "outputs": [
    {
     "data": {
      "text/html": [
       "<div>\n",
       "<style scoped>\n",
       "    .dataframe tbody tr th:only-of-type {\n",
       "        vertical-align: middle;\n",
       "    }\n",
       "\n",
       "    .dataframe tbody tr th {\n",
       "        vertical-align: top;\n",
       "    }\n",
       "\n",
       "    .dataframe thead th {\n",
       "        text-align: right;\n",
       "    }\n",
       "</style>\n",
       "<table border=\"1\" class=\"dataframe\">\n",
       "  <thead>\n",
       "    <tr style=\"text-align: right;\">\n",
       "      <th></th>\n",
       "      <th>Doc Name</th>\n",
       "      <th>POCSO-2012</th>\n",
       "      <th>IPC-509</th>\n",
       "      <th>IPC-504</th>\n",
       "      <th>IPC-354</th>\n",
       "      <th>IPC-354A</th>\n",
       "      <th>IPC-498A</th>\n",
       "      <th>IPC-302</th>\n",
       "      <th>IPC-376</th>\n",
       "      <th>DPA</th>\n",
       "      <th>DVA</th>\n",
       "      <th>IPC-34</th>\n",
       "      <th>IPC 307</th>\n",
       "      <th>IPC 313</th>\n",
       "      <th>IPC 109</th>\n",
       "      <th>IPC 324</th>\n",
       "      <th>IPC 326</th>\n",
       "      <th>IPC 323</th>\n",
       "    </tr>\n",
       "  </thead>\n",
       "  <tbody>\n",
       "    <tr>\n",
       "      <th>0</th>\n",
       "      <td>women_1</td>\n",
       "      <td>0.0</td>\n",
       "      <td>0.0</td>\n",
       "      <td>0.0</td>\n",
       "      <td>0.0</td>\n",
       "      <td>0.0</td>\n",
       "      <td>0.0</td>\n",
       "      <td>0.0</td>\n",
       "      <td>0.0</td>\n",
       "      <td>0.0</td>\n",
       "      <td>1.0</td>\n",
       "      <td>0.0</td>\n",
       "      <td>0.0</td>\n",
       "      <td>0.0</td>\n",
       "      <td>0.0</td>\n",
       "      <td>0.0</td>\n",
       "      <td>0.0</td>\n",
       "      <td>0.0</td>\n",
       "    </tr>\n",
       "    <tr>\n",
       "      <th>1</th>\n",
       "      <td>women_2</td>\n",
       "      <td>0.0</td>\n",
       "      <td>0.0</td>\n",
       "      <td>0.0</td>\n",
       "      <td>0.0</td>\n",
       "      <td>0.0</td>\n",
       "      <td>1.0</td>\n",
       "      <td>0.0</td>\n",
       "      <td>0.0</td>\n",
       "      <td>0.0</td>\n",
       "      <td>0.0</td>\n",
       "      <td>0.0</td>\n",
       "      <td>0.0</td>\n",
       "      <td>0.0</td>\n",
       "      <td>0.0</td>\n",
       "      <td>0.0</td>\n",
       "      <td>0.0</td>\n",
       "      <td>0.0</td>\n",
       "    </tr>\n",
       "    <tr>\n",
       "      <th>2</th>\n",
       "      <td>women_3</td>\n",
       "      <td>0.0</td>\n",
       "      <td>0.0</td>\n",
       "      <td>0.0</td>\n",
       "      <td>0.0</td>\n",
       "      <td>0.0</td>\n",
       "      <td>0.0</td>\n",
       "      <td>0.0</td>\n",
       "      <td>0.0</td>\n",
       "      <td>0.0</td>\n",
       "      <td>1.0</td>\n",
       "      <td>0.0</td>\n",
       "      <td>0.0</td>\n",
       "      <td>0.0</td>\n",
       "      <td>0.0</td>\n",
       "      <td>0.0</td>\n",
       "      <td>0.0</td>\n",
       "      <td>0.0</td>\n",
       "    </tr>\n",
       "    <tr>\n",
       "      <th>3</th>\n",
       "      <td>women_4</td>\n",
       "      <td>0.0</td>\n",
       "      <td>0.0</td>\n",
       "      <td>0.0</td>\n",
       "      <td>0.0</td>\n",
       "      <td>0.0</td>\n",
       "      <td>0.0</td>\n",
       "      <td>0.0</td>\n",
       "      <td>0.0</td>\n",
       "      <td>0.0</td>\n",
       "      <td>1.0</td>\n",
       "      <td>0.0</td>\n",
       "      <td>0.0</td>\n",
       "      <td>0.0</td>\n",
       "      <td>0.0</td>\n",
       "      <td>0.0</td>\n",
       "      <td>0.0</td>\n",
       "      <td>0.0</td>\n",
       "    </tr>\n",
       "    <tr>\n",
       "      <th>4</th>\n",
       "      <td>women_5</td>\n",
       "      <td>0.0</td>\n",
       "      <td>0.0</td>\n",
       "      <td>0.0</td>\n",
       "      <td>0.0</td>\n",
       "      <td>0.0</td>\n",
       "      <td>1.0</td>\n",
       "      <td>0.0</td>\n",
       "      <td>0.0</td>\n",
       "      <td>0.0</td>\n",
       "      <td>0.0</td>\n",
       "      <td>0.0</td>\n",
       "      <td>0.0</td>\n",
       "      <td>0.0</td>\n",
       "      <td>0.0</td>\n",
       "      <td>0.0</td>\n",
       "      <td>0.0</td>\n",
       "      <td>0.0</td>\n",
       "    </tr>\n",
       "    <tr>\n",
       "      <th>...</th>\n",
       "      <td>...</td>\n",
       "      <td>...</td>\n",
       "      <td>...</td>\n",
       "      <td>...</td>\n",
       "      <td>...</td>\n",
       "      <td>...</td>\n",
       "      <td>...</td>\n",
       "      <td>...</td>\n",
       "      <td>...</td>\n",
       "      <td>...</td>\n",
       "      <td>...</td>\n",
       "      <td>...</td>\n",
       "      <td>...</td>\n",
       "      <td>...</td>\n",
       "      <td>...</td>\n",
       "      <td>...</td>\n",
       "      <td>...</td>\n",
       "      <td>...</td>\n",
       "    </tr>\n",
       "    <tr>\n",
       "      <th>173</th>\n",
       "      <td>aa_14_aug_3</td>\n",
       "      <td>0.0</td>\n",
       "      <td>0.0</td>\n",
       "      <td>0.0</td>\n",
       "      <td>0.0</td>\n",
       "      <td>0.0</td>\n",
       "      <td>0.0</td>\n",
       "      <td>0.0</td>\n",
       "      <td>0.0</td>\n",
       "      <td>0.0</td>\n",
       "      <td>0.0</td>\n",
       "      <td>0.0</td>\n",
       "      <td>0.0</td>\n",
       "      <td>1.0</td>\n",
       "      <td>0.0</td>\n",
       "      <td>0.0</td>\n",
       "      <td>0.0</td>\n",
       "      <td>0.0</td>\n",
       "    </tr>\n",
       "    <tr>\n",
       "      <th>174</th>\n",
       "      <td>aa_3_aug_1</td>\n",
       "      <td>0.0</td>\n",
       "      <td>0.0</td>\n",
       "      <td>0.0</td>\n",
       "      <td>0.0</td>\n",
       "      <td>0.0</td>\n",
       "      <td>0.0</td>\n",
       "      <td>1.0</td>\n",
       "      <td>0.0</td>\n",
       "      <td>0.0</td>\n",
       "      <td>0.0</td>\n",
       "      <td>0.0</td>\n",
       "      <td>0.0</td>\n",
       "      <td>1.0</td>\n",
       "      <td>0.0</td>\n",
       "      <td>0.0</td>\n",
       "      <td>0.0</td>\n",
       "      <td>0.0</td>\n",
       "    </tr>\n",
       "    <tr>\n",
       "      <th>175</th>\n",
       "      <td>aa_3_aug_2</td>\n",
       "      <td>0.0</td>\n",
       "      <td>0.0</td>\n",
       "      <td>0.0</td>\n",
       "      <td>0.0</td>\n",
       "      <td>0.0</td>\n",
       "      <td>0.0</td>\n",
       "      <td>1.0</td>\n",
       "      <td>0.0</td>\n",
       "      <td>0.0</td>\n",
       "      <td>0.0</td>\n",
       "      <td>0.0</td>\n",
       "      <td>0.0</td>\n",
       "      <td>1.0</td>\n",
       "      <td>0.0</td>\n",
       "      <td>0.0</td>\n",
       "      <td>0.0</td>\n",
       "      <td>0.0</td>\n",
       "    </tr>\n",
       "    <tr>\n",
       "      <th>176</th>\n",
       "      <td>aa_3_aug_3</td>\n",
       "      <td>0.0</td>\n",
       "      <td>0.0</td>\n",
       "      <td>0.0</td>\n",
       "      <td>0.0</td>\n",
       "      <td>0.0</td>\n",
       "      <td>0.0</td>\n",
       "      <td>1.0</td>\n",
       "      <td>0.0</td>\n",
       "      <td>0.0</td>\n",
       "      <td>0.0</td>\n",
       "      <td>0.0</td>\n",
       "      <td>0.0</td>\n",
       "      <td>1.0</td>\n",
       "      <td>0.0</td>\n",
       "      <td>0.0</td>\n",
       "      <td>0.0</td>\n",
       "      <td>0.0</td>\n",
       "    </tr>\n",
       "    <tr>\n",
       "      <th>177</th>\n",
       "      <td>Total</td>\n",
       "      <td>NaN</td>\n",
       "      <td>NaN</td>\n",
       "      <td>NaN</td>\n",
       "      <td>NaN</td>\n",
       "      <td>NaN</td>\n",
       "      <td>NaN</td>\n",
       "      <td>NaN</td>\n",
       "      <td>NaN</td>\n",
       "      <td>NaN</td>\n",
       "      <td>NaN</td>\n",
       "      <td>NaN</td>\n",
       "      <td>NaN</td>\n",
       "      <td>NaN</td>\n",
       "      <td>NaN</td>\n",
       "      <td>NaN</td>\n",
       "      <td>NaN</td>\n",
       "      <td>NaN</td>\n",
       "    </tr>\n",
       "  </tbody>\n",
       "</table>\n",
       "<p>178 rows × 18 columns</p>\n",
       "</div>"
      ],
      "text/plain": [
       "        Doc Name  POCSO-2012  IPC-509  IPC-504  IPC-354  IPC-354A  IPC-498A  \\\n",
       "0        women_1         0.0      0.0      0.0      0.0       0.0       0.0   \n",
       "1        women_2         0.0      0.0      0.0      0.0       0.0       1.0   \n",
       "2        women_3         0.0      0.0      0.0      0.0       0.0       0.0   \n",
       "3        women_4         0.0      0.0      0.0      0.0       0.0       0.0   \n",
       "4        women_5         0.0      0.0      0.0      0.0       0.0       1.0   \n",
       "..           ...         ...      ...      ...      ...       ...       ...   \n",
       "173  aa_14_aug_3         0.0      0.0      0.0      0.0       0.0       0.0   \n",
       "174   aa_3_aug_1         0.0      0.0      0.0      0.0       0.0       0.0   \n",
       "175   aa_3_aug_2         0.0      0.0      0.0      0.0       0.0       0.0   \n",
       "176   aa_3_aug_3         0.0      0.0      0.0      0.0       0.0       0.0   \n",
       "177        Total         NaN      NaN      NaN      NaN       NaN       NaN   \n",
       "\n",
       "     IPC-302  IPC-376  DPA  DVA  IPC-34  IPC 307  IPC 313  IPC 109  IPC 324  \\\n",
       "0        0.0      0.0  0.0  1.0     0.0      0.0      0.0      0.0      0.0   \n",
       "1        0.0      0.0  0.0  0.0     0.0      0.0      0.0      0.0      0.0   \n",
       "2        0.0      0.0  0.0  1.0     0.0      0.0      0.0      0.0      0.0   \n",
       "3        0.0      0.0  0.0  1.0     0.0      0.0      0.0      0.0      0.0   \n",
       "4        0.0      0.0  0.0  0.0     0.0      0.0      0.0      0.0      0.0   \n",
       "..       ...      ...  ...  ...     ...      ...      ...      ...      ...   \n",
       "173      0.0      0.0  0.0  0.0     0.0      0.0      1.0      0.0      0.0   \n",
       "174      1.0      0.0  0.0  0.0     0.0      0.0      1.0      0.0      0.0   \n",
       "175      1.0      0.0  0.0  0.0     0.0      0.0      1.0      0.0      0.0   \n",
       "176      1.0      0.0  0.0  0.0     0.0      0.0      1.0      0.0      0.0   \n",
       "177      NaN      NaN  NaN  NaN     NaN      NaN      NaN      NaN      NaN   \n",
       "\n",
       "     IPC 326  IPC 323  \n",
       "0        0.0      0.0  \n",
       "1        0.0      0.0  \n",
       "2        0.0      0.0  \n",
       "3        0.0      0.0  \n",
       "4        0.0      0.0  \n",
       "..       ...      ...  \n",
       "173      0.0      0.0  \n",
       "174      0.0      0.0  \n",
       "175      0.0      0.0  \n",
       "176      0.0      0.0  \n",
       "177      NaN      NaN  \n",
       "\n",
       "[178 rows x 18 columns]"
      ]
     },
     "execution_count": 7,
     "metadata": {},
     "output_type": "execute_result"
    }
   ],
   "source": [
    "sheet=pd.read_csv(\"legalBuddy - Sheet6.csv\")\n",
    "sheet"
   ]
  },
  {
   "cell_type": "code",
   "execution_count": 12,
   "metadata": {},
   "outputs": [
    {
     "data": {
      "text/plain": [
       "array(['women_1', 'women_2', 'women_3', 'women_4', 'women_5', 'women_6',\n",
       "       'women_7', 'women_8', 'women_9', 'women_10', 'aa_1', 'aa_2',\n",
       "       'aa_3', 'aa_4', 'aa_5', 'aa_6', 'aa_7', 'aa_8', 'aa_9', 'aa_10',\n",
       "       'aa_11', 'aa_12', 'aa_13', 'aa_14', 'aa_15', 'aa_16', 'aa_17',\n",
       "       'aa_18', 'aa_19', 'aa_20', 'aa_21', 'aa_22', 'aa_23', 'aa_24',\n",
       "       'aa_25', 'sh_1', 'sh_2', 'sh_3', 'sh_4', 'sh_5', 'sh_6', 'sh_7',\n",
       "       'sh_8', 'sh_9', 'sh_10', 'sh_11', 'sh_12', 'sh_13', 'sh_14',\n",
       "       'sh_15', 'sh_16', 'sh_17', 'sh_18', 'sh_19', 'sh_20', 'sh_21',\n",
       "       'sh_22', 'sh_23', 'sh_24', 'sh_25', 'aa_25_aug1', 'aa_25_aug2',\n",
       "       'aa_25_aug3', 'aa_25_aug4', 'sh_18_aug1', 'sh_18_aug2',\n",
       "       'sh_18_aug3', 'sh_18_aug4', 'women_1_aug_3', 'women_1_aug_2',\n",
       "       'women_1_aug_1', 'women_2_aug_3', 'women_2_aug_2', 'women_2_aug_1',\n",
       "       'women_3_aug_3', 'women_3_aug_2', 'women_3_aug_1', 'women_4_aug_3',\n",
       "       'women_4_aug_2', 'women_4_aug_1', 'women_5_aug_3', 'women_5_aug_2',\n",
       "       'women_5_aug_1', 'women_6_aug_3', 'women_6_aug_2', 'women_6_aug_1',\n",
       "       'women_7_aug_3', 'women_7_aug_2', 'women_7_aug_1', 'women_8_aug_3',\n",
       "       'women_8_aug_2', 'women_8_aug_1', 'women_9_aug_3', 'women_9_aug_2',\n",
       "       'women_9_aug_1', 'women_10_aug_3', 'women_10_aug_2',\n",
       "       'women_10_aug_1', 'sh_25_aug_5', 'sh_25_aug_4', 'sh_25_aug_3',\n",
       "       'sh_25_aug_2', 'sh_25_aug_1', 'sh_24_aug_4', 'sh_24_aug_3',\n",
       "       'sh_24_aug_2', 'sh_24_aug_1', 'sh_23_aug_5', 'sh_23_aug_4',\n",
       "       'sh_23_aug_3', 'sh_23_aug_2', 'sh_23_aug_1', 'aa_18_aug_1',\n",
       "       'aa_18_aug_2', 'aa_18_aug_3', 'aa_18_aug_4', 'aa_18_aug_5',\n",
       "       'aa_19_aug_1', 'aa_19_aug_2', 'aa_19_aug_3', 'aa_19_aug_4',\n",
       "       'aa_19_aug_5', 'aa_20_aug_1', 'aa_20_aug_2', 'aa_20_aug_3',\n",
       "       'aa_20_aug_4', 'aa_20_aug_5', 'aa_10_aug_1', 'aa_10_aug_2',\n",
       "       'aa_10_aug_3', 'aa_10_aug_4', 'aa_10_aug_5', 'sh_11_aug_1',\n",
       "       'sh_11_aug_2', 'sh_11_aug_3', 'sh_10_aug_1', 'sh_10_aug_2',\n",
       "       'sh_10_aug_3', 'sh_9_aug_1', 'sh_9_aug_2', 'sh_9_aug_3',\n",
       "       'sh_7_aug_1', 'sh_7_aug_2', 'sh_7_aug_3', 'dv_1', 'dv_2', 'dv_3',\n",
       "       'dv_4', 'dv_5', 'dv_6', 'dv_7', 'dv_8', 'dv_9', 'dv_10', 'dv_11',\n",
       "       'dv_12', 'dv_13', 'dv_14', 'dv_15', 'sh_8_aug_1', 'sh_8_aug_1',\n",
       "       'sh_8_aug_1', 'sh_12_aug_1', 'sh_12_aug_2', 'sh_12_aug_3',\n",
       "       'sh_13_aug_1', 'sh_13_aug_2', 'sh_13_aug_3', 'sh_22_aug_1',\n",
       "       'sh_22_aug_2', 'sh_22_aug_3', 'aa_14_aug_1', 'aa_14_aug_2',\n",
       "       'aa_14_aug_3', 'aa_3_aug_1', 'aa_3_aug_2', 'aa_3_aug_3'],\n",
       "      dtype=object)"
      ]
     },
     "execution_count": 12,
     "metadata": {},
     "output_type": "execute_result"
    }
   ],
   "source": [
    "docs_in_sheet=sheet.iloc[0:177,0].values\n",
    "docs_in_sheet"
   ]
  },
  {
   "cell_type": "code",
   "execution_count": 27,
   "metadata": {},
   "outputs": [
    {
     "data": {
      "text/plain": [
       "(177, 177)"
      ]
     },
     "execution_count": 27,
     "metadata": {},
     "output_type": "execute_result"
    }
   ],
   "source": [
    "len(docs_in_sheet),len(docs_in_folder)"
   ]
  },
  {
   "cell_type": "code",
   "execution_count": 21,
   "metadata": {},
   "outputs": [],
   "source": [
    "docs_in_sheet.sort()\n",
    "docs_in_folder.sort()"
   ]
  },
  {
   "cell_type": "code",
   "execution_count": 23,
   "metadata": {},
   "outputs": [],
   "source": [
    "docs_in_sheet=[doc+\".txt\" for doc in docs_in_sheet]"
   ]
  },
  {
   "cell_type": "code",
   "execution_count": 24,
   "metadata": {},
   "outputs": [
    {
     "data": {
      "text/plain": [
       "('aa_1.txt', 'aa_1.txt')"
      ]
     },
     "execution_count": 24,
     "metadata": {},
     "output_type": "execute_result"
    }
   ],
   "source": [
    "docs_in_folder[0],docs_in_sheet[0]"
   ]
  },
  {
   "cell_type": "code",
   "execution_count": 28,
   "metadata": {},
   "outputs": [
    {
     "name": "stdout",
     "output_type": "stream",
     "text": [
      "sh_8_aug_2.txt\n",
      "sh_8_aug_3.txt\n"
     ]
    }
   ],
   "source": [
    "for doc in docs_in_folder:\n",
    "    if(doc not in docs_in_sheet):\n",
    "        print(doc)"
   ]
  },
  {
   "cell_type": "markdown",
   "metadata": {},
   "source": [
    "# Testing"
   ]
  },
  {
   "cell_type": "code",
   "execution_count": 2,
   "metadata": {},
   "outputs": [],
   "source": [
    "import tensorflow as tf\n",
    "import tensorflow_hub as hub"
   ]
  },
  {
   "cell_type": "code",
   "execution_count": 5,
   "metadata": {},
   "outputs": [
    {
     "name": "stdout",
     "output_type": "stream",
     "text": [
      "Num GPUs Available: 1\n"
     ]
    }
   ],
   "source": [
    "print(\"Num GPUs Available:\", len(tf.config.experimental.list_physical_devices('GPU')))\n"
   ]
  },
  {
   "cell_type": "code",
   "execution_count": null,
   "metadata": {},
   "outputs": [],
   "source": [
    "import tensorflow_hub as hub\n",
    "embed=hub.load(\"https://tfhub.dev/google/universal-sentence-encoder/4\")"
   ]
  },
  {
   "cell_type": "code",
   "execution_count": null,
   "metadata": {},
   "outputs": [],
   "source": [
    "sentence_encoder_layer=hub.KerasLayer(\n",
    "    \"https://tfhub.dev/google/universal-sentence-encoder/4\",\n",
    "    input_shape=[],\n",
    "    dtype=tf.string,\n",
    "    name=\"USE\"\n",
    "    )"
   ]
  },
  {
   "cell_type": "code",
   "execution_count": 3,
   "metadata": {},
   "outputs": [
    {
     "name": "stdout",
     "output_type": "stream",
     "text": [
      "Model: \"model_2_enc\"\n",
      "_________________________________________________________________\n",
      " Layer (type)                Output Shape              Param #   \n",
      "=================================================================\n",
      " USE (KerasLayer)            (None, 512)               256797824 \n",
      "                                                                 \n",
      " dense (Dense)               (None, 17)                8721      \n",
      "                                                                 \n",
      "=================================================================\n",
      "Total params: 256,806,545\n",
      "Trainable params: 8,721\n",
      "Non-trainable params: 256,797,824\n",
      "_________________________________________________________________\n"
     ]
    }
   ],
   "source": [
    "custom_objects = {'KerasLayer': hub.KerasLayer}\n",
    "model = tf.keras.models.load_model(\"model_2(72% ts).h5\", custom_objects=custom_objects,compile=False)\n",
    "model.summary()"
   ]
  },
  {
   "cell_type": "code",
   "execution_count": 11,
   "metadata": {},
   "outputs": [
    {
     "name": "stderr",
     "output_type": "stream",
     "text": [
      "WARNING:absl:Function `_wrapped_model` contains input name(s) USE_input with unsupported characters which will be renamed to use_input in the SavedModel.\n"
     ]
    },
    {
     "name": "stdout",
     "output_type": "stream",
     "text": [
      "INFO:tensorflow:Assets written to: C:\\Users\\ndivy\\AppData\\Local\\Temp\\tmp1snmckke\\assets\n"
     ]
    },
    {
     "name": "stderr",
     "output_type": "stream",
     "text": [
      "INFO:tensorflow:Assets written to: C:\\Users\\ndivy\\AppData\\Local\\Temp\\tmp1snmckke\\assets\n"
     ]
    }
   ],
   "source": [
    "converter = tf.lite.TFLiteConverter.from_keras_model(model)\n",
    "converter.target_spec.supported_ops = [tf.lite.OpsSet.TFLITE_BUILTINS, tf.lite.OpsSet.SELECT_TF_OPS]\n",
    "converter.allow_custom_ops = True\n",
    "\n",
    "tflite_model = converter.convert()\n",
    "\n",
    "with open(\"converted_model.tflite\", \"wb\") as f:\n",
    "    f.write(tflite_model)"
   ]
  },
  {
   "cell_type": "code",
   "execution_count": 6,
   "metadata": {},
   "outputs": [
    {
     "name": "stderr",
     "output_type": "stream",
     "text": [
      "[nltk_data] Downloading package punkt to\n",
      "[nltk_data]     C:\\Users\\ndivy\\AppData\\Roaming\\nltk_data...\n",
      "[nltk_data]   Package punkt is already up-to-date!\n",
      "[nltk_data] Downloading package stopwords to\n",
      "[nltk_data]     C:\\Users\\ndivy\\AppData\\Roaming\\nltk_data...\n",
      "[nltk_data]   Package stopwords is already up-to-date!\n"
     ]
    }
   ],
   "source": [
    "#lower casing\n",
    "\n",
    "import nltk\n",
    "def lower_cased(sentences):\n",
    "  for i in range(len(sentences)):\n",
    "      sentences[i] = sentences[i].lower()\n",
    "  return sentences\n",
    "\n",
    "\n",
    "# sentences=lower_cased(sentences)\n",
    "from nltk.tokenize import word_tokenize\n",
    "import string\n",
    "nltk.download('punkt')\n",
    "\n",
    "def remove_punctuation(sentences):\n",
    "    cleaned_sentences = []\n",
    "    for sentence in sentences:\n",
    "        words = word_tokenize(sentence)\n",
    "        words_without_punct = [word for word in words if word not in string.punctuation]\n",
    "        sentence_without_punct = ' '.join(words_without_punct)\n",
    "        cleaned_sentences.append(sentence_without_punct)\n",
    "\n",
    "    return cleaned_sentences\n",
    "\n",
    "\n",
    "# sentences=remove_punctuation(sentences)\n",
    "# print(sentences[0])\n",
    "\n",
    "from nltk.corpus import stopwords\n",
    "nltk.download('stopwords')\n",
    "\n",
    "def remove_stopwords(sentences):\n",
    "    stop_words = set(stopwords.words('english'))\n",
    "    filtered_sentences = []\n",
    "\n",
    "    for sentence in sentences:\n",
    "        words = nltk.word_tokenize(sentence)\n",
    "        filtered_sentence = [word for word in words if word.lower() not in stop_words]\n",
    "        filtered_sentences.append(' '.join(filtered_sentence))\n",
    "\n",
    "    return filtered_sentences\n",
    "\n",
    "# sentences=remove_stopwords(sentences)\n",
    "\n"
   ]
  },
  {
   "cell_type": "code",
   "execution_count": 7,
   "metadata": {},
   "outputs": [],
   "source": [
    "def PreprocessingLayer(sentences: list[str]):\n",
    "  sentences=lower_cased(sentences)\n",
    "  sentences=remove_punctuation(sentences)\n",
    "  sentences=remove_stopwords(sentences)\n",
    "  return sentences\n",
    "\n"
   ]
  },
  {
   "cell_type": "code",
   "execution_count": 8,
   "metadata": {},
   "outputs": [],
   "source": [
    "CLASSES=['POCSO-2012', 'IPC-509', 'IPC-504', 'IPC-354', 'IPC-354A', 'IPC-498A',\n",
    "       'IPC-302', 'IPC-376', 'DPA', 'DVA', 'IPC-34', 'IPC 307', 'IPC 313',\n",
    "       'IPC 109', 'IPC 324', 'IPC 326', 'IPC 323']"
   ]
  },
  {
   "cell_type": "code",
   "execution_count": 9,
   "metadata": {},
   "outputs": [],
   "source": [
    "def predict(case, model, classes):\n",
    "    case = [case]\n",
    "    case = PreprocessingLayer(case)\n",
    "    pred = model.predict(case)[0]\n",
    "    top5_indices = np.argsort(pred)[::-1][:5]\n",
    "    top5_classes = classes[top5_indices]\n",
    "    top5_probabilities = pred[top5_indices]\n",
    "    print(\"\\nTop 5 Predicted Classes:\")\n",
    "    for i in range(5):\n",
    "        print(f\"{i + 1}. Class: {top5_classes[i]}, Probability: {top5_probabilities[i]:.4f}\")\n"
   ]
  },
  {
   "cell_type": "code",
   "execution_count": 10,
   "metadata": {},
   "outputs": [
    {
     "ename": "UnknownError",
     "evalue": "Graph execution error:\n\nJIT compilation failed.\n\t [[{{node EncoderDNN/EmbeddingLookup/EmbeddingLookupUnique/embedding_lookup/mod}}]] [Op:__inference_predict_function_5584]",
     "output_type": "error",
     "traceback": [
      "\u001b[1;31m---------------------------------------------------------------------------\u001b[0m",
      "\u001b[1;31mUnknownError\u001b[0m                              Traceback (most recent call last)",
      "\u001b[1;32mc:\\Div\\DA\\Legal Buddy\\Legal-Buddy\\notebook.ipynb Cell 20\u001b[0m line \u001b[0;36m9\n\u001b[0;32m      <a href='vscode-notebook-cell:/c%3A/Div/DA/Legal%20Buddy/Legal-Buddy/notebook.ipynb#X26sZmlsZQ%3D%3D?line=0'>1</a>\u001b[0m case\u001b[39m=\u001b[39m\u001b[39m\"\"\"\u001b[39m\n\u001b[0;32m      <a href='vscode-notebook-cell:/c%3A/Div/DA/Legal%20Buddy/Legal-Buddy/notebook.ipynb#X26sZmlsZQ%3D%3D?line=1'>2</a>\u001b[0m \u001b[39mCHENNAI: The two suspects involved in last week’s sexual harassment of women on the road have been arrested\u001b[39m\n\u001b[0;32m      <a href='vscode-notebook-cell:/c%3A/Div/DA/Legal%20Buddy/Legal-Buddy/notebook.ipynb#X26sZmlsZQ%3D%3D?line=2'>3</a>\u001b[0m \u001b[39m. While Ahmed Riyas, a 29-year-old software engineer, flashed at a woman software engineer in Perungudi, Yogeswaran, a 24-year-old bike taxi driver\u001b[39m\n\u001b[1;32m   (...)\u001b[0m\n\u001b[0;32m      <a href='vscode-notebook-cell:/c%3A/Div/DA/Legal%20Buddy/Legal-Buddy/notebook.ipynb#X26sZmlsZQ%3D%3D?line=6'>7</a>\u001b[0m \u001b[39m“We examined about 50 CCTV cameras and traced him entering the World Trade Centre where he worked at an MNC,” said an officer. Riyas was married and his wife stayed at Arakkonam with their one-year-old child.\u001b[39m\n\u001b[0;32m      <a href='vscode-notebook-cell:/c%3A/Div/DA/Legal%20Buddy/Legal-Buddy/notebook.ipynb#X26sZmlsZQ%3D%3D?line=7'>8</a>\u001b[0m \u001b[39m\"\"\"\u001b[39m\n\u001b[1;32m----> <a href='vscode-notebook-cell:/c%3A/Div/DA/Legal%20Buddy/Legal-Buddy/notebook.ipynb#X26sZmlsZQ%3D%3D?line=8'>9</a>\u001b[0m predict(case,model,CLASSES)\n",
      "\u001b[1;32mc:\\Div\\DA\\Legal Buddy\\Legal-Buddy\\notebook.ipynb Cell 20\u001b[0m line \u001b[0;36m4\n\u001b[0;32m      <a href='vscode-notebook-cell:/c%3A/Div/DA/Legal%20Buddy/Legal-Buddy/notebook.ipynb#X26sZmlsZQ%3D%3D?line=1'>2</a>\u001b[0m case \u001b[39m=\u001b[39m [case]\n\u001b[0;32m      <a href='vscode-notebook-cell:/c%3A/Div/DA/Legal%20Buddy/Legal-Buddy/notebook.ipynb#X26sZmlsZQ%3D%3D?line=2'>3</a>\u001b[0m case \u001b[39m=\u001b[39m PreprocessingLayer(case)\n\u001b[1;32m----> <a href='vscode-notebook-cell:/c%3A/Div/DA/Legal%20Buddy/Legal-Buddy/notebook.ipynb#X26sZmlsZQ%3D%3D?line=3'>4</a>\u001b[0m pred \u001b[39m=\u001b[39m model\u001b[39m.\u001b[39;49mpredict(case)[\u001b[39m0\u001b[39m]\n\u001b[0;32m      <a href='vscode-notebook-cell:/c%3A/Div/DA/Legal%20Buddy/Legal-Buddy/notebook.ipynb#X26sZmlsZQ%3D%3D?line=4'>5</a>\u001b[0m top5_indices \u001b[39m=\u001b[39m np\u001b[39m.\u001b[39margsort(pred)[::\u001b[39m-\u001b[39m\u001b[39m1\u001b[39m][:\u001b[39m5\u001b[39m]\n\u001b[0;32m      <a href='vscode-notebook-cell:/c%3A/Div/DA/Legal%20Buddy/Legal-Buddy/notebook.ipynb#X26sZmlsZQ%3D%3D?line=5'>6</a>\u001b[0m top5_classes \u001b[39m=\u001b[39m classes[top5_indices]\n",
      "File \u001b[1;32mc:\\Users\\ndivy\\AppData\\Local\\Programs\\Python\\Python310\\lib\\site-packages\\keras\\utils\\traceback_utils.py:70\u001b[0m, in \u001b[0;36mfilter_traceback.<locals>.error_handler\u001b[1;34m(*args, **kwargs)\u001b[0m\n\u001b[0;32m     67\u001b[0m     filtered_tb \u001b[39m=\u001b[39m _process_traceback_frames(e\u001b[39m.\u001b[39m__traceback__)\n\u001b[0;32m     68\u001b[0m     \u001b[39m# To get the full stack trace, call:\u001b[39;00m\n\u001b[0;32m     69\u001b[0m     \u001b[39m# `tf.debugging.disable_traceback_filtering()`\u001b[39;00m\n\u001b[1;32m---> 70\u001b[0m     \u001b[39mraise\u001b[39;00m e\u001b[39m.\u001b[39mwith_traceback(filtered_tb) \u001b[39mfrom\u001b[39;00m \u001b[39mNone\u001b[39m\n\u001b[0;32m     71\u001b[0m \u001b[39mfinally\u001b[39;00m:\n\u001b[0;32m     72\u001b[0m     \u001b[39mdel\u001b[39;00m filtered_tb\n",
      "File \u001b[1;32mc:\\Users\\ndivy\\AppData\\Local\\Programs\\Python\\Python310\\lib\\site-packages\\tensorflow\\python\\eager\\execute.py:54\u001b[0m, in \u001b[0;36mquick_execute\u001b[1;34m(op_name, num_outputs, inputs, attrs, ctx, name)\u001b[0m\n\u001b[0;32m     52\u001b[0m \u001b[39mtry\u001b[39;00m:\n\u001b[0;32m     53\u001b[0m   ctx\u001b[39m.\u001b[39mensure_initialized()\n\u001b[1;32m---> 54\u001b[0m   tensors \u001b[39m=\u001b[39m pywrap_tfe\u001b[39m.\u001b[39mTFE_Py_Execute(ctx\u001b[39m.\u001b[39m_handle, device_name, op_name,\n\u001b[0;32m     55\u001b[0m                                       inputs, attrs, num_outputs)\n\u001b[0;32m     56\u001b[0m \u001b[39mexcept\u001b[39;00m core\u001b[39m.\u001b[39m_NotOkStatusException \u001b[39mas\u001b[39;00m e:\n\u001b[0;32m     57\u001b[0m   \u001b[39mif\u001b[39;00m name \u001b[39mis\u001b[39;00m \u001b[39mnot\u001b[39;00m \u001b[39mNone\u001b[39;00m:\n",
      "\u001b[1;31mUnknownError\u001b[0m: Graph execution error:\n\nJIT compilation failed.\n\t [[{{node EncoderDNN/EmbeddingLookup/EmbeddingLookupUnique/embedding_lookup/mod}}]] [Op:__inference_predict_function_5584]"
     ]
    }
   ],
   "source": [
    "case=\"\"\"\n",
    "CHENNAI: The two suspects involved in last week’s sexual harassment of women on the road have been arrested\n",
    ". While Ahmed Riyas, a 29-year-old software engineer, flashed at a woman software engineer in Perungudi, Yogeswaran, a 24-year-old bike taxi driver\n",
    "\n",
    ", tried to sexually assault a schoolgirl on a deserted road in the T P Chatiram area last week. Yogeswaran had earlier abused more than 50 women and girls found walking alone on streets and roads, police said.\n",
    "Ahmed Riyas was tracked with the help of CCTV camera footage in the vicinity.\n",
    "“We examined about 50 CCTV cameras and traced him entering the World Trade Centre where he worked at an MNC,” said an officer. Riyas was married and his wife stayed at Arakkonam with their one-year-old child.\n",
    "\"\"\"\n",
    "predict(case,model,CLASSES)"
   ]
  }
 ],
 "metadata": {
  "kernelspec": {
   "display_name": "Python 3",
   "language": "python",
   "name": "python3"
  },
  "language_info": {
   "codemirror_mode": {
    "name": "ipython",
    "version": 3
   },
   "file_extension": ".py",
   "mimetype": "text/x-python",
   "name": "python",
   "nbconvert_exporter": "python",
   "pygments_lexer": "ipython3",
   "version": "3.10.8"
  }
 },
 "nbformat": 4,
 "nbformat_minor": 2
}
