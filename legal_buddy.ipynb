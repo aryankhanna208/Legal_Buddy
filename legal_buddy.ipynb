{
  "cells": [
    {
      "cell_type": "code",
      "execution_count": null,
      "metadata": {
        "id": "xw_SiZ228Aqn"
      },
      "outputs": [],
      "source": [
        "import tensorflow as tf\n",
        "import pandas as pd\n",
        "import numpy as np\n",
        "import os\n",
        "import nltk"
      ]
    },
    {
      "cell_type": "markdown",
      "metadata": {
        "id": "XzOatICZ5CGN"
      },
      "source": [
        "# Data Loading"
      ]
    },
    {
      "cell_type": "code",
      "execution_count": null,
      "metadata": {
        "colab": {
          "base_uri": "https://localhost:8080/",
          "height": 338
        },
        "id": "NPcynkLv5zu6",
        "outputId": "2548eaf1-897c-4ac4-de5e-070bec9d3938"
      },
      "outputs": [
        {
          "output_type": "error",
          "ename": "KeyboardInterrupt",
          "evalue": "ignored",
          "traceback": [
            "\u001b[0;31m---------------------------------------------------------------------------\u001b[0m",
            "\u001b[0;31mKeyboardInterrupt\u001b[0m                         Traceback (most recent call last)",
            "\u001b[0;32m<ipython-input-2-d5df0069828e>\u001b[0m in \u001b[0;36m<cell line: 2>\u001b[0;34m()\u001b[0m\n\u001b[1;32m      1\u001b[0m \u001b[0;32mfrom\u001b[0m \u001b[0mgoogle\u001b[0m\u001b[0;34m.\u001b[0m\u001b[0mcolab\u001b[0m \u001b[0;32mimport\u001b[0m \u001b[0mdrive\u001b[0m\u001b[0;34m\u001b[0m\u001b[0;34m\u001b[0m\u001b[0m\n\u001b[0;32m----> 2\u001b[0;31m \u001b[0mdrive\u001b[0m\u001b[0;34m.\u001b[0m\u001b[0mmount\u001b[0m\u001b[0;34m(\u001b[0m\u001b[0;34m'/content/drive'\u001b[0m\u001b[0;34m)\u001b[0m\u001b[0;34m\u001b[0m\u001b[0;34m\u001b[0m\u001b[0m\n\u001b[0m",
            "\u001b[0;32m/usr/local/lib/python3.10/dist-packages/google/colab/drive.py\u001b[0m in \u001b[0;36mmount\u001b[0;34m(mountpoint, force_remount, timeout_ms, readonly)\u001b[0m\n\u001b[1;32m    101\u001b[0m \u001b[0;32mdef\u001b[0m \u001b[0mmount\u001b[0m\u001b[0;34m(\u001b[0m\u001b[0mmountpoint\u001b[0m\u001b[0;34m,\u001b[0m \u001b[0mforce_remount\u001b[0m\u001b[0;34m=\u001b[0m\u001b[0;32mFalse\u001b[0m\u001b[0;34m,\u001b[0m \u001b[0mtimeout_ms\u001b[0m\u001b[0;34m=\u001b[0m\u001b[0;36m120000\u001b[0m\u001b[0;34m,\u001b[0m \u001b[0mreadonly\u001b[0m\u001b[0;34m=\u001b[0m\u001b[0;32mFalse\u001b[0m\u001b[0;34m)\u001b[0m\u001b[0;34m:\u001b[0m\u001b[0;34m\u001b[0m\u001b[0;34m\u001b[0m\u001b[0m\n\u001b[1;32m    102\u001b[0m   \u001b[0;34m\"\"\"Mount your Google Drive at the specified mountpoint path.\"\"\"\u001b[0m\u001b[0;34m\u001b[0m\u001b[0;34m\u001b[0m\u001b[0m\n\u001b[0;32m--> 103\u001b[0;31m   return _mount(\n\u001b[0m\u001b[1;32m    104\u001b[0m       \u001b[0mmountpoint\u001b[0m\u001b[0;34m,\u001b[0m\u001b[0;34m\u001b[0m\u001b[0;34m\u001b[0m\u001b[0m\n\u001b[1;32m    105\u001b[0m       \u001b[0mforce_remount\u001b[0m\u001b[0;34m=\u001b[0m\u001b[0mforce_remount\u001b[0m\u001b[0;34m,\u001b[0m\u001b[0;34m\u001b[0m\u001b[0;34m\u001b[0m\u001b[0m\n",
            "\u001b[0;32m/usr/local/lib/python3.10/dist-packages/google/colab/drive.py\u001b[0m in \u001b[0;36m_mount\u001b[0;34m(mountpoint, force_remount, timeout_ms, ephemeral, readonly)\u001b[0m\n\u001b[1;32m    130\u001b[0m   )\n\u001b[1;32m    131\u001b[0m   \u001b[0;32mif\u001b[0m \u001b[0mephemeral\u001b[0m\u001b[0;34m:\u001b[0m\u001b[0;34m\u001b[0m\u001b[0;34m\u001b[0m\u001b[0m\n\u001b[0;32m--> 132\u001b[0;31m     _message.blocking_request(\n\u001b[0m\u001b[1;32m    133\u001b[0m         \u001b[0;34m'request_auth'\u001b[0m\u001b[0;34m,\u001b[0m \u001b[0mrequest\u001b[0m\u001b[0;34m=\u001b[0m\u001b[0;34m{\u001b[0m\u001b[0;34m'authType'\u001b[0m\u001b[0;34m:\u001b[0m \u001b[0;34m'dfs_ephemeral'\u001b[0m\u001b[0;34m}\u001b[0m\u001b[0;34m,\u001b[0m \u001b[0mtimeout_sec\u001b[0m\u001b[0;34m=\u001b[0m\u001b[0;32mNone\u001b[0m\u001b[0;34m\u001b[0m\u001b[0;34m\u001b[0m\u001b[0m\n\u001b[1;32m    134\u001b[0m     )\n",
            "\u001b[0;32m/usr/local/lib/python3.10/dist-packages/google/colab/_message.py\u001b[0m in \u001b[0;36mblocking_request\u001b[0;34m(request_type, request, timeout_sec, parent)\u001b[0m\n\u001b[1;32m    174\u001b[0m       \u001b[0mrequest_type\u001b[0m\u001b[0;34m,\u001b[0m \u001b[0mrequest\u001b[0m\u001b[0;34m,\u001b[0m \u001b[0mparent\u001b[0m\u001b[0;34m=\u001b[0m\u001b[0mparent\u001b[0m\u001b[0;34m,\u001b[0m \u001b[0mexpect_reply\u001b[0m\u001b[0;34m=\u001b[0m\u001b[0;32mTrue\u001b[0m\u001b[0;34m\u001b[0m\u001b[0;34m\u001b[0m\u001b[0m\n\u001b[1;32m    175\u001b[0m   )\n\u001b[0;32m--> 176\u001b[0;31m   \u001b[0;32mreturn\u001b[0m \u001b[0mread_reply_from_input\u001b[0m\u001b[0;34m(\u001b[0m\u001b[0mrequest_id\u001b[0m\u001b[0;34m,\u001b[0m \u001b[0mtimeout_sec\u001b[0m\u001b[0;34m)\u001b[0m\u001b[0;34m\u001b[0m\u001b[0;34m\u001b[0m\u001b[0m\n\u001b[0m",
            "\u001b[0;32m/usr/local/lib/python3.10/dist-packages/google/colab/_message.py\u001b[0m in \u001b[0;36mread_reply_from_input\u001b[0;34m(message_id, timeout_sec)\u001b[0m\n\u001b[1;32m     94\u001b[0m     \u001b[0mreply\u001b[0m \u001b[0;34m=\u001b[0m \u001b[0m_read_next_input_message\u001b[0m\u001b[0;34m(\u001b[0m\u001b[0;34m)\u001b[0m\u001b[0;34m\u001b[0m\u001b[0;34m\u001b[0m\u001b[0m\n\u001b[1;32m     95\u001b[0m     \u001b[0;32mif\u001b[0m \u001b[0mreply\u001b[0m \u001b[0;34m==\u001b[0m \u001b[0m_NOT_READY\u001b[0m \u001b[0;32mor\u001b[0m \u001b[0;32mnot\u001b[0m \u001b[0misinstance\u001b[0m\u001b[0;34m(\u001b[0m\u001b[0mreply\u001b[0m\u001b[0;34m,\u001b[0m \u001b[0mdict\u001b[0m\u001b[0;34m)\u001b[0m\u001b[0;34m:\u001b[0m\u001b[0;34m\u001b[0m\u001b[0;34m\u001b[0m\u001b[0m\n\u001b[0;32m---> 96\u001b[0;31m       \u001b[0mtime\u001b[0m\u001b[0;34m.\u001b[0m\u001b[0msleep\u001b[0m\u001b[0;34m(\u001b[0m\u001b[0;36m0.025\u001b[0m\u001b[0;34m)\u001b[0m\u001b[0;34m\u001b[0m\u001b[0;34m\u001b[0m\u001b[0m\n\u001b[0m\u001b[1;32m     97\u001b[0m       \u001b[0;32mcontinue\u001b[0m\u001b[0;34m\u001b[0m\u001b[0;34m\u001b[0m\u001b[0m\n\u001b[1;32m     98\u001b[0m     if (\n",
            "\u001b[0;31mKeyboardInterrupt\u001b[0m: "
          ]
        }
      ],
      "source": [
        "from google.colab import drive\n",
        "drive.mount('/content/drive')"
      ]
    },
    {
      "cell_type": "code",
      "execution_count": null,
      "metadata": {
        "id": "2PfGGVnW77Sm"
      },
      "outputs": [],
      "source": [
        "# !unzip -q \"/content/drive/MyDrive/Women's files -20231119T153505Z-001.zip\"\n",
        "! unzip -q \"/content/Women_s files.zip\""
      ]
    },
    {
      "cell_type": "code",
      "execution_count": null,
      "metadata": {
        "id": "h2Y1GDkn7_ar"
      },
      "outputs": [],
      "source": [
        "DATASET_DIR=\"/content/Women_s files\"\n",
        "docs=os.listdir(DATASET_DIR)"
      ]
    },
    {
      "cell_type": "code",
      "execution_count": null,
      "metadata": {
        "colab": {
          "base_uri": "https://localhost:8080/"
        },
        "id": "E5gV-Apn8blh",
        "outputId": "c2180f81-b881-4e26-cdf9-0987302f04b6"
      },
      "outputs": [
        {
          "output_type": "execute_result",
          "data": {
            "text/plain": [
              "177"
            ]
          },
          "metadata": {},
          "execution_count": 4
        }
      ],
      "source": [
        "len(docs)"
      ]
    },
    {
      "cell_type": "markdown",
      "metadata": {
        "id": "f8dJjNzmXhjG"
      },
      "source": [
        "# Data Preprocessing"
      ]
    },
    {
      "cell_type": "code",
      "execution_count": null,
      "metadata": {
        "id": "kzWUfvzmZx0s"
      },
      "outputs": [],
      "source": [
        "#lower casing\n",
        "def lower_cased(sentences):\n",
        "  for i in range(len(sentences)):\n",
        "      sentences[i] = sentences[i].lower()\n",
        "  return sentences\n",
        "\n",
        "\n",
        "# sentences=lower_cased(sentences)"
      ]
    },
    {
      "cell_type": "code",
      "execution_count": null,
      "metadata": {
        "colab": {
          "base_uri": "https://localhost:8080/"
        },
        "id": "y0aogINBadX_",
        "outputId": "50af692d-e38b-4312-d7a5-0f1731a97b1a"
      },
      "outputs": [
        {
          "output_type": "stream",
          "name": "stderr",
          "text": [
            "[nltk_data] Downloading package punkt to /root/nltk_data...\n",
            "[nltk_data]   Unzipping tokenizers/punkt.zip.\n"
          ]
        }
      ],
      "source": [
        "from nltk.tokenize import word_tokenize\n",
        "import string\n",
        "nltk.download('punkt')\n",
        "\n",
        "def remove_punctuation(sentences):\n",
        "    cleaned_sentences = []\n",
        "    for sentence in sentences:\n",
        "        words = word_tokenize(sentence)\n",
        "        words_without_punct = [word for word in words if word not in string.punctuation]\n",
        "        sentence_without_punct = ' '.join(words_without_punct)\n",
        "        cleaned_sentences.append(sentence_without_punct)\n",
        "\n",
        "    return cleaned_sentences\n",
        "\n",
        "\n",
        "# sentences=remove_punctuation(sentences)\n",
        "# print(sentences[0])\n"
      ]
    },
    {
      "cell_type": "code",
      "execution_count": null,
      "metadata": {
        "colab": {
          "base_uri": "https://localhost:8080/"
        },
        "id": "BoR19V7wXW1q",
        "outputId": "e11497c1-2b07-49a7-c2ca-01be007a785c"
      },
      "outputs": [
        {
          "output_type": "stream",
          "name": "stderr",
          "text": [
            "[nltk_data] Downloading package stopwords to /root/nltk_data...\n",
            "[nltk_data]   Unzipping corpora/stopwords.zip.\n"
          ]
        }
      ],
      "source": [
        "from nltk.corpus import stopwords\n",
        "nltk.download('stopwords')\n",
        "\n",
        "def remove_stopwords(sentences):\n",
        "    stop_words = set(stopwords.words('english'))\n",
        "    filtered_sentences = []\n",
        "\n",
        "    for sentence in sentences:\n",
        "        words = nltk.word_tokenize(sentence)\n",
        "        filtered_sentence = [word for word in words if word.lower() not in stop_words]\n",
        "        filtered_sentences.append(' '.join(filtered_sentence))\n",
        "\n",
        "    return filtered_sentences\n",
        "\n",
        "# sentences=remove_stopwords(sentences)\n",
        "\n"
      ]
    },
    {
      "cell_type": "code",
      "execution_count": null,
      "metadata": {
        "id": "ldvxvdZEccQS"
      },
      "outputs": [],
      "source": [
        "def PreprocessingLayer(sentences: list[str]):\n",
        "  sentences=lower_cased(sentences)\n",
        "  sentences=remove_punctuation(sentences)\n",
        "  sentences=remove_stopwords(sentences)\n",
        "  return sentences\n",
        "\n"
      ]
    },
    {
      "cell_type": "markdown",
      "metadata": {
        "id": "0HwLWOSChlRe"
      },
      "source": [
        "### Word2Vec"
      ]
    },
    {
      "cell_type": "code",
      "execution_count": null,
      "metadata": {
        "id": "YavcmxNupFbn"
      },
      "outputs": [],
      "source": [
        "Y=pd.read_csv(\"/content/legalBuddy - Sheet6.csv\")\n",
        "NUM_CLASSES=Y.shape[1]-1\n",
        "CLASSES=Y.columns[1:]"
      ]
    },
    {
      "cell_type": "code",
      "execution_count": null,
      "metadata": {
        "colab": {
          "base_uri": "https://localhost:8080/"
        },
        "id": "wHHQhXVH012o",
        "outputId": "cd688b68-d096-44a2-a01e-f9e5ec4d0333"
      },
      "outputs": [
        {
          "output_type": "execute_result",
          "data": {
            "text/plain": [
              "Index(['POCSO-2012', 'IPC-509', 'IPC-504', 'IPC-354', 'IPC-354A', 'IPC-498A',\n",
              "       'IPC-302', 'IPC-376', 'DPA', 'DVA', 'IPC-34', 'IPC 307', 'IPC 313',\n",
              "       'IPC 109', 'IPC 324', 'IPC 326', 'IPC 323'],\n",
              "      dtype='object')"
            ]
          },
          "metadata": {},
          "execution_count": 10
        }
      ],
      "source": [
        "CLASSES"
      ]
    },
    {
      "cell_type": "code",
      "execution_count": null,
      "metadata": {
        "colab": {
          "base_uri": "https://localhost:8080/",
          "height": 423
        },
        "id": "oNRntRl6zitT",
        "outputId": "4c3bd4fa-e8c0-4704-987d-c2accefa6046"
      },
      "outputs": [
        {
          "output_type": "execute_result",
          "data": {
            "text/plain": [
              "        Doc Name  POCSO-2012  IPC-509  IPC-504  IPC-354  IPC-354A  IPC-498A  \\\n",
              "0        women_1         0.0      0.0      0.0      0.0       0.0       0.0   \n",
              "1        women_2         0.0      0.0      0.0      0.0       0.0       1.0   \n",
              "2        women_3         0.0      0.0      0.0      0.0       0.0       0.0   \n",
              "3        women_4         0.0      0.0      0.0      0.0       0.0       0.0   \n",
              "4        women_5         0.0      0.0      0.0      0.0       0.0       1.0   \n",
              "..           ...         ...      ...      ...      ...       ...       ...   \n",
              "173  aa_14_aug_3         0.0      0.0      0.0      0.0       0.0       0.0   \n",
              "174   aa_3_aug_1         0.0      0.0      0.0      0.0       0.0       0.0   \n",
              "175   aa_3_aug_2         0.0      0.0      0.0      0.0       0.0       0.0   \n",
              "176   aa_3_aug_3         0.0      0.0      0.0      0.0       0.0       0.0   \n",
              "177        Total         NaN      NaN      NaN      NaN       NaN       NaN   \n",
              "\n",
              "     IPC-302  IPC-376  DPA  DVA  IPC-34  IPC 307  IPC 313  IPC 109  IPC 324  \\\n",
              "0        0.0      0.0  0.0  1.0     0.0      0.0      0.0      0.0      0.0   \n",
              "1        0.0      0.0  0.0  0.0     0.0      0.0      0.0      0.0      0.0   \n",
              "2        0.0      0.0  0.0  1.0     0.0      0.0      0.0      0.0      0.0   \n",
              "3        0.0      0.0  0.0  1.0     0.0      0.0      0.0      0.0      0.0   \n",
              "4        0.0      0.0  0.0  0.0     0.0      0.0      0.0      0.0      0.0   \n",
              "..       ...      ...  ...  ...     ...      ...      ...      ...      ...   \n",
              "173      0.0      0.0  0.0  0.0     0.0      0.0      1.0      0.0      0.0   \n",
              "174      1.0      0.0  0.0  0.0     0.0      0.0      1.0      0.0      0.0   \n",
              "175      1.0      0.0  0.0  0.0     0.0      0.0      1.0      0.0      0.0   \n",
              "176      1.0      0.0  0.0  0.0     0.0      0.0      1.0      0.0      0.0   \n",
              "177      NaN      NaN  NaN  NaN     NaN      NaN      NaN      NaN      NaN   \n",
              "\n",
              "     IPC 326  IPC 323  \n",
              "0        0.0      0.0  \n",
              "1        0.0      0.0  \n",
              "2        0.0      0.0  \n",
              "3        0.0      0.0  \n",
              "4        0.0      0.0  \n",
              "..       ...      ...  \n",
              "173      0.0      0.0  \n",
              "174      0.0      0.0  \n",
              "175      0.0      0.0  \n",
              "176      0.0      0.0  \n",
              "177      NaN      NaN  \n",
              "\n",
              "[178 rows x 18 columns]"
            ],
            "text/html": [
              "\n",
              "  <div id=\"df-d0f14261-7829-4625-8086-efb4f653c7ee\" class=\"colab-df-container\">\n",
              "    <div>\n",
              "<style scoped>\n",
              "    .dataframe tbody tr th:only-of-type {\n",
              "        vertical-align: middle;\n",
              "    }\n",
              "\n",
              "    .dataframe tbody tr th {\n",
              "        vertical-align: top;\n",
              "    }\n",
              "\n",
              "    .dataframe thead th {\n",
              "        text-align: right;\n",
              "    }\n",
              "</style>\n",
              "<table border=\"1\" class=\"dataframe\">\n",
              "  <thead>\n",
              "    <tr style=\"text-align: right;\">\n",
              "      <th></th>\n",
              "      <th>Doc Name</th>\n",
              "      <th>POCSO-2012</th>\n",
              "      <th>IPC-509</th>\n",
              "      <th>IPC-504</th>\n",
              "      <th>IPC-354</th>\n",
              "      <th>IPC-354A</th>\n",
              "      <th>IPC-498A</th>\n",
              "      <th>IPC-302</th>\n",
              "      <th>IPC-376</th>\n",
              "      <th>DPA</th>\n",
              "      <th>DVA</th>\n",
              "      <th>IPC-34</th>\n",
              "      <th>IPC 307</th>\n",
              "      <th>IPC 313</th>\n",
              "      <th>IPC 109</th>\n",
              "      <th>IPC 324</th>\n",
              "      <th>IPC 326</th>\n",
              "      <th>IPC 323</th>\n",
              "    </tr>\n",
              "  </thead>\n",
              "  <tbody>\n",
              "    <tr>\n",
              "      <th>0</th>\n",
              "      <td>women_1</td>\n",
              "      <td>0.0</td>\n",
              "      <td>0.0</td>\n",
              "      <td>0.0</td>\n",
              "      <td>0.0</td>\n",
              "      <td>0.0</td>\n",
              "      <td>0.0</td>\n",
              "      <td>0.0</td>\n",
              "      <td>0.0</td>\n",
              "      <td>0.0</td>\n",
              "      <td>1.0</td>\n",
              "      <td>0.0</td>\n",
              "      <td>0.0</td>\n",
              "      <td>0.0</td>\n",
              "      <td>0.0</td>\n",
              "      <td>0.0</td>\n",
              "      <td>0.0</td>\n",
              "      <td>0.0</td>\n",
              "    </tr>\n",
              "    <tr>\n",
              "      <th>1</th>\n",
              "      <td>women_2</td>\n",
              "      <td>0.0</td>\n",
              "      <td>0.0</td>\n",
              "      <td>0.0</td>\n",
              "      <td>0.0</td>\n",
              "      <td>0.0</td>\n",
              "      <td>1.0</td>\n",
              "      <td>0.0</td>\n",
              "      <td>0.0</td>\n",
              "      <td>0.0</td>\n",
              "      <td>0.0</td>\n",
              "      <td>0.0</td>\n",
              "      <td>0.0</td>\n",
              "      <td>0.0</td>\n",
              "      <td>0.0</td>\n",
              "      <td>0.0</td>\n",
              "      <td>0.0</td>\n",
              "      <td>0.0</td>\n",
              "    </tr>\n",
              "    <tr>\n",
              "      <th>2</th>\n",
              "      <td>women_3</td>\n",
              "      <td>0.0</td>\n",
              "      <td>0.0</td>\n",
              "      <td>0.0</td>\n",
              "      <td>0.0</td>\n",
              "      <td>0.0</td>\n",
              "      <td>0.0</td>\n",
              "      <td>0.0</td>\n",
              "      <td>0.0</td>\n",
              "      <td>0.0</td>\n",
              "      <td>1.0</td>\n",
              "      <td>0.0</td>\n",
              "      <td>0.0</td>\n",
              "      <td>0.0</td>\n",
              "      <td>0.0</td>\n",
              "      <td>0.0</td>\n",
              "      <td>0.0</td>\n",
              "      <td>0.0</td>\n",
              "    </tr>\n",
              "    <tr>\n",
              "      <th>3</th>\n",
              "      <td>women_4</td>\n",
              "      <td>0.0</td>\n",
              "      <td>0.0</td>\n",
              "      <td>0.0</td>\n",
              "      <td>0.0</td>\n",
              "      <td>0.0</td>\n",
              "      <td>0.0</td>\n",
              "      <td>0.0</td>\n",
              "      <td>0.0</td>\n",
              "      <td>0.0</td>\n",
              "      <td>1.0</td>\n",
              "      <td>0.0</td>\n",
              "      <td>0.0</td>\n",
              "      <td>0.0</td>\n",
              "      <td>0.0</td>\n",
              "      <td>0.0</td>\n",
              "      <td>0.0</td>\n",
              "      <td>0.0</td>\n",
              "    </tr>\n",
              "    <tr>\n",
              "      <th>4</th>\n",
              "      <td>women_5</td>\n",
              "      <td>0.0</td>\n",
              "      <td>0.0</td>\n",
              "      <td>0.0</td>\n",
              "      <td>0.0</td>\n",
              "      <td>0.0</td>\n",
              "      <td>1.0</td>\n",
              "      <td>0.0</td>\n",
              "      <td>0.0</td>\n",
              "      <td>0.0</td>\n",
              "      <td>0.0</td>\n",
              "      <td>0.0</td>\n",
              "      <td>0.0</td>\n",
              "      <td>0.0</td>\n",
              "      <td>0.0</td>\n",
              "      <td>0.0</td>\n",
              "      <td>0.0</td>\n",
              "      <td>0.0</td>\n",
              "    </tr>\n",
              "    <tr>\n",
              "      <th>...</th>\n",
              "      <td>...</td>\n",
              "      <td>...</td>\n",
              "      <td>...</td>\n",
              "      <td>...</td>\n",
              "      <td>...</td>\n",
              "      <td>...</td>\n",
              "      <td>...</td>\n",
              "      <td>...</td>\n",
              "      <td>...</td>\n",
              "      <td>...</td>\n",
              "      <td>...</td>\n",
              "      <td>...</td>\n",
              "      <td>...</td>\n",
              "      <td>...</td>\n",
              "      <td>...</td>\n",
              "      <td>...</td>\n",
              "      <td>...</td>\n",
              "      <td>...</td>\n",
              "    </tr>\n",
              "    <tr>\n",
              "      <th>173</th>\n",
              "      <td>aa_14_aug_3</td>\n",
              "      <td>0.0</td>\n",
              "      <td>0.0</td>\n",
              "      <td>0.0</td>\n",
              "      <td>0.0</td>\n",
              "      <td>0.0</td>\n",
              "      <td>0.0</td>\n",
              "      <td>0.0</td>\n",
              "      <td>0.0</td>\n",
              "      <td>0.0</td>\n",
              "      <td>0.0</td>\n",
              "      <td>0.0</td>\n",
              "      <td>0.0</td>\n",
              "      <td>1.0</td>\n",
              "      <td>0.0</td>\n",
              "      <td>0.0</td>\n",
              "      <td>0.0</td>\n",
              "      <td>0.0</td>\n",
              "    </tr>\n",
              "    <tr>\n",
              "      <th>174</th>\n",
              "      <td>aa_3_aug_1</td>\n",
              "      <td>0.0</td>\n",
              "      <td>0.0</td>\n",
              "      <td>0.0</td>\n",
              "      <td>0.0</td>\n",
              "      <td>0.0</td>\n",
              "      <td>0.0</td>\n",
              "      <td>1.0</td>\n",
              "      <td>0.0</td>\n",
              "      <td>0.0</td>\n",
              "      <td>0.0</td>\n",
              "      <td>0.0</td>\n",
              "      <td>0.0</td>\n",
              "      <td>1.0</td>\n",
              "      <td>0.0</td>\n",
              "      <td>0.0</td>\n",
              "      <td>0.0</td>\n",
              "      <td>0.0</td>\n",
              "    </tr>\n",
              "    <tr>\n",
              "      <th>175</th>\n",
              "      <td>aa_3_aug_2</td>\n",
              "      <td>0.0</td>\n",
              "      <td>0.0</td>\n",
              "      <td>0.0</td>\n",
              "      <td>0.0</td>\n",
              "      <td>0.0</td>\n",
              "      <td>0.0</td>\n",
              "      <td>1.0</td>\n",
              "      <td>0.0</td>\n",
              "      <td>0.0</td>\n",
              "      <td>0.0</td>\n",
              "      <td>0.0</td>\n",
              "      <td>0.0</td>\n",
              "      <td>1.0</td>\n",
              "      <td>0.0</td>\n",
              "      <td>0.0</td>\n",
              "      <td>0.0</td>\n",
              "      <td>0.0</td>\n",
              "    </tr>\n",
              "    <tr>\n",
              "      <th>176</th>\n",
              "      <td>aa_3_aug_3</td>\n",
              "      <td>0.0</td>\n",
              "      <td>0.0</td>\n",
              "      <td>0.0</td>\n",
              "      <td>0.0</td>\n",
              "      <td>0.0</td>\n",
              "      <td>0.0</td>\n",
              "      <td>1.0</td>\n",
              "      <td>0.0</td>\n",
              "      <td>0.0</td>\n",
              "      <td>0.0</td>\n",
              "      <td>0.0</td>\n",
              "      <td>0.0</td>\n",
              "      <td>1.0</td>\n",
              "      <td>0.0</td>\n",
              "      <td>0.0</td>\n",
              "      <td>0.0</td>\n",
              "      <td>0.0</td>\n",
              "    </tr>\n",
              "    <tr>\n",
              "      <th>177</th>\n",
              "      <td>Total</td>\n",
              "      <td>NaN</td>\n",
              "      <td>NaN</td>\n",
              "      <td>NaN</td>\n",
              "      <td>NaN</td>\n",
              "      <td>NaN</td>\n",
              "      <td>NaN</td>\n",
              "      <td>NaN</td>\n",
              "      <td>NaN</td>\n",
              "      <td>NaN</td>\n",
              "      <td>NaN</td>\n",
              "      <td>NaN</td>\n",
              "      <td>NaN</td>\n",
              "      <td>NaN</td>\n",
              "      <td>NaN</td>\n",
              "      <td>NaN</td>\n",
              "      <td>NaN</td>\n",
              "      <td>NaN</td>\n",
              "    </tr>\n",
              "  </tbody>\n",
              "</table>\n",
              "<p>178 rows × 18 columns</p>\n",
              "</div>\n",
              "    <div class=\"colab-df-buttons\">\n",
              "\n",
              "  <div class=\"colab-df-container\">\n",
              "    <button class=\"colab-df-convert\" onclick=\"convertToInteractive('df-d0f14261-7829-4625-8086-efb4f653c7ee')\"\n",
              "            title=\"Convert this dataframe to an interactive table.\"\n",
              "            style=\"display:none;\">\n",
              "\n",
              "  <svg xmlns=\"http://www.w3.org/2000/svg\" height=\"24px\" viewBox=\"0 -960 960 960\">\n",
              "    <path d=\"M120-120v-720h720v720H120Zm60-500h600v-160H180v160Zm220 220h160v-160H400v160Zm0 220h160v-160H400v160ZM180-400h160v-160H180v160Zm440 0h160v-160H620v160ZM180-180h160v-160H180v160Zm440 0h160v-160H620v160Z\"/>\n",
              "  </svg>\n",
              "    </button>\n",
              "\n",
              "  <style>\n",
              "    .colab-df-container {\n",
              "      display:flex;\n",
              "      gap: 12px;\n",
              "    }\n",
              "\n",
              "    .colab-df-convert {\n",
              "      background-color: #E8F0FE;\n",
              "      border: none;\n",
              "      border-radius: 50%;\n",
              "      cursor: pointer;\n",
              "      display: none;\n",
              "      fill: #1967D2;\n",
              "      height: 32px;\n",
              "      padding: 0 0 0 0;\n",
              "      width: 32px;\n",
              "    }\n",
              "\n",
              "    .colab-df-convert:hover {\n",
              "      background-color: #E2EBFA;\n",
              "      box-shadow: 0px 1px 2px rgba(60, 64, 67, 0.3), 0px 1px 3px 1px rgba(60, 64, 67, 0.15);\n",
              "      fill: #174EA6;\n",
              "    }\n",
              "\n",
              "    .colab-df-buttons div {\n",
              "      margin-bottom: 4px;\n",
              "    }\n",
              "\n",
              "    [theme=dark] .colab-df-convert {\n",
              "      background-color: #3B4455;\n",
              "      fill: #D2E3FC;\n",
              "    }\n",
              "\n",
              "    [theme=dark] .colab-df-convert:hover {\n",
              "      background-color: #434B5C;\n",
              "      box-shadow: 0px 1px 3px 1px rgba(0, 0, 0, 0.15);\n",
              "      filter: drop-shadow(0px 1px 2px rgba(0, 0, 0, 0.3));\n",
              "      fill: #FFFFFF;\n",
              "    }\n",
              "  </style>\n",
              "\n",
              "    <script>\n",
              "      const buttonEl =\n",
              "        document.querySelector('#df-d0f14261-7829-4625-8086-efb4f653c7ee button.colab-df-convert');\n",
              "      buttonEl.style.display =\n",
              "        google.colab.kernel.accessAllowed ? 'block' : 'none';\n",
              "\n",
              "      async function convertToInteractive(key) {\n",
              "        const element = document.querySelector('#df-d0f14261-7829-4625-8086-efb4f653c7ee');\n",
              "        const dataTable =\n",
              "          await google.colab.kernel.invokeFunction('convertToInteractive',\n",
              "                                                    [key], {});\n",
              "        if (!dataTable) return;\n",
              "\n",
              "        const docLinkHtml = 'Like what you see? Visit the ' +\n",
              "          '<a target=\"_blank\" href=https://colab.research.google.com/notebooks/data_table.ipynb>data table notebook</a>'\n",
              "          + ' to learn more about interactive tables.';\n",
              "        element.innerHTML = '';\n",
              "        dataTable['output_type'] = 'display_data';\n",
              "        await google.colab.output.renderOutput(dataTable, element);\n",
              "        const docLink = document.createElement('div');\n",
              "        docLink.innerHTML = docLinkHtml;\n",
              "        element.appendChild(docLink);\n",
              "      }\n",
              "    </script>\n",
              "  </div>\n",
              "\n",
              "\n",
              "<div id=\"df-f2b38e2a-9e17-47c0-b33d-6e5bb73fa2dc\">\n",
              "  <button class=\"colab-df-quickchart\" onclick=\"quickchart('df-f2b38e2a-9e17-47c0-b33d-6e5bb73fa2dc')\"\n",
              "            title=\"Suggest charts\"\n",
              "            style=\"display:none;\">\n",
              "\n",
              "<svg xmlns=\"http://www.w3.org/2000/svg\" height=\"24px\"viewBox=\"0 0 24 24\"\n",
              "     width=\"24px\">\n",
              "    <g>\n",
              "        <path d=\"M19 3H5c-1.1 0-2 .9-2 2v14c0 1.1.9 2 2 2h14c1.1 0 2-.9 2-2V5c0-1.1-.9-2-2-2zM9 17H7v-7h2v7zm4 0h-2V7h2v10zm4 0h-2v-4h2v4z\"/>\n",
              "    </g>\n",
              "</svg>\n",
              "  </button>\n",
              "\n",
              "<style>\n",
              "  .colab-df-quickchart {\n",
              "      --bg-color: #E8F0FE;\n",
              "      --fill-color: #1967D2;\n",
              "      --hover-bg-color: #E2EBFA;\n",
              "      --hover-fill-color: #174EA6;\n",
              "      --disabled-fill-color: #AAA;\n",
              "      --disabled-bg-color: #DDD;\n",
              "  }\n",
              "\n",
              "  [theme=dark] .colab-df-quickchart {\n",
              "      --bg-color: #3B4455;\n",
              "      --fill-color: #D2E3FC;\n",
              "      --hover-bg-color: #434B5C;\n",
              "      --hover-fill-color: #FFFFFF;\n",
              "      --disabled-bg-color: #3B4455;\n",
              "      --disabled-fill-color: #666;\n",
              "  }\n",
              "\n",
              "  .colab-df-quickchart {\n",
              "    background-color: var(--bg-color);\n",
              "    border: none;\n",
              "    border-radius: 50%;\n",
              "    cursor: pointer;\n",
              "    display: none;\n",
              "    fill: var(--fill-color);\n",
              "    height: 32px;\n",
              "    padding: 0;\n",
              "    width: 32px;\n",
              "  }\n",
              "\n",
              "  .colab-df-quickchart:hover {\n",
              "    background-color: var(--hover-bg-color);\n",
              "    box-shadow: 0 1px 2px rgba(60, 64, 67, 0.3), 0 1px 3px 1px rgba(60, 64, 67, 0.15);\n",
              "    fill: var(--button-hover-fill-color);\n",
              "  }\n",
              "\n",
              "  .colab-df-quickchart-complete:disabled,\n",
              "  .colab-df-quickchart-complete:disabled:hover {\n",
              "    background-color: var(--disabled-bg-color);\n",
              "    fill: var(--disabled-fill-color);\n",
              "    box-shadow: none;\n",
              "  }\n",
              "\n",
              "  .colab-df-spinner {\n",
              "    border: 2px solid var(--fill-color);\n",
              "    border-color: transparent;\n",
              "    border-bottom-color: var(--fill-color);\n",
              "    animation:\n",
              "      spin 1s steps(1) infinite;\n",
              "  }\n",
              "\n",
              "  @keyframes spin {\n",
              "    0% {\n",
              "      border-color: transparent;\n",
              "      border-bottom-color: var(--fill-color);\n",
              "      border-left-color: var(--fill-color);\n",
              "    }\n",
              "    20% {\n",
              "      border-color: transparent;\n",
              "      border-left-color: var(--fill-color);\n",
              "      border-top-color: var(--fill-color);\n",
              "    }\n",
              "    30% {\n",
              "      border-color: transparent;\n",
              "      border-left-color: var(--fill-color);\n",
              "      border-top-color: var(--fill-color);\n",
              "      border-right-color: var(--fill-color);\n",
              "    }\n",
              "    40% {\n",
              "      border-color: transparent;\n",
              "      border-right-color: var(--fill-color);\n",
              "      border-top-color: var(--fill-color);\n",
              "    }\n",
              "    60% {\n",
              "      border-color: transparent;\n",
              "      border-right-color: var(--fill-color);\n",
              "    }\n",
              "    80% {\n",
              "      border-color: transparent;\n",
              "      border-right-color: var(--fill-color);\n",
              "      border-bottom-color: var(--fill-color);\n",
              "    }\n",
              "    90% {\n",
              "      border-color: transparent;\n",
              "      border-bottom-color: var(--fill-color);\n",
              "    }\n",
              "  }\n",
              "</style>\n",
              "\n",
              "  <script>\n",
              "    async function quickchart(key) {\n",
              "      const quickchartButtonEl =\n",
              "        document.querySelector('#' + key + ' button');\n",
              "      quickchartButtonEl.disabled = true;  // To prevent multiple clicks.\n",
              "      quickchartButtonEl.classList.add('colab-df-spinner');\n",
              "      try {\n",
              "        const charts = await google.colab.kernel.invokeFunction(\n",
              "            'suggestCharts', [key], {});\n",
              "      } catch (error) {\n",
              "        console.error('Error during call to suggestCharts:', error);\n",
              "      }\n",
              "      quickchartButtonEl.classList.remove('colab-df-spinner');\n",
              "      quickchartButtonEl.classList.add('colab-df-quickchart-complete');\n",
              "    }\n",
              "    (() => {\n",
              "      let quickchartButtonEl =\n",
              "        document.querySelector('#df-f2b38e2a-9e17-47c0-b33d-6e5bb73fa2dc button');\n",
              "      quickchartButtonEl.style.display =\n",
              "        google.colab.kernel.accessAllowed ? 'block' : 'none';\n",
              "    })();\n",
              "  </script>\n",
              "</div>\n",
              "    </div>\n",
              "  </div>\n"
            ]
          },
          "metadata": {},
          "execution_count": 11
        }
      ],
      "source": [
        "Y"
      ]
    },
    {
      "cell_type": "code",
      "execution_count": null,
      "metadata": {
        "colab": {
          "base_uri": "https://localhost:8080/"
        },
        "id": "B_HzGHSpQ2UL",
        "outputId": "0ce07004-842e-4737-d0ec-4fd3c9674476"
      },
      "outputs": [
        {
          "output_type": "execute_result",
          "data": {
            "text/plain": [
              "['women_1.txt',\n",
              " 'women_2.txt',\n",
              " 'women_3.txt',\n",
              " 'women_4.txt',\n",
              " 'women_5.txt',\n",
              " 'women_6.txt',\n",
              " 'women_7.txt',\n",
              " 'women_8.txt',\n",
              " 'women_9.txt',\n",
              " 'women_10.txt',\n",
              " 'aa_1.txt',\n",
              " 'aa_2.txt',\n",
              " 'aa_3.txt',\n",
              " 'aa_4.txt',\n",
              " 'aa_5.txt',\n",
              " 'aa_6.txt',\n",
              " 'aa_7.txt',\n",
              " 'aa_8.txt',\n",
              " 'aa_9.txt',\n",
              " 'aa_10.txt',\n",
              " 'aa_11.txt',\n",
              " 'aa_12.txt',\n",
              " 'aa_13.txt',\n",
              " 'aa_14.txt',\n",
              " 'aa_15.txt',\n",
              " 'aa_16.txt',\n",
              " 'aa_17.txt',\n",
              " 'aa_18.txt',\n",
              " 'aa_19.txt',\n",
              " 'aa_20.txt',\n",
              " 'aa_21.txt',\n",
              " 'aa_22.txt',\n",
              " 'aa_23.txt',\n",
              " 'aa_24.txt',\n",
              " 'aa_25.txt',\n",
              " 'sh_1.txt',\n",
              " 'sh_2.txt',\n",
              " 'sh_3.txt',\n",
              " 'sh_4.txt',\n",
              " 'sh_5.txt',\n",
              " 'sh_6.txt',\n",
              " 'sh_7.txt',\n",
              " 'sh_8.txt',\n",
              " 'sh_9.txt',\n",
              " 'sh_10.txt',\n",
              " 'sh_11.txt',\n",
              " 'sh_12.txt',\n",
              " 'sh_13.txt',\n",
              " 'sh_14.txt',\n",
              " 'sh_15.txt',\n",
              " 'sh_16.txt',\n",
              " 'sh_17.txt',\n",
              " 'sh_18.txt',\n",
              " 'sh_19.txt',\n",
              " 'sh_20.txt',\n",
              " 'sh_21.txt',\n",
              " 'sh_22.txt',\n",
              " 'sh_23.txt',\n",
              " 'sh_24.txt',\n",
              " 'sh_25.txt',\n",
              " 'aa_25_aug1.txt',\n",
              " 'aa_25_aug2.txt',\n",
              " 'aa_25_aug3.txt',\n",
              " 'aa_25_aug4.txt',\n",
              " 'sh_18_aug1.txt',\n",
              " 'sh_18_aug2.txt',\n",
              " 'sh_18_aug3.txt',\n",
              " 'sh_18_aug4.txt',\n",
              " 'women_1_aug_3.txt',\n",
              " 'women_1_aug_2.txt',\n",
              " 'women_1_aug_1.txt',\n",
              " 'women_2_aug_3.txt',\n",
              " 'women_2_aug_2.txt',\n",
              " 'women_2_aug_1.txt',\n",
              " 'women_3_aug_3.txt',\n",
              " 'women_3_aug_2.txt',\n",
              " 'women_3_aug_1.txt',\n",
              " 'women_4_aug_3.txt',\n",
              " 'women_4_aug_2.txt',\n",
              " 'women_4_aug_1.txt',\n",
              " 'women_5_aug_3.txt',\n",
              " 'women_5_aug_2.txt',\n",
              " 'women_5_aug_1.txt',\n",
              " 'women_6_aug_3.txt',\n",
              " 'women_6_aug_2.txt',\n",
              " 'women_6_aug_1.txt',\n",
              " 'women_7_aug_3.txt',\n",
              " 'women_7_aug_2.txt',\n",
              " 'women_7_aug_1.txt',\n",
              " 'women_8_aug_3.txt',\n",
              " 'women_8_aug_2.txt',\n",
              " 'women_8_aug_1.txt',\n",
              " 'women_9_aug_3.txt',\n",
              " 'women_9_aug_2.txt',\n",
              " 'women_9_aug_1.txt',\n",
              " 'women_10_aug_3.txt',\n",
              " 'women_10_aug_2.txt',\n",
              " 'women_10_aug_1.txt',\n",
              " 'sh_25_aug_5.txt',\n",
              " 'sh_25_aug_4.txt',\n",
              " 'sh_25_aug_3.txt',\n",
              " 'sh_25_aug_2.txt',\n",
              " 'sh_25_aug_1.txt',\n",
              " 'sh_24_aug_4.txt',\n",
              " 'sh_24_aug_3.txt',\n",
              " 'sh_24_aug_2.txt',\n",
              " 'sh_24_aug_1.txt',\n",
              " 'sh_23_aug_5.txt',\n",
              " 'sh_23_aug_4.txt',\n",
              " 'sh_23_aug_3.txt',\n",
              " 'sh_23_aug_2.txt',\n",
              " 'sh_23_aug_1.txt',\n",
              " 'aa_18_aug_1.txt',\n",
              " 'aa_18_aug_2.txt',\n",
              " 'aa_18_aug_3.txt',\n",
              " 'aa_18_aug_4.txt',\n",
              " 'aa_18_aug_5.txt',\n",
              " 'aa_19_aug_1.txt',\n",
              " 'aa_19_aug_2.txt',\n",
              " 'aa_19_aug_3.txt',\n",
              " 'aa_19_aug_4.txt',\n",
              " 'aa_19_aug_5.txt',\n",
              " 'aa_20_aug_1.txt',\n",
              " 'aa_20_aug_2.txt',\n",
              " 'aa_20_aug_3.txt',\n",
              " 'aa_20_aug_4.txt',\n",
              " 'aa_20_aug_5.txt',\n",
              " 'aa_10_aug_1.txt',\n",
              " 'aa_10_aug_2.txt',\n",
              " 'aa_10_aug_3.txt',\n",
              " 'aa_10_aug_4.txt',\n",
              " 'aa_10_aug_5.txt',\n",
              " 'sh_11_aug_1.txt',\n",
              " 'sh_11_aug_2.txt',\n",
              " 'sh_11_aug_3.txt',\n",
              " 'sh_10_aug_1.txt',\n",
              " 'sh_10_aug_2.txt',\n",
              " 'sh_10_aug_3.txt',\n",
              " 'sh_9_aug_1.txt',\n",
              " 'sh_9_aug_2.txt',\n",
              " 'sh_9_aug_3.txt',\n",
              " 'sh_7_aug_1.txt',\n",
              " 'sh_7_aug_2.txt',\n",
              " 'sh_7_aug_3.txt',\n",
              " 'dv_1.txt',\n",
              " 'dv_2.txt',\n",
              " 'dv_3.txt',\n",
              " 'dv_4.txt',\n",
              " 'dv_5.txt',\n",
              " 'dv_6.txt',\n",
              " 'dv_7.txt',\n",
              " 'dv_8.txt',\n",
              " 'dv_9.txt',\n",
              " 'dv_10.txt',\n",
              " 'dv_11.txt',\n",
              " 'dv_12.txt',\n",
              " 'dv_13.txt',\n",
              " 'dv_14.txt',\n",
              " 'dv_15.txt',\n",
              " 'sh_8_aug_1.txt',\n",
              " 'sh_8_aug_2.txt',\n",
              " 'sh_8_aug_3.txt',\n",
              " 'sh_12_aug_1.txt',\n",
              " 'sh_12_aug_2.txt',\n",
              " 'sh_12_aug_3.txt',\n",
              " 'sh_13_aug_1.txt',\n",
              " 'sh_13_aug_2.txt',\n",
              " 'sh_13_aug_3.txt',\n",
              " 'sh_22_aug_1.txt',\n",
              " 'sh_22_aug_2.txt',\n",
              " 'sh_22_aug_3.txt',\n",
              " 'aa_14_aug_1.txt',\n",
              " 'aa_14_aug_2.txt',\n",
              " 'aa_14_aug_3.txt',\n",
              " 'aa_3_aug_1.txt',\n",
              " 'aa_3_aug_2.txt',\n",
              " 'aa_3_aug_3.txt']"
            ]
          },
          "metadata": {},
          "execution_count": 12
        }
      ],
      "source": [
        "docs=[]\n",
        "for doc in Y.iloc[:-1,0]:\n",
        "  file=doc+\".txt\"\n",
        "  docs.append(file)\n",
        "docs"
      ]
    },
    {
      "cell_type": "code",
      "execution_count": null,
      "metadata": {
        "colab": {
          "base_uri": "https://localhost:8080/"
        },
        "id": "REUedAMGwQQu",
        "outputId": "de1734b6-5507-4b30-9b65-892a93cd6e79"
      },
      "outputs": [
        {
          "output_type": "execute_result",
          "data": {
            "text/plain": [
              "177"
            ]
          },
          "metadata": {},
          "execution_count": 13
        }
      ],
      "source": [
        "len(docs)"
      ]
    },
    {
      "cell_type": "code",
      "execution_count": null,
      "metadata": {
        "id": "ClcSMXjr9SD3"
      },
      "outputs": [],
      "source": [
        "sentences=[]\n",
        "for doc in docs:\n",
        "  path=os.path.join(DATASET_DIR,doc)\n",
        "  if(doc.endswith(\"txt\")):\n",
        "      file=open(path,\"r\")\n",
        "      sentences.append(file.read())\n",
        "      file.close()"
      ]
    },
    {
      "cell_type": "code",
      "execution_count": null,
      "metadata": {
        "colab": {
          "base_uri": "https://localhost:8080/"
        },
        "id": "MJ3L9GwEY3H1",
        "outputId": "d94fac1d-68f7-4ad5-81f0-da3c3841530e"
      },
      "outputs": [
        {
          "output_type": "stream",
          "name": "stdout",
          "text": [
            "Average words in a report : 128\n",
            "Max len : 826\n"
          ]
        }
      ],
      "source": [
        "avg_len=0\n",
        "total_words=0\n",
        "max_len=0\n",
        "for sent in sentences:\n",
        "  words=sent.split()\n",
        "  max_len=max(max_len,len(words))\n",
        "  total_words+=len(words)\n",
        "\n",
        "avg_len=total_words/len(sentences)\n",
        "print(\"Average words in a report :\",int(avg_len))\n",
        "print(\"Max len :\",int(max_len))\n",
        "#150, 150 ,150"
      ]
    },
    {
      "cell_type": "code",
      "execution_count": null,
      "metadata": {
        "colab": {
          "base_uri": "https://localhost:8080/"
        },
        "id": "m4wQMeybrItz",
        "outputId": "b359ed43-663d-4262-f2d7-12c103131f8f"
      },
      "outputs": [
        {
          "output_type": "execute_result",
          "data": {
            "text/plain": [
              "(177,)"
            ]
          },
          "metadata": {},
          "execution_count": 16
        }
      ],
      "source": [
        "X=sentences\n",
        "X=PreprocessingLayer(X)\n",
        "X=np.array(X)\n",
        "X.shape"
      ]
    },
    {
      "cell_type": "code",
      "execution_count": null,
      "metadata": {
        "id": "0GvV8ss6iEHG"
      },
      "outputs": [],
      "source": [
        "from tensorflow.keras.layers import TextVectorization\n",
        "MAX_VOCAB=10000\n",
        "MAX_LEN=500\n",
        "\n",
        "text_vectorizer=TextVectorization(max_tokens=MAX_VOCAB,\n",
        "                                  output_mode=\"int\",\n",
        "                                  output_sequence_length=MAX_LEN,\n",
        "                                  name=\"vectorization_layer\"\n",
        "                                  )\n",
        "text_vectorizer.adapt(sentences)"
      ]
    },
    {
      "cell_type": "code",
      "execution_count": null,
      "metadata": {
        "colab": {
          "base_uri": "https://localhost:8080/"
        },
        "id": "UDsxIcxqi-Kg",
        "outputId": "48e4fed8-3c8b-4fe0-984e-30affd04e905"
      },
      "outputs": [
        {
          "output_type": "execute_result",
          "data": {
            "text/plain": [
              "<tf.Tensor: shape=(500,), dtype=int64, numpy=\n",
              "array([   2,  226,   73,   11,   54,    2, 1453, 1584, 1974,   53,  532,\n",
              "          2,   13,    6, 2541,  239,    7,   23, 1619,    2,   40,   11,\n",
              "          7,    4, 1129,  271,   15, 1966,   29,   44,    4, 1597,   61,\n",
              "          2,  439, 1660, 2252,    2,   40,  371,  231,   22,    8, 1038,\n",
              "          9,   87,    2,  881,   34,   13, 1874, 1664,    8,   49,  291,\n",
              "       1517,  694,    5,   49,  632,    6,    8,  140,    2,   40,   43,\n",
              "         18,   96,    7,    2,   32,   13,   87,  136,    2,   34, 1219,\n",
              "        467,    6,   56, 2798,    5,  468,    7, 2943,    3,    2, 1102,\n",
              "          2,   40,  369,  454,    6,    2,   47,   13,    0,    0,    0,\n",
              "          0,    0,    0,    0,    0,    0,    0,    0,    0,    0,    0,\n",
              "          0,    0,    0,    0,    0,    0,    0,    0,    0,    0,    0,\n",
              "          0,    0,    0,    0,    0,    0,    0,    0,    0,    0,    0,\n",
              "          0,    0,    0,    0,    0,    0,    0,    0,    0,    0,    0,\n",
              "          0,    0,    0,    0,    0,    0,    0,    0,    0,    0,    0,\n",
              "          0,    0,    0,    0,    0,    0,    0,    0,    0,    0,    0,\n",
              "          0,    0,    0,    0,    0,    0,    0,    0,    0,    0,    0,\n",
              "          0,    0,    0,    0,    0,    0,    0,    0,    0,    0,    0,\n",
              "          0,    0,    0,    0,    0,    0,    0,    0,    0,    0,    0,\n",
              "          0,    0,    0,    0,    0,    0,    0,    0,    0,    0,    0,\n",
              "          0,    0,    0,    0,    0,    0,    0,    0,    0,    0,    0,\n",
              "          0,    0,    0,    0,    0,    0,    0,    0,    0,    0,    0,\n",
              "          0,    0,    0,    0,    0,    0,    0,    0,    0,    0,    0,\n",
              "          0,    0,    0,    0,    0,    0,    0,    0,    0,    0,    0,\n",
              "          0,    0,    0,    0,    0,    0,    0,    0,    0,    0,    0,\n",
              "          0,    0,    0,    0,    0,    0,    0,    0,    0,    0,    0,\n",
              "          0,    0,    0,    0,    0,    0,    0,    0,    0,    0,    0,\n",
              "          0,    0,    0,    0,    0,    0,    0,    0,    0,    0,    0,\n",
              "          0,    0,    0,    0,    0,    0,    0,    0,    0,    0,    0,\n",
              "          0,    0,    0,    0,    0,    0,    0,    0,    0,    0,    0,\n",
              "          0,    0,    0,    0,    0,    0,    0,    0,    0,    0,    0,\n",
              "          0,    0,    0,    0,    0,    0,    0,    0,    0,    0,    0,\n",
              "          0,    0,    0,    0,    0,    0,    0,    0,    0,    0,    0,\n",
              "          0,    0,    0,    0,    0,    0,    0,    0,    0,    0,    0,\n",
              "          0,    0,    0,    0,    0,    0,    0,    0,    0,    0,    0,\n",
              "          0,    0,    0,    0,    0,    0,    0,    0,    0,    0,    0,\n",
              "          0,    0,    0,    0,    0,    0,    0,    0,    0,    0,    0,\n",
              "          0,    0,    0,    0,    0,    0,    0,    0,    0,    0,    0,\n",
              "          0,    0,    0,    0,    0,    0,    0,    0,    0,    0,    0,\n",
              "          0,    0,    0,    0,    0,    0,    0,    0,    0,    0,    0,\n",
              "          0,    0,    0,    0,    0,    0,    0,    0,    0,    0,    0,\n",
              "          0,    0,    0,    0,    0,    0,    0,    0,    0,    0,    0,\n",
              "          0,    0,    0,    0,    0,    0,    0,    0,    0,    0,    0,\n",
              "          0,    0,    0,    0,    0,    0,    0,    0,    0,    0,    0,\n",
              "          0,    0,    0,    0,    0,    0,    0,    0,    0,    0,    0,\n",
              "          0,    0,    0,    0,    0,    0,    0,    0,    0,    0,    0,\n",
              "          0,    0,    0,    0,    0])>"
            ]
          },
          "metadata": {},
          "execution_count": 18
        }
      ],
      "source": [
        "text_vectorizer(sentences[0])"
      ]
    },
    {
      "cell_type": "markdown",
      "metadata": {
        "id": "_90ZsEIim8pg"
      },
      "source": [
        "### processing the target vector"
      ]
    },
    {
      "cell_type": "code",
      "execution_count": null,
      "metadata": {
        "colab": {
          "base_uri": "https://localhost:8080/"
        },
        "id": "mqJcqAYEpw3b",
        "outputId": "a3b9caa9-49ab-403e-ded5-adb4a7307117"
      },
      "outputs": [
        {
          "output_type": "execute_result",
          "data": {
            "text/plain": [
              "(177, 17)"
            ]
          },
          "metadata": {},
          "execution_count": 19
        }
      ],
      "source": [
        "Y=Y.iloc[:-1,1:].values\n",
        "Y.shape"
      ]
    },
    {
      "cell_type": "code",
      "execution_count": null,
      "metadata": {
        "colab": {
          "base_uri": "https://localhost:8080/"
        },
        "id": "rEZwP2a5rx1q",
        "outputId": "98a21b01-6a10-432b-9d22-ab35ce88fec0"
      },
      "outputs": [
        {
          "output_type": "stream",
          "name": "stdout",
          "text": [
            "(141,) (36,) (141, 17) (36, 17)\n"
          ]
        }
      ],
      "source": [
        "from sklearn.model_selection import train_test_split\n",
        "X_tr,X_ts,Y_tr,Y_ts=train_test_split(X,Y,test_size=0.2, random_state=42)\n",
        "print(X_tr.shape,X_ts.shape,Y_tr.shape,Y_ts.shape,)"
      ]
    },
    {
      "cell_type": "markdown",
      "metadata": {
        "id": "B4BIilnlrvYO"
      },
      "source": [
        "# Modelling"
      ]
    },
    {
      "cell_type": "code",
      "execution_count": null,
      "metadata": {
        "id": "IoKZEaeTyVuI"
      },
      "outputs": [],
      "source": [
        "import matplotlib.pyplot as plt\n",
        "\n",
        "def plot_history(history):\n",
        "    # Plot training & validation loss values\n",
        "    plt.figure(figsize=(12, 6))\n",
        "    plt.subplot(1, 2, 1)\n",
        "    plt.plot(history.history['loss'])\n",
        "    plt.plot(history.history['val_loss'])\n",
        "    plt.title('Model Loss')\n",
        "    plt.xlabel('Epoch')\n",
        "    plt.ylabel('Loss')\n",
        "    plt.legend(['Train', 'Validation'], loc='upper right')\n",
        "\n",
        "    # Plot training & validation accuracy values\n",
        "    plt.subplot(1, 2, 2)\n",
        "    plt.plot(history.history['accuracy'])\n",
        "    plt.plot(history.history['val_accuracy'])\n",
        "    plt.title('Model Accuracy')\n",
        "    plt.xlabel('Epoch')\n",
        "    plt.ylabel('Accuracy')\n",
        "    plt.legend(['Train', 'Validation'], loc='lower right')\n",
        "\n",
        "    plt.tight_layout()\n",
        "    plt.show()\n"
      ]
    },
    {
      "cell_type": "code",
      "execution_count": null,
      "metadata": {
        "id": "UcAzTzcbjPo6"
      },
      "outputs": [],
      "source": [
        "from tensorflow.keras.layers import Embedding\n",
        "embedding=Embedding(\n",
        "    input_dim=MAX_VOCAB,\n",
        "    output_dim=128,\n",
        "    embeddings_initializer=\"uniform\",\n",
        "    input_length=MAX_LEN,\n",
        "    name=\"embedding_layer\"\n",
        ")"
      ]
    },
    {
      "cell_type": "markdown",
      "metadata": {
        "id": "FveM3KtOspZe"
      },
      "source": [
        "### Model_1 LSTM"
      ]
    },
    {
      "cell_type": "code",
      "execution_count": null,
      "metadata": {
        "colab": {
          "base_uri": "https://localhost:8080/",
          "height": 533
        },
        "id": "LFrQAT-oso5C",
        "outputId": "9ac937f1-ff6f-489e-a8ff-fdcd923506b2"
      },
      "outputs": [
        {
          "output_type": "execute_result",
          "data": {
            "image/png": "[encoded data removed]",
            "text/plain": [
              "<IPython.core.display.Image object>"
            ]
          },
          "metadata": {},
          "execution_count": 24
        }
      ],
      "source": [
        "from tensorflow.keras import layers\n",
        "inputs=layers.Input(shape=(1,),dtype=\"string\")\n",
        "x=text_vectorizer(inputs)\n",
        "x=embedding(x)\n",
        "x=layers.LSTM(8)(x)\n",
        "outputs=layers.Dense(NUM_CLASSES,activation=\"softmax\")(x)\n",
        "model_1=tf.keras.Model(inputs,outputs,name=\"base_LSTM\")\n",
        "tf.keras.utils.plot_model(model_1,show_shapes=True)"
      ]
    },
    {
      "cell_type": "code",
      "execution_count": null,
      "metadata": {
        "colab": {
          "base_uri": "https://localhost:8080/"
        },
        "id": "ly_cuWYsxCYJ",
        "outputId": "8a118b2d-4382-46e0-bdef-1c359196295e"
      },
      "outputs": [
        {
          "output_type": "stream",
          "name": "stdout",
          "text": [
            "Model: \"base_LSTM\"\n",
            "_________________________________________________________________\n",
            " Layer (type)                Output Shape              Param #   \n",
            "=================================================================\n",
            " input_2 (InputLayer)        [(None, 1)]               0         \n",
            "                                                                 \n",
            " vectorization_layer (TextV  (None, 500)               0         \n",
            " ectorization)                                                   \n",
            "                                                                 \n",
            " embedding_layer (Embedding  (None, 500, 128)          1280000   \n",
            " )                                                               \n",
            "                                                                 \n",
            " lstm_1 (LSTM)               (None, 8)                 4384      \n",
            "                                                                 \n",
            " dense_1 (Dense)             (None, 17)                153       \n",
            "                                                                 \n",
            "=================================================================\n",
            "Total params: 1284537 (4.90 MB)\n",
            "Trainable params: 1284537 (4.90 MB)\n",
            "Non-trainable params: 0 (0.00 Byte)\n",
            "_________________________________________________________________\n"
          ]
        }
      ],
      "source": [
        "model_1.compile(loss=\"categorical_crossentropy\",\n",
        "                optimizer=tf.keras.optimizers.Adagrad(),\n",
        "                metrics=[\"accuracy\"])\n",
        "model_1.summary()"
      ]
    },
    {
      "cell_type": "code",
      "execution_count": null,
      "metadata": {
        "colab": {
          "base_uri": "https://localhost:8080/",
          "height": 1000
        },
        "id": "_0Fzj5R5xaGw",
        "outputId": "4419baad-0a30-4455-b29b-65bc87f4a3a3"
      },
      "outputs": [
        {
          "output_type": "stream",
          "name": "stdout",
          "text": [
            "Epoch 1/20\n",
            "5/5 [==============================] - 7s 200ms/step - loss: 4.5977 - accuracy: 0.0355 - val_loss: 5.3421 - val_accuracy: 0.0278\n",
            "Epoch 2/20\n",
            "5/5 [==============================] - 0s 79ms/step - loss: 4.5957 - accuracy: 0.0355 - val_loss: 5.3413 - val_accuracy: 0.0278\n",
            "Epoch 3/20\n",
            "5/5 [==============================] - 0s 92ms/step - loss: 4.5940 - accuracy: 0.0355 - val_loss: 5.3406 - val_accuracy: 0.0278\n",
            "Epoch 4/20\n",
            "5/5 [==============================] - 0s 113ms/step - loss: 4.5922 - accuracy: 0.0355 - val_loss: 5.3402 - val_accuracy: 0.0278\n",
            "Epoch 5/20\n",
            "5/5 [==============================] - 1s 129ms/step - loss: 4.5907 - accuracy: 0.0355 - val_loss: 5.3395 - val_accuracy: 0.0278\n",
            "Epoch 6/20\n",
            "5/5 [==============================] - 0s 94ms/step - loss: 4.5892 - accuracy: 0.0355 - val_loss: 5.3391 - val_accuracy: 0.0278\n",
            "Epoch 7/20\n",
            "5/5 [==============================] - 1s 123ms/step - loss: 4.5878 - accuracy: 0.0355 - val_loss: 5.3387 - val_accuracy: 0.0278\n",
            "Epoch 8/20\n",
            "5/5 [==============================] - 1s 120ms/step - loss: 4.5865 - accuracy: 0.0355 - val_loss: 5.3383 - val_accuracy: 0.0278\n",
            "Epoch 9/20\n",
            "5/5 [==============================] - 1s 104ms/step - loss: 4.5853 - accuracy: 0.0638 - val_loss: 5.3380 - val_accuracy: 0.0556\n",
            "Epoch 10/20\n",
            "5/5 [==============================] - 0s 82ms/step - loss: 4.5841 - accuracy: 0.1631 - val_loss: 5.3379 - val_accuracy: 0.0556\n",
            "Epoch 11/20\n",
            "5/5 [==============================] - 0s 83ms/step - loss: 4.5828 - accuracy: 0.1560 - val_loss: 5.3376 - val_accuracy: 0.0556\n",
            "Epoch 12/20\n",
            "5/5 [==============================] - 0s 67ms/step - loss: 4.5817 - accuracy: 0.1560 - val_loss: 5.3373 - val_accuracy: 0.0556\n",
            "Epoch 13/20\n",
            "5/5 [==============================] - 0s 69ms/step - loss: 4.5807 - accuracy: 0.1560 - val_loss: 5.3369 - val_accuracy: 0.0556\n",
            "Epoch 14/20\n",
            "5/5 [==============================] - 0s 69ms/step - loss: 4.5797 - accuracy: 0.1560 - val_loss: 5.3367 - val_accuracy: 0.0556\n",
            "Epoch 15/20\n",
            "5/5 [==============================] - 0s 68ms/step - loss: 4.5785 - accuracy: 0.1560 - val_loss: 5.3366 - val_accuracy: 0.0556\n",
            "Epoch 16/20\n",
            "5/5 [==============================] - 0s 80ms/step - loss: 4.5775 - accuracy: 0.1560 - val_loss: 5.3363 - val_accuracy: 0.0556\n",
            "Epoch 17/20\n",
            "5/5 [==============================] - 0s 83ms/step - loss: 4.5766 - accuracy: 0.1560 - val_loss: 5.3363 - val_accuracy: 0.0556\n",
            "Epoch 18/20\n",
            "5/5 [==============================] - 0s 82ms/step - loss: 4.5757 - accuracy: 0.1560 - val_loss: 5.3361 - val_accuracy: 0.0556\n",
            "Epoch 19/20\n",
            "5/5 [==============================] - 0s 68ms/step - loss: 4.5748 - accuracy: 0.1560 - val_loss: 5.3359 - val_accuracy: 0.0556\n",
            "Epoch 20/20\n",
            "5/5 [==============================] - 0s 81ms/step - loss: 4.5739 - accuracy: 0.1560 - val_loss: 5.3359 - val_accuracy: 0.0556\n"
          ]
        },
        {
          "output_type": "display_data",
          "data": {
            "text/plain": [
              "<Figure size 1200x600 with 2 Axes>"
            ],
            "image/png": "[encoded data removed]"
          },
          "metadata": {}
        }
      ],
      "source": [
        "model_1_history = model_1.fit(X_tr,Y_tr,\n",
        "                              epochs=20,\n",
        "                              validation_data=(X_ts,Y_ts)\n",
        "                             )\n",
        "plot_history(model_1_history)"
      ]
    },
    {
      "cell_type": "markdown",
      "metadata": {
        "id": "lMgrQuP6495Z"
      },
      "source": [
        "### Model 2 :Transfer Learning ( Universal Sentence Encoder)"
      ]
    },
    {
      "cell_type": "code",
      "execution_count": null,
      "metadata": {
        "id": "DBhgb2gT41RJ"
      },
      "outputs": [],
      "source": [
        "import tensorflow_hub as hub\n",
        "embed=hub.load(\"https://tfhub.dev/google/universal-sentence-encoder/4\")\n"
      ]
    },
    {
      "cell_type": "code",
      "execution_count": null,
      "metadata": {
        "id": "13RwquO8aUmH"
      },
      "outputs": [],
      "source": [
        "sentence_encoder_layer=hub.KerasLayer(\n",
        "    \"https://tfhub.dev/google/universal-sentence-encoder/4\",\n",
        "    input_shape=[],\n",
        "    dtype=tf.string,\n",
        "    name=\"USE\"\n",
        "    )"
      ]
    },
    {
      "cell_type": "code",
      "execution_count": null,
      "metadata": {
        "colab": {
          "base_uri": "https://localhost:8080/"
        },
        "id": "4Nv41Epy5BS4",
        "outputId": "70ef85a4-c471-4090-d705-c13a2b41cb47"
      },
      "outputs": [
        {
          "output_type": "stream",
          "name": "stdout",
          "text": [
            "Model: \"model_2_enc\"\n",
            "_________________________________________________________________\n",
            " Layer (type)                Output Shape              Param #   \n",
            "=================================================================\n",
            " USE (KerasLayer)            (None, 512)               256797824 \n",
            "                                                                 \n",
            " dense_2 (Dense)             (None, 17)                8721      \n",
            "                                                                 \n",
            "=================================================================\n",
            "Total params: 256806545 (979.64 MB)\n",
            "Trainable params: 8721 (34.07 KB)\n",
            "Non-trainable params: 256797824 (979.61 MB)\n",
            "_________________________________________________________________\n"
          ]
        }
      ],
      "source": [
        "from tensorflow.keras import layers\n",
        "model_2=tf.keras.Sequential([\n",
        "    sentence_encoder_layer,\n",
        "    layers.Dense(17,activation=\"softmax\")\n",
        "],name=\"model_2_enc\")\n",
        "\n",
        "model_2.compile(\n",
        "    loss=\"categorical_crossentropy\",\n",
        "    optimizer=\"adam\",\n",
        "    metrics=[\"accuracy\"]\n",
        ")\n",
        "model_2.summary()"
      ]
    },
    {
      "cell_type": "code",
      "execution_count": null,
      "metadata": {
        "colab": {
          "base_uri": "https://localhost:8080/",
          "height": 1000
        },
        "id": "GEEGDABH5OS6",
        "outputId": "0dc8eb68-3ff5-436c-f84a-3f440265d9c2"
      },
      "outputs": [
        {
          "output_type": "stream",
          "name": "stdout",
          "text": [
            "Epoch 1/120\n",
            "5/5 [==============================] - 6s 148ms/step - loss: 4.5953 - accuracy: 0.0426 - val_loss: 5.2896 - val_accuracy: 0.1944\n",
            "Epoch 2/120\n",
            "5/5 [==============================] - 0s 29ms/step - loss: 4.5371 - accuracy: 0.1418 - val_loss: 5.2443 - val_accuracy: 0.2778\n",
            "Epoch 3/120\n",
            "5/5 [==============================] - 0s 28ms/step - loss: 4.4868 - accuracy: 0.2128 - val_loss: 5.2018 - val_accuracy: 0.3611\n",
            "Epoch 4/120\n",
            "5/5 [==============================] - 0s 38ms/step - loss: 4.4388 - accuracy: 0.3546 - val_loss: 5.1610 - val_accuracy: 0.3611\n",
            "Epoch 5/120\n",
            "5/5 [==============================] - 0s 39ms/step - loss: 4.3926 - accuracy: 0.4610 - val_loss: 5.1220 - val_accuracy: 0.4722\n",
            "Epoch 6/120\n",
            "5/5 [==============================] - 0s 28ms/step - loss: 4.3480 - accuracy: 0.4894 - val_loss: 5.0851 - val_accuracy: 0.5278\n",
            "Epoch 7/120\n",
            "5/5 [==============================] - 0s 27ms/step - loss: 4.3063 - accuracy: 0.5106 - val_loss: 5.0516 - val_accuracy: 0.5556\n",
            "Epoch 8/120\n",
            "5/5 [==============================] - 0s 26ms/step - loss: 4.2656 - accuracy: 0.5319 - val_loss: 5.0189 - val_accuracy: 0.6111\n",
            "Epoch 9/120\n",
            "5/5 [==============================] - 0s 28ms/step - loss: 4.2255 - accuracy: 0.5390 - val_loss: 4.9866 - val_accuracy: 0.6111\n",
            "Epoch 10/120\n",
            "5/5 [==============================] - 0s 26ms/step - loss: 4.1868 - accuracy: 0.5674 - val_loss: 4.9543 - val_accuracy: 0.6111\n",
            "Epoch 11/120\n",
            "5/5 [==============================] - 0s 29ms/step - loss: 4.1491 - accuracy: 0.5816 - val_loss: 4.9233 - val_accuracy: 0.6389\n",
            "Epoch 12/120\n",
            "5/5 [==============================] - 0s 29ms/step - loss: 4.1140 - accuracy: 0.6028 - val_loss: 4.8940 - val_accuracy: 0.7222\n",
            "Epoch 13/120\n",
            "5/5 [==============================] - 0s 38ms/step - loss: 4.0789 - accuracy: 0.6312 - val_loss: 4.8657 - val_accuracy: 0.7222\n",
            "Epoch 14/120\n",
            "5/5 [==============================] - 0s 30ms/step - loss: 4.0440 - accuracy: 0.6170 - val_loss: 4.8365 - val_accuracy: 0.7222\n",
            "Epoch 15/120\n",
            "5/5 [==============================] - 0s 30ms/step - loss: 4.0105 - accuracy: 0.6241 - val_loss: 4.8089 - val_accuracy: 0.7222\n",
            "Epoch 16/120\n",
            "5/5 [==============================] - 0s 30ms/step - loss: 3.9783 - accuracy: 0.6383 - val_loss: 4.7828 - val_accuracy: 0.7500\n",
            "Epoch 17/120\n",
            "5/5 [==============================] - 0s 30ms/step - loss: 3.9452 - accuracy: 0.6454 - val_loss: 4.7552 - val_accuracy: 0.7778\n",
            "Epoch 18/120\n",
            "5/5 [==============================] - 0s 27ms/step - loss: 3.9135 - accuracy: 0.6525 - val_loss: 4.7294 - val_accuracy: 0.7500\n",
            "Epoch 19/120\n",
            "5/5 [==============================] - 0s 29ms/step - loss: 3.8830 - accuracy: 0.6454 - val_loss: 4.7041 - val_accuracy: 0.7500\n",
            "Epoch 20/120\n",
            "5/5 [==============================] - 0s 28ms/step - loss: 3.8529 - accuracy: 0.6525 - val_loss: 4.6783 - val_accuracy: 0.7778\n",
            "Epoch 21/120\n",
            "5/5 [==============================] - 0s 28ms/step - loss: 3.8235 - accuracy: 0.6809 - val_loss: 4.6524 - val_accuracy: 0.8056\n",
            "Epoch 22/120\n",
            "5/5 [==============================] - 0s 28ms/step - loss: 3.7945 - accuracy: 0.6879 - val_loss: 4.6266 - val_accuracy: 0.7500\n",
            "Epoch 23/120\n",
            "5/5 [==============================] - 0s 32ms/step - loss: 3.7659 - accuracy: 0.6809 - val_loss: 4.6022 - val_accuracy: 0.7778\n",
            "Epoch 24/120\n",
            "5/5 [==============================] - 0s 26ms/step - loss: 3.7380 - accuracy: 0.6667 - val_loss: 4.5779 - val_accuracy: 0.7778\n",
            "Epoch 25/120\n",
            "5/5 [==============================] - 0s 36ms/step - loss: 3.7103 - accuracy: 0.6667 - val_loss: 4.5527 - val_accuracy: 0.7500\n",
            "Epoch 26/120\n",
            "5/5 [==============================] - 0s 38ms/step - loss: 3.6838 - accuracy: 0.6667 - val_loss: 4.5306 - val_accuracy: 0.7222\n",
            "Epoch 27/120\n",
            "5/5 [==============================] - 0s 29ms/step - loss: 3.6571 - accuracy: 0.6667 - val_loss: 4.5073 - val_accuracy: 0.7778\n",
            "Epoch 28/120\n",
            "5/5 [==============================] - 0s 31ms/step - loss: 3.6309 - accuracy: 0.6525 - val_loss: 4.4823 - val_accuracy: 0.7778\n",
            "Epoch 29/120\n",
            "5/5 [==============================] - 0s 29ms/step - loss: 3.6045 - accuracy: 0.6667 - val_loss: 4.4609 - val_accuracy: 0.7778\n",
            "Epoch 30/120\n",
            "5/5 [==============================] - 0s 27ms/step - loss: 3.5798 - accuracy: 0.6667 - val_loss: 4.4408 - val_accuracy: 0.7500\n",
            "Epoch 31/120\n",
            "5/5 [==============================] - 0s 30ms/step - loss: 3.5548 - accuracy: 0.6667 - val_loss: 4.4188 - val_accuracy: 0.7222\n",
            "Epoch 32/120\n",
            "5/5 [==============================] - 0s 29ms/step - loss: 3.5305 - accuracy: 0.6596 - val_loss: 4.3982 - val_accuracy: 0.7222\n",
            "Epoch 33/120\n",
            "5/5 [==============================] - 0s 27ms/step - loss: 3.5064 - accuracy: 0.6596 - val_loss: 4.3778 - val_accuracy: 0.7222\n",
            "Epoch 34/120\n",
            "5/5 [==============================] - 0s 29ms/step - loss: 3.4831 - accuracy: 0.6738 - val_loss: 4.3578 - val_accuracy: 0.7222\n",
            "Epoch 35/120\n",
            "5/5 [==============================] - 0s 41ms/step - loss: 3.4594 - accuracy: 0.6738 - val_loss: 4.3370 - val_accuracy: 0.6944\n",
            "Epoch 36/120\n",
            "5/5 [==============================] - 0s 64ms/step - loss: 3.4367 - accuracy: 0.6738 - val_loss: 4.3168 - val_accuracy: 0.6944\n",
            "Epoch 37/120\n",
            "5/5 [==============================] - 1s 110ms/step - loss: 3.4145 - accuracy: 0.6809 - val_loss: 4.2975 - val_accuracy: 0.7222\n",
            "Epoch 38/120\n",
            "5/5 [==============================] - 0s 101ms/step - loss: 3.3920 - accuracy: 0.6809 - val_loss: 4.2778 - val_accuracy: 0.7500\n",
            "Epoch 39/120\n",
            "5/5 [==============================] - 0s 66ms/step - loss: 3.3702 - accuracy: 0.6809 - val_loss: 4.2587 - val_accuracy: 0.7222\n",
            "Epoch 40/120\n",
            "5/5 [==============================] - 0s 64ms/step - loss: 3.3488 - accuracy: 0.6809 - val_loss: 4.2399 - val_accuracy: 0.7500\n",
            "Epoch 41/120\n",
            "5/5 [==============================] - 0s 84ms/step - loss: 3.3270 - accuracy: 0.6809 - val_loss: 4.2226 - val_accuracy: 0.7222\n",
            "Epoch 42/120\n",
            "5/5 [==============================] - 0s 49ms/step - loss: 3.3059 - accuracy: 0.6809 - val_loss: 4.2055 - val_accuracy: 0.7222\n",
            "Epoch 43/120\n",
            "5/5 [==============================] - 0s 55ms/step - loss: 3.2852 - accuracy: 0.6667 - val_loss: 4.1882 - val_accuracy: 0.7222\n",
            "Epoch 44/120\n",
            "5/5 [==============================] - 0s 56ms/step - loss: 3.2644 - accuracy: 0.6667 - val_loss: 4.1703 - val_accuracy: 0.7222\n",
            "Epoch 45/120\n",
            "5/5 [==============================] - 0s 102ms/step - loss: 3.2440 - accuracy: 0.6667 - val_loss: 4.1510 - val_accuracy: 0.7222\n",
            "Epoch 46/120\n",
            "5/5 [==============================] - 0s 82ms/step - loss: 3.2240 - accuracy: 0.6667 - val_loss: 4.1322 - val_accuracy: 0.7222\n",
            "Epoch 47/120\n",
            "5/5 [==============================] - 0s 66ms/step - loss: 3.2034 - accuracy: 0.6738 - val_loss: 4.1137 - val_accuracy: 0.7222\n",
            "Epoch 48/120\n",
            "5/5 [==============================] - 0s 56ms/step - loss: 3.1836 - accuracy: 0.6667 - val_loss: 4.0970 - val_accuracy: 0.7222\n",
            "Epoch 49/120\n",
            "5/5 [==============================] - 0s 52ms/step - loss: 3.1641 - accuracy: 0.6667 - val_loss: 4.0804 - val_accuracy: 0.7222\n",
            "Epoch 50/120\n",
            "5/5 [==============================] - 0s 46ms/step - loss: 3.1448 - accuracy: 0.6525 - val_loss: 4.0626 - val_accuracy: 0.7222\n",
            "Epoch 51/120\n",
            "5/5 [==============================] - 0s 43ms/step - loss: 3.1257 - accuracy: 0.6525 - val_loss: 4.0461 - val_accuracy: 0.7222\n",
            "Epoch 52/120\n",
            "5/5 [==============================] - 0s 32ms/step - loss: 3.1068 - accuracy: 0.6525 - val_loss: 4.0294 - val_accuracy: 0.7222\n",
            "Epoch 53/120\n",
            "5/5 [==============================] - 0s 38ms/step - loss: 3.0880 - accuracy: 0.6667 - val_loss: 4.0113 - val_accuracy: 0.7222\n",
            "Epoch 54/120\n",
            "5/5 [==============================] - 0s 29ms/step - loss: 3.0700 - accuracy: 0.6525 - val_loss: 3.9942 - val_accuracy: 0.7222\n",
            "Epoch 55/120\n",
            "5/5 [==============================] - 0s 28ms/step - loss: 3.0516 - accuracy: 0.6454 - val_loss: 3.9782 - val_accuracy: 0.7222\n",
            "Epoch 56/120\n",
            "5/5 [==============================] - 0s 28ms/step - loss: 3.0342 - accuracy: 0.6454 - val_loss: 3.9625 - val_accuracy: 0.7222\n",
            "Epoch 57/120\n",
            "5/5 [==============================] - 0s 27ms/step - loss: 3.0168 - accuracy: 0.6525 - val_loss: 3.9475 - val_accuracy: 0.7500\n",
            "Epoch 58/120\n",
            "5/5 [==============================] - 0s 27ms/step - loss: 2.9993 - accuracy: 0.6809 - val_loss: 3.9332 - val_accuracy: 0.7500\n",
            "Epoch 59/120\n",
            "5/5 [==============================] - 0s 31ms/step - loss: 2.9827 - accuracy: 0.6809 - val_loss: 3.9178 - val_accuracy: 0.7500\n",
            "Epoch 60/120\n",
            "5/5 [==============================] - 0s 28ms/step - loss: 2.9660 - accuracy: 0.6809 - val_loss: 3.9033 - val_accuracy: 0.7500\n",
            "Epoch 61/120\n",
            "5/5 [==============================] - 0s 29ms/step - loss: 2.9494 - accuracy: 0.6809 - val_loss: 3.8870 - val_accuracy: 0.7500\n",
            "Epoch 62/120\n",
            "5/5 [==============================] - 0s 37ms/step - loss: 2.9326 - accuracy: 0.6809 - val_loss: 3.8719 - val_accuracy: 0.7500\n",
            "Epoch 63/120\n",
            "5/5 [==============================] - 0s 28ms/step - loss: 2.9164 - accuracy: 0.6879 - val_loss: 3.8571 - val_accuracy: 0.7500\n",
            "Epoch 64/120\n",
            "5/5 [==============================] - 0s 28ms/step - loss: 2.9005 - accuracy: 0.6879 - val_loss: 3.8424 - val_accuracy: 0.7500\n",
            "Epoch 65/120\n",
            "5/5 [==============================] - 0s 28ms/step - loss: 2.8842 - accuracy: 0.6950 - val_loss: 3.8269 - val_accuracy: 0.7500\n",
            "Epoch 66/120\n",
            "5/5 [==============================] - 0s 32ms/step - loss: 2.8685 - accuracy: 0.6950 - val_loss: 3.8113 - val_accuracy: 0.7500\n",
            "Epoch 67/120\n",
            "5/5 [==============================] - 0s 29ms/step - loss: 2.8528 - accuracy: 0.6950 - val_loss: 3.7950 - val_accuracy: 0.7500\n",
            "Epoch 68/120\n",
            "5/5 [==============================] - 0s 28ms/step - loss: 2.8367 - accuracy: 0.7021 - val_loss: 3.7788 - val_accuracy: 0.7778\n",
            "Epoch 69/120\n",
            "5/5 [==============================] - 0s 28ms/step - loss: 2.8212 - accuracy: 0.7021 - val_loss: 3.7648 - val_accuracy: 0.7500\n",
            "Epoch 70/120\n",
            "5/5 [==============================] - 0s 29ms/step - loss: 2.8060 - accuracy: 0.7092 - val_loss: 3.7498 - val_accuracy: 0.7500\n",
            "Epoch 71/120\n",
            "5/5 [==============================] - 0s 39ms/step - loss: 2.7910 - accuracy: 0.6950 - val_loss: 3.7354 - val_accuracy: 0.7500\n",
            "Epoch 72/120\n",
            "5/5 [==============================] - 0s 27ms/step - loss: 2.7766 - accuracy: 0.6950 - val_loss: 3.7220 - val_accuracy: 0.7500\n",
            "Epoch 73/120\n",
            "5/5 [==============================] - 0s 31ms/step - loss: 2.7619 - accuracy: 0.7021 - val_loss: 3.7087 - val_accuracy: 0.7500\n",
            "Epoch 74/120\n",
            "5/5 [==============================] - 0s 29ms/step - loss: 2.7480 - accuracy: 0.7021 - val_loss: 3.6962 - val_accuracy: 0.7500\n",
            "Epoch 75/120\n",
            "5/5 [==============================] - 0s 36ms/step - loss: 2.7341 - accuracy: 0.7021 - val_loss: 3.6832 - val_accuracy: 0.7500\n",
            "Epoch 76/120\n",
            "5/5 [==============================] - 0s 26ms/step - loss: 2.7201 - accuracy: 0.7021 - val_loss: 3.6700 - val_accuracy: 0.7500\n",
            "Epoch 77/120\n",
            "5/5 [==============================] - 0s 38ms/step - loss: 2.7069 - accuracy: 0.7021 - val_loss: 3.6582 - val_accuracy: 0.7778\n",
            "Epoch 78/120\n",
            "5/5 [==============================] - 0s 27ms/step - loss: 2.6932 - accuracy: 0.7021 - val_loss: 3.6450 - val_accuracy: 0.8056\n",
            "Epoch 79/120\n",
            "5/5 [==============================] - 0s 27ms/step - loss: 2.6801 - accuracy: 0.7163 - val_loss: 3.6325 - val_accuracy: 0.8056\n",
            "Epoch 80/120\n",
            "5/5 [==============================] - 0s 33ms/step - loss: 2.6671 - accuracy: 0.7021 - val_loss: 3.6210 - val_accuracy: 0.8056\n",
            "Epoch 81/120\n",
            "5/5 [==============================] - 0s 27ms/step - loss: 2.6539 - accuracy: 0.6950 - val_loss: 3.6091 - val_accuracy: 0.8333\n",
            "Epoch 82/120\n",
            "5/5 [==============================] - 0s 36ms/step - loss: 2.6409 - accuracy: 0.6950 - val_loss: 3.5969 - val_accuracy: 0.8056\n",
            "Epoch 83/120\n",
            "5/5 [==============================] - 0s 37ms/step - loss: 2.6279 - accuracy: 0.6950 - val_loss: 3.5850 - val_accuracy: 0.8056\n",
            "Epoch 84/120\n",
            "5/5 [==============================] - 0s 36ms/step - loss: 2.6149 - accuracy: 0.6950 - val_loss: 3.5740 - val_accuracy: 0.8333\n",
            "Epoch 85/120\n",
            "5/5 [==============================] - 0s 25ms/step - loss: 2.6027 - accuracy: 0.6950 - val_loss: 3.5631 - val_accuracy: 0.8333\n",
            "Epoch 86/120\n",
            "5/5 [==============================] - 0s 39ms/step - loss: 2.5904 - accuracy: 0.7021 - val_loss: 3.5516 - val_accuracy: 0.8333\n",
            "Epoch 87/120\n",
            "5/5 [==============================] - 0s 26ms/step - loss: 2.5779 - accuracy: 0.7021 - val_loss: 3.5403 - val_accuracy: 0.8333\n",
            "Epoch 88/120\n",
            "5/5 [==============================] - 0s 28ms/step - loss: 2.5657 - accuracy: 0.7021 - val_loss: 3.5270 - val_accuracy: 0.8333\n",
            "Epoch 89/120\n",
            "5/5 [==============================] - 0s 25ms/step - loss: 2.5534 - accuracy: 0.7092 - val_loss: 3.5164 - val_accuracy: 0.8333\n",
            "Epoch 90/120\n",
            "5/5 [==============================] - 0s 28ms/step - loss: 2.5413 - accuracy: 0.7163 - val_loss: 3.5032 - val_accuracy: 0.8333\n",
            "Epoch 91/120\n",
            "5/5 [==============================] - 0s 27ms/step - loss: 2.5291 - accuracy: 0.7234 - val_loss: 3.4912 - val_accuracy: 0.8333\n",
            "Epoch 92/120\n",
            "5/5 [==============================] - 0s 26ms/step - loss: 2.5173 - accuracy: 0.7234 - val_loss: 3.4788 - val_accuracy: 0.8333\n",
            "Epoch 93/120\n",
            "5/5 [==============================] - 0s 28ms/step - loss: 2.5064 - accuracy: 0.7234 - val_loss: 3.4648 - val_accuracy: 0.8056\n",
            "Epoch 94/120\n",
            "5/5 [==============================] - 0s 30ms/step - loss: 2.4938 - accuracy: 0.7163 - val_loss: 3.4536 - val_accuracy: 0.8056\n",
            "Epoch 95/120\n",
            "5/5 [==============================] - 0s 28ms/step - loss: 2.4822 - accuracy: 0.7092 - val_loss: 3.4427 - val_accuracy: 0.8056\n",
            "Epoch 96/120\n",
            "5/5 [==============================] - 0s 37ms/step - loss: 2.4713 - accuracy: 0.7092 - val_loss: 3.4321 - val_accuracy: 0.8056\n",
            "Epoch 97/120\n",
            "5/5 [==============================] - 0s 26ms/step - loss: 2.4602 - accuracy: 0.7021 - val_loss: 3.4208 - val_accuracy: 0.8056\n",
            "Epoch 98/120\n",
            "5/5 [==============================] - 0s 30ms/step - loss: 2.4490 - accuracy: 0.7021 - val_loss: 3.4103 - val_accuracy: 0.8056\n",
            "Epoch 99/120\n",
            "5/5 [==============================] - 0s 26ms/step - loss: 2.4381 - accuracy: 0.7021 - val_loss: 3.3986 - val_accuracy: 0.8056\n",
            "Epoch 100/120\n",
            "5/5 [==============================] - 0s 29ms/step - loss: 2.4271 - accuracy: 0.7021 - val_loss: 3.3883 - val_accuracy: 0.8056\n",
            "Epoch 101/120\n",
            "5/5 [==============================] - 0s 30ms/step - loss: 2.4168 - accuracy: 0.7092 - val_loss: 3.3788 - val_accuracy: 0.8056\n",
            "Epoch 102/120\n",
            "5/5 [==============================] - 0s 37ms/step - loss: 2.4067 - accuracy: 0.7092 - val_loss: 3.3698 - val_accuracy: 0.8056\n",
            "Epoch 103/120\n",
            "5/5 [==============================] - 0s 38ms/step - loss: 2.3962 - accuracy: 0.7092 - val_loss: 3.3603 - val_accuracy: 0.8056\n",
            "Epoch 104/120\n",
            "5/5 [==============================] - 0s 27ms/step - loss: 2.3864 - accuracy: 0.7092 - val_loss: 3.3515 - val_accuracy: 0.8056\n",
            "Epoch 105/120\n",
            "5/5 [==============================] - 0s 28ms/step - loss: 2.3764 - accuracy: 0.7092 - val_loss: 3.3423 - val_accuracy: 0.8056\n",
            "Epoch 106/120\n",
            "5/5 [==============================] - 0s 37ms/step - loss: 2.3663 - accuracy: 0.7092 - val_loss: 3.3320 - val_accuracy: 0.8056\n",
            "Epoch 107/120\n",
            "5/5 [==============================] - 0s 31ms/step - loss: 2.3562 - accuracy: 0.7092 - val_loss: 3.3220 - val_accuracy: 0.7778\n",
            "Epoch 108/120\n",
            "5/5 [==============================] - 0s 28ms/step - loss: 2.3463 - accuracy: 0.7163 - val_loss: 3.3111 - val_accuracy: 0.8056\n",
            "Epoch 109/120\n",
            "5/5 [==============================] - 0s 37ms/step - loss: 2.3362 - accuracy: 0.7163 - val_loss: 3.3018 - val_accuracy: 0.7778\n",
            "Epoch 110/120\n",
            "5/5 [==============================] - 0s 27ms/step - loss: 2.3266 - accuracy: 0.7163 - val_loss: 3.2920 - val_accuracy: 0.7778\n",
            "Epoch 111/120\n",
            "5/5 [==============================] - 0s 26ms/step - loss: 2.3174 - accuracy: 0.7163 - val_loss: 3.2831 - val_accuracy: 0.7778\n",
            "Epoch 112/120\n",
            "5/5 [==============================] - 0s 38ms/step - loss: 2.3079 - accuracy: 0.7163 - val_loss: 3.2721 - val_accuracy: 0.7778\n",
            "Epoch 113/120\n",
            "5/5 [==============================] - 0s 46ms/step - loss: 2.2980 - accuracy: 0.7163 - val_loss: 3.2620 - val_accuracy: 0.7778\n",
            "Epoch 114/120\n",
            "5/5 [==============================] - 0s 51ms/step - loss: 2.2887 - accuracy: 0.7163 - val_loss: 3.2526 - val_accuracy: 0.7778\n",
            "Epoch 115/120\n",
            "5/5 [==============================] - 0s 54ms/step - loss: 2.2798 - accuracy: 0.7163 - val_loss: 3.2430 - val_accuracy: 0.7778\n",
            "Epoch 116/120\n",
            "5/5 [==============================] - 0s 50ms/step - loss: 2.2708 - accuracy: 0.7163 - val_loss: 3.2346 - val_accuracy: 0.7778\n",
            "Epoch 117/120\n",
            "5/5 [==============================] - 0s 48ms/step - loss: 2.2619 - accuracy: 0.7163 - val_loss: 3.2258 - val_accuracy: 0.7778\n",
            "Epoch 118/120\n",
            "5/5 [==============================] - 0s 47ms/step - loss: 2.2532 - accuracy: 0.7163 - val_loss: 3.2180 - val_accuracy: 0.7778\n",
            "Epoch 119/120\n",
            "5/5 [==============================] - 0s 43ms/step - loss: 2.2448 - accuracy: 0.7163 - val_loss: 3.2072 - val_accuracy: 0.8056\n",
            "Epoch 120/120\n",
            "5/5 [==============================] - 0s 52ms/step - loss: 2.2355 - accuracy: 0.7163 - val_loss: 3.1975 - val_accuracy: 0.8056\n"
          ]
        },
        {
          "output_type": "display_data",
          "data": {
            "text/plain": [
              "<Figure size 1200x600 with 2 Axes>"
            ],
            "image/png": "[encoded data removed]"
          },
          "metadata": {}
        }
      ],
      "source": [
        "from tensorflow.keras.callbacks import ModelCheckpoint\n",
        "best_model_checkpoint = ModelCheckpoint(\"best.h5\", monitor=\"val_accuracy\", save_best_only=True, mode=\"max\", verbose=1)\n",
        "last_model_checkpoint = ModelCheckpoint(\"last.h5\", save_best_only=False, verbose=1)\n",
        "\n",
        "model_2_history = model_2.fit(X_tr,Y_tr,\n",
        "                              epochs=120,\n",
        "                              validation_data=(X_ts,Y_ts),\n",
        "                              # callbacks=[best_model_checkpoint, last_model_checkpoint]\n",
        "                             )\n",
        "plot_history(model_2_history)"
      ]
    },
    {
      "cell_type": "code",
      "execution_count": null,
      "metadata": {
        "colab": {
          "base_uri": "https://localhost:8080/"
        },
        "id": "XGV_GaG16u4H",
        "outputId": "cbcedd17-ba6d-44c8-e780-490f6fb201fb"
      },
      "outputs": [
        {
          "output_type": "stream",
          "name": "stderr",
          "text": [
            "/usr/local/lib/python3.10/dist-packages/keras/src/engine/training.py:3079: UserWarning: You are saving your model as an HDF5 file via `model.save()`. This file format is considered legacy. We recommend using instead the native Keras format, e.g. `model.save('my_model.keras')`.\n",
            "  saving_api.save_model(\n"
          ]
        }
      ],
      "source": [
        "model_2.save(\"model_2(n% ts).h5\")"
      ]
    },
    {
      "cell_type": "markdown",
      "metadata": {
        "id": "Y_TE2NqE0mK0"
      },
      "source": [
        "## Evaluating Model"
      ]
    },
    {
      "cell_type": "code",
      "execution_count": null,
      "metadata": {
        "id": "527Z7aNJ0w3R"
      },
      "outputs": [],
      "source": [
        "def predict(case, model, classes):\n",
        "    case = [case]\n",
        "    case = PreprocessingLayer(case)\n",
        "    pred = model.predict(case)[0]\n",
        "    top5_indices = np.argsort(pred)[::-1][:5]\n",
        "    top5_classes = classes[top5_indices]\n",
        "    top5_probabilities = pred[top5_indices]\n",
        "    print(\"\\nTop 5 Predicted Classes:\")\n",
        "    for i in range(5):\n",
        "        print(f\"{i + 1}. Class: {top5_classes[i]}, Probability: {top5_probabilities[i]:.4f}\")\n",
        "    return top5_classes,top5_probabilities\n"
      ]
    },
    {
      "cell_type": "markdown",
      "source": [
        "### example 1"
      ],
      "metadata": {
        "id": "LEGZytuHQdT4"
      }
    },
    {
      "cell_type": "code",
      "execution_count": null,
      "metadata": {
        "colab": {
          "base_uri": "https://localhost:8080/"
        },
        "id": "Ukd5Cv601BCl",
        "outputId": "6e3fc91b-b9e9-4c86-960c-767d046ca909"
      },
      "outputs": [
        {
          "output_type": "stream",
          "name": "stdout",
          "text": [
            "1/1 [==============================] - 0s 59ms/step\n",
            "\n",
            "Top 5 Predicted Classes:\n",
            "1. Class: POCSO-2012, Probability: 0.1788\n",
            "2. Class: IPC-354A, Probability: 0.1492\n",
            "3. Class: IPC-509, Probability: 0.1432\n",
            "4. Class: IPC-354, Probability: 0.1174\n",
            "5. Class: IPC-498A, Probability: 0.1082\n"
          ]
        },
        {
          "output_type": "execute_result",
          "data": {
            "text/plain": [
              "(Index(['POCSO-2012', 'IPC-354A', 'IPC-509', 'IPC-354', 'IPC-498A'], dtype='object'),\n",
              " array([0.17883947, 0.14922935, 0.14324829, 0.11742987, 0.10823463],\n",
              "       dtype=float32))"
            ]
          },
          "metadata": {},
          "execution_count": 35
        }
      ],
      "source": [
        "case=\"\"\"\n",
        "Bengaluru: A man allegedly murdered a 16-year-old youth for reportedly harassing his\n",
        " in Ashoknagar’s Subbanna Garden area Monday. The deceased is David from Vinayakanagar in Wilson Garden, police said.\n",
        " The accused, Manjunath, a cab driver, allegedly hit David with an iron rod and stabbed him with a knife.\n",
        " Police said David and Manjunath’s daughter were in a relationship for four years.\n",
        " A year ago, Manjunath and his family members learned about it and advised her to avoid meeting David. She listened to her parents but David continued to approach her. As the\n",
        "  intensified, Manjunath stopped sending his daughter to college and even shifted their residence from Vinayaka Nagar to Anepalya. David was forcing Manjunath to get him married to his daughter. He threatened to circulate the photos of him with his daughter, police said.\n",
        "  Manjunath called David on Monday to meet him in Subbanna Garden to discuss the matter. He warned David not to trouble his daughter. A heated argument broke out and Manjunath attacked David. Police arrested Manjunath based on a complaint by David’s father Vishwa. tnn\n",
        "\"\"\"\n",
        "predict(case,model_2,CLASSES)"
      ]
    },
    {
      "cell_type": "markdown",
      "source": [
        "### example 2"
      ],
      "metadata": {
        "id": "6GUeNo6UQg28"
      }
    },
    {
      "cell_type": "code",
      "source": [
        "case=\"\"\"\n",
        " have registered an offence against four of a family living in ,\n",
        " In her complaint, the woman said her husband and in-laws were demanding Rs 2 lakh balance amount towards the dowry.\n",
        "\"\"\"\n",
        "result,probabs=predict(case,model_2,CLASSES)"
      ],
      "metadata": {
        "colab": {
          "base_uri": "https://localhost:8080/"
        },
        "id": "WsELnru4QjBQ",
        "outputId": "0d376d54-484c-445b-c55e-fc4235904ce2"
      },
      "execution_count": null,
      "outputs": [
        {
          "output_type": "stream",
          "name": "stdout",
          "text": [
            "1/1 [==============================] - 0s 38ms/step\n",
            "\n",
            "Top 5 Predicted Classes:\n",
            "1. Class: IPC-498A, Probability: 0.4302\n",
            "2. Class: DVA, Probability: 0.2150\n",
            "3. Class: DPA, Probability: 0.1305\n",
            "4. Class: IPC 323, Probability: 0.0558\n",
            "5. Class: IPC-354A, Probability: 0.0291\n"
          ]
        }
      ]
    },
    {
      "cell_type": "markdown",
      "metadata": {
        "id": "RUcZ186oQAx2"
      },
      "source": [
        "### Model_3 LLM"
      ]
    },
    {
      "cell_type": "code",
      "source": [
        "!pip install transformers"
      ],
      "metadata": {
        "colab": {
          "base_uri": "https://localhost:8080/"
        },
        "id": "es3o98aHmdNN",
        "outputId": "587ce62a-bc85-4e0a-e159-5a275101497c"
      },
      "execution_count": null,
      "outputs": [
        {
          "output_type": "stream",
          "name": "stdout",
          "text": [
            "Requirement already satisfied: transformers in /usr/local/lib/python3.10/dist-packages (4.35.2)\n",
            "Requirement already satisfied: filelock in /usr/local/lib/python3.10/dist-packages (from transformers) (3.13.1)\n",
            "Requirement already satisfied: huggingface-hub<1.0,>=0.16.4 in /usr/local/lib/python3.10/dist-packages (from transformers) (0.19.4)\n",
            "Requirement already satisfied: numpy>=1.17 in /usr/local/lib/python3.10/dist-packages (from transformers) (1.23.5)\n",
            "Requirement already satisfied: packaging>=20.0 in /usr/local/lib/python3.10/dist-packages (from transformers) (23.2)\n",
            "Requirement already satisfied: pyyaml>=5.1 in /usr/local/lib/python3.10/dist-packages (from transformers) (6.0.1)\n",
            "Requirement already satisfied: regex!=2019.12.17 in /usr/local/lib/python3.10/dist-packages (from transformers) (2023.6.3)\n",
            "Requirement already satisfied: requests in /usr/local/lib/python3.10/dist-packages (from transformers) (2.31.0)\n",
            "Requirement already satisfied: tokenizers<0.19,>=0.14 in /usr/local/lib/python3.10/dist-packages (from transformers) (0.15.0)\n",
            "Requirement already satisfied: safetensors>=0.3.1 in /usr/local/lib/python3.10/dist-packages (from transformers) (0.4.0)\n",
            "Requirement already satisfied: tqdm>=4.27 in /usr/local/lib/python3.10/dist-packages (from transformers) (4.66.1)\n",
            "Requirement already satisfied: fsspec>=2023.5.0 in /usr/local/lib/python3.10/dist-packages (from huggingface-hub<1.0,>=0.16.4->transformers) (2023.6.0)\n",
            "Requirement already satisfied: typing-extensions>=3.7.4.3 in /usr/local/lib/python3.10/dist-packages (from huggingface-hub<1.0,>=0.16.4->transformers) (4.5.0)\n",
            "Requirement already satisfied: charset-normalizer<4,>=2 in /usr/local/lib/python3.10/dist-packages (from requests->transformers) (3.3.2)\n",
            "Requirement already satisfied: idna<4,>=2.5 in /usr/local/lib/python3.10/dist-packages (from requests->transformers) (3.4)\n",
            "Requirement already satisfied: urllib3<3,>=1.21.1 in /usr/local/lib/python3.10/dist-packages (from requests->transformers) (2.0.7)\n",
            "Requirement already satisfied: certifi>=2017.4.17 in /usr/local/lib/python3.10/dist-packages (from requests->transformers) (2023.7.22)\n"
          ]
        }
      ]
    },
    {
      "cell_type": "code",
      "source": [
        "from transformers import DistilBertTokenizerFast\n",
        "from transformers import TFDistilBertForSequenceClassification"
      ],
      "metadata": {
        "id": "xLaHdSe_mjcB"
      },
      "execution_count": null,
      "outputs": []
    },
    {
      "cell_type": "code",
      "source": [
        "tokenizer=DistilBertTokenizerFast.from_pretrained('distilbert-base-uncased')"
      ],
      "metadata": {
        "colab": {
          "base_uri": "https://localhost:8080/",
          "height": 145,
          "referenced_widgets": [
            "87a9fb45836c4d1e981c01f3f40f4ec4",
            "9b619eee0bbc476ab8a21b945ce2ebe8",
            "3a9d381ee28547d7987eed1ea8f025d3",
            "b75683775ee04eafae3f7e73cfee1d8f",
            "410905ab708842fc909a2f57826ad054",
            "12acd42a8dbe44178c1917b4e5f43c90",
            "11f09657c1424e8586fa77b7581ac8bc",
            "3601e41f5a2e46979bdd5126e54ab507",
            "63868bf1df2746eba1fdd597935e355e",
            "d5acbaf917f14e22a64a78e648eff81c",
            "535c4b41530e4110ad0150765d778b92",
            "a633ae4be9ca4e70aa4d58a7e1ae69b2",
            "fa14a2477e02404a8e5f91ebfaa2edd1",
            "086596339ed14a09aed02f22bd46b045",
            "8c5783ffb3e04d35aac2fab652da1171",
            "ce7b5787ad8147daa6b3d57366a3974b",
            "b0f3391d50f84d0cb2764dd76985d500",
            "8c751b302c9d4396a844746c0366d777",
            "1cd51a38601744549e252c9a14f8760b",
            "a40d82611e364ca18a0badb3692b1bb2",
            "4cb9f46de0334247ad2b9b2118b4a8cf",
            "1cdb0df30216414b945bb7652532a255",
            "0775ade7d6044c3492c5cc16fcf5c9f3",
            "4433a04fc88248a4affce82dbd5d2967",
            "2c113914e01a4d028c008fcc191e55eb",
            "a1ae51482b38496f96346c0d6671e800",
            "a2fb5aede2c14c7da3b2edd3e9ab3723",
            "bc112973e4ea4f469479ea9fc8bdb0e5",
            "32a4e75ff88f46c490dad627c69f732a",
            "80482c4570b14cfe8edbd40275a5763a",
            "825d772b19f54d75821f7dabe0851d4a",
            "7d28ca1326004e1192db2c700652bed2",
            "2dadad280d80477eae3fce35ba4dae91",
            "44fb6860339b4ae2a72df9cd5babf04f",
            "eb1e6ddcd9e043b3872e886004f0b5aa",
            "da43e87851794619a87248be7b083bf7",
            "a844683cf12c43039730421cffeade0b",
            "faf0aa404a3943aab8f41afd55f206ac",
            "8e256bca5e3c4147947328161ba45a44",
            "4b8bee412c994b86b9e78722e8a23c02",
            "17c0f0c557d2423385f0b83d788b9249",
            "47e8ff6cd5054159a4a9a5b755bb5830",
            "376d97e48c444168ae5cbf1725d39cb6",
            "2600a05dfb6148ce971f64bd50b0a7c0"
          ]
        },
        "id": "BOLh6JJfnAIP",
        "outputId": "83a6abf8-22ce-42d6-a69f-b296c20e039d"
      },
      "execution_count": null,
      "outputs": [
        {
          "output_type": "display_data",
          "data": {
            "text/plain": [
              "tokenizer_config.json:   0%|          | 0.00/28.0 [00:00<?, ?B/s]"
            ],
            "application/vnd.jupyter.widget-view+json": {
              "version_major": 2,
              "version_minor": 0,
              "model_id": "87a9fb45836c4d1e981c01f3f40f4ec4"
            }
          },
          "metadata": {}
        },
        {
          "output_type": "display_data",
          "data": {
            "text/plain": [
              "vocab.txt:   0%|          | 0.00/232k [00:00<?, ?B/s]"
            ],
            "application/vnd.jupyter.widget-view+json": {
              "version_major": 2,
              "version_minor": 0,
              "model_id": "a633ae4be9ca4e70aa4d58a7e1ae69b2"
            }
          },
          "metadata": {}
        },
        {
          "output_type": "display_data",
          "data": {
            "text/plain": [
              "tokenizer.json:   0%|          | 0.00/466k [00:00<?, ?B/s]"
            ],
            "application/vnd.jupyter.widget-view+json": {
              "version_major": 2,
              "version_minor": 0,
              "model_id": "0775ade7d6044c3492c5cc16fcf5c9f3"
            }
          },
          "metadata": {}
        },
        {
          "output_type": "display_data",
          "data": {
            "text/plain": [
              "config.json:   0%|          | 0.00/483 [00:00<?, ?B/s]"
            ],
            "application/vnd.jupyter.widget-view+json": {
              "version_major": 2,
              "version_minor": 0,
              "model_id": "44fb6860339b4ae2a72df9cd5babf04f"
            }
          },
          "metadata": {}
        }
      ]
    },
    {
      "cell_type": "code",
      "source": [
        "len(tokenizer(X[2])[0])"
      ],
      "metadata": {
        "colab": {
          "base_uri": "https://localhost:8080/"
        },
        "id": "0KEQDfcHngwy",
        "outputId": "04dbb1da-2c17-408e-b184-e7274cc7682c"
      },
      "execution_count": null,
      "outputs": [
        {
          "output_type": "execute_result",
          "data": {
            "text/plain": [
              "161"
            ]
          },
          "metadata": {},
          "execution_count": 64
        }
      ]
    },
    {
      "cell_type": "code",
      "source": [
        "X_tr_enc=[]\n",
        "X_ts_enc=[]\n",
        "for x in X_tr:\n",
        "  X_tr_enc.append(tokenizer(x,truncation=True,padding=True))\n",
        "for x in X_ts:\n",
        "  X_ts_enc.append(tokenizer(x,truncation=True,padding=True))\n",
        "\n",
        "print(len(X_tr_enc),len(X_ts_enc))"
      ],
      "metadata": {
        "colab": {
          "base_uri": "https://localhost:8080/"
        },
        "id": "es7a84WUno2b",
        "outputId": "ead1a1f6-4dae-468d-8402-fb07254c558e"
      },
      "execution_count": null,
      "outputs": [
        {
          "output_type": "stream",
          "name": "stdout",
          "text": [
            "141 36\n"
          ]
        }
      ]
    },
    {
      "cell_type": "code",
      "source": [
        "X_tr=list(X_tr)\n",
        "X_ts=list(X_ts)\n",
        "type(X_tr)"
      ],
      "metadata": {
        "colab": {
          "base_uri": "https://localhost:8080/"
        },
        "id": "92zi5cHJtRBC",
        "outputId": "b2fd77a4-b9d5-488d-aef3-8f2ae208647e"
      },
      "execution_count": null,
      "outputs": [
        {
          "output_type": "execute_result",
          "data": {
            "text/plain": [
              "list"
            ]
          },
          "metadata": {},
          "execution_count": 77
        }
      ]
    },
    {
      "cell_type": "code",
      "source": [
        "X_tr_enc=tokenizer(X_tr,truncation=True,padding=True)\n",
        "X_ts_enc=tokenizer(X_t,truncation=True,padding=True)"
      ],
      "metadata": {
        "id": "o2d_Lb93thUY"
      },
      "execution_count": null,
      "outputs": []
    },
    {
      "cell_type": "code",
      "source": [
        "train_dataset=tf.keras.data.Dataset(dict())"
      ],
      "metadata": {
        "id": "dHQQkLsOuLZP"
      },
      "execution_count": null,
      "outputs": []
    },
    {
      "cell_type": "code",
      "source": [
        "max_len = max(max_len_tr, max_len_ts)\n",
        "\n",
        "print(\"Maximum sequence length:\", max_len)"
      ],
      "metadata": {
        "colab": {
          "base_uri": "https://localhost:8080/"
        },
        "id": "21NDEfJQrKJs",
        "outputId": "aa2a243b-f2ef-4f2f-bc2e-e49dff6f33cb"
      },
      "execution_count": null,
      "outputs": [
        {
          "output_type": "stream",
          "name": "stdout",
          "text": [
            "Maximum sequence length: 512\n"
          ]
        }
      ]
    },
    {
      "cell_type": "code",
      "source": [
        "train_dataset=tf.data.Dataset.from_tensor_slices([X_tr_enc,Y_tr])\n",
        "test_dataset=tf.data.Dataset.from_tensor_slices([X_ts_enc,Y_ts])"
      ],
      "metadata": {
        "colab": {
          "base_uri": "https://localhost:8080/",
          "height": 702
        },
        "id": "i_HOP1QJszUg",
        "outputId": "adab8b6e-6a99-4468-8932-fccb2d27c66f"
      },
      "execution_count": null,
      "outputs": [
        {
          "output_type": "error",
          "ename": "ValueError",
          "evalue": "ignored",
          "traceback": [
            "\u001b[0;31m---------------------------------------------------------------------------\u001b[0m",
            "\u001b[0;31mTypeError\u001b[0m                                 Traceback (most recent call last)",
            "\u001b[0;32m/usr/local/lib/python3.10/dist-packages/tensorflow/python/data/util/structure.py\u001b[0m in \u001b[0;36mnormalize_element\u001b[0;34m(element, element_signature)\u001b[0m\n\u001b[1;32m    104\u001b[0m         \u001b[0;32mif\u001b[0m \u001b[0mspec\u001b[0m \u001b[0;32mis\u001b[0m \u001b[0;32mNone\u001b[0m\u001b[0;34m:\u001b[0m\u001b[0;34m\u001b[0m\u001b[0;34m\u001b[0m\u001b[0m\n\u001b[0;32m--> 105\u001b[0;31m           \u001b[0mspec\u001b[0m \u001b[0;34m=\u001b[0m \u001b[0mtype_spec_from_value\u001b[0m\u001b[0;34m(\u001b[0m\u001b[0mt\u001b[0m\u001b[0;34m,\u001b[0m \u001b[0muse_fallback\u001b[0m\u001b[0;34m=\u001b[0m\u001b[0;32mFalse\u001b[0m\u001b[0;34m)\u001b[0m\u001b[0;34m\u001b[0m\u001b[0;34m\u001b[0m\u001b[0m\n\u001b[0m\u001b[1;32m    106\u001b[0m       \u001b[0;32mexcept\u001b[0m \u001b[0mTypeError\u001b[0m\u001b[0;34m:\u001b[0m\u001b[0;34m\u001b[0m\u001b[0;34m\u001b[0m\u001b[0m\n",
            "\u001b[0;32m/usr/local/lib/python3.10/dist-packages/tensorflow/python/data/util/structure.py\u001b[0m in \u001b[0;36mtype_spec_from_value\u001b[0;34m(element, use_fallback)\u001b[0m\n\u001b[1;32m    513\u001b[0m \u001b[0;34m\u001b[0m\u001b[0m\n\u001b[0;32m--> 514\u001b[0;31m   raise TypeError(\"Could not build a `TypeSpec` for {} with type {}\".format(\n\u001b[0m\u001b[1;32m    515\u001b[0m       \u001b[0melement\u001b[0m\u001b[0;34m,\u001b[0m\u001b[0;34m\u001b[0m\u001b[0;34m\u001b[0m\u001b[0m\n",
            "\u001b[0;31mTypeError\u001b[0m: Could not build a `TypeSpec` for [[{'input_ids': [101, 2382, 1011, 2095, 1011, 2214, 20704, 3490, 17129, 4858, 7567, 20676, 3510, 4417, 7142, 3558, 4808, 2212, 2457, 16920, 18058, 14392, 23280, 3590, 1011, 2095, 1011, 2214, 3129, 28605, 17129, 10219, 2274, 2086, 5571, 3141, 4968, 4808, 20704, 3490, 1005, 1055, 2155, 6406, 2553, 28605, 16723, 3395, 2075, 21660, 3558, 6905, 5043, 23959, 2251, 2322, 25682, 20704, 3490, 4914, 2902, 5729, 6441, 102], 'attention_mask': [1, 1, 1, 1, 1, 1, 1, 1, 1, 1, 1, 1, 1, 1, 1, 1, 1, 1, 1, 1, 1, 1, 1, 1, 1, 1, 1, 1, 1, 1, 1, 1, 1, 1, 1, 1, 1, 1, 1, 1, 1, 1, 1, 1, 1, 1, 1, 1, 1, 1, 1, 1, 1, 1, 1, 1, 1, 1, 1, 1, 1, 1, 1, 1]}, {'input_ids': [101, 3522, 10444, 9378, 2121, 3549, 22327, 6060, 9331, 27618, 6819, 3669, 3567, 15714, 2213, 3256, 2160, 2741, 5213, 16535, 2015, 4279, 20655, 7827, 2342, 21106, 6819, 20142, 6651, 2451, 6624, 6545, 3633, 2066, 16395, 13006, 1041, 19021, 16566, 2078, 2093, 11799, 3337, 2002, 5740, 2271, 4490, 2402, 2493, 2104, 9363, 6072, 23934, 2149, 2272, 2362, 14657, 10638, 2814, 2451, 2372, 2442, 8851, 8526, 28805, 2075, 2336, 7411, 5101, 3422, 3454, 7694, 7073, 8008, 25505, 2330, 22580, 2775, 3808, 9002, 6022, 4526, 9474, 4044, 3433, 12893, 2075, 2824, 2540, 7406, 7409, 9170, 4506, 2579, 2035, 1011, 2308, 2610, 9378, 2121, 3549, 22327, 6060, 9331, 27618, 12276, 12725, 3425, 5694, 4012, 3549, 20782, 19444, 2015, 5197, 15873, 2375, 7285, 2291, 2292, 2149, 13643, 28887, 11113, 16368, 22787, 4490, 3149...\n       [1., 0., 0., ..., 0., 0., 0.],\n       [0., 1., 0., ..., 0., 0., 0.],\n       ...,\n       [0., 0., 0., ..., 0., 0., 0.],\n       [0., 0., 0., ..., 0., 0., 0.],\n       [0., 1., 0., ..., 0., 0., 0.]])] with type list",
            "\nDuring handling of the above exception, another exception occurred:\n",
            "\u001b[0;31mValueError\u001b[0m                                Traceback (most recent call last)",
            "\u001b[0;32m<ipython-input-72-81b8b440573c>\u001b[0m in \u001b[0;36m<cell line: 1>\u001b[0;34m()\u001b[0m\n\u001b[0;32m----> 1\u001b[0;31m \u001b[0mtrain_dataset\u001b[0m\u001b[0;34m=\u001b[0m\u001b[0mtf\u001b[0m\u001b[0;34m.\u001b[0m\u001b[0mdata\u001b[0m\u001b[0;34m.\u001b[0m\u001b[0mDataset\u001b[0m\u001b[0;34m.\u001b[0m\u001b[0mfrom_tensor_slices\u001b[0m\u001b[0;34m(\u001b[0m\u001b[0;34m[\u001b[0m\u001b[0mX_tr_enc\u001b[0m\u001b[0;34m,\u001b[0m\u001b[0mY_tr\u001b[0m\u001b[0;34m]\u001b[0m\u001b[0;34m)\u001b[0m\u001b[0;34m\u001b[0m\u001b[0;34m\u001b[0m\u001b[0m\n\u001b[0m\u001b[1;32m      2\u001b[0m \u001b[0mtest_dataset\u001b[0m\u001b[0;34m=\u001b[0m\u001b[0mtf\u001b[0m\u001b[0;34m.\u001b[0m\u001b[0mdata\u001b[0m\u001b[0;34m.\u001b[0m\u001b[0mDataset\u001b[0m\u001b[0;34m.\u001b[0m\u001b[0mfrom_tensor_slices\u001b[0m\u001b[0;34m(\u001b[0m\u001b[0;34m[\u001b[0m\u001b[0mX_ts_enc\u001b[0m\u001b[0;34m,\u001b[0m\u001b[0mY_ts\u001b[0m\u001b[0;34m]\u001b[0m\u001b[0;34m)\u001b[0m\u001b[0;34m\u001b[0m\u001b[0;34m\u001b[0m\u001b[0m\n",
            "\u001b[0;32m/usr/local/lib/python3.10/dist-packages/tensorflow/python/data/ops/dataset_ops.py\u001b[0m in \u001b[0;36mfrom_tensor_slices\u001b[0;34m(tensors, name)\u001b[0m\n\u001b[1;32m    819\u001b[0m     \u001b[0;31m# pylint: disable=g-import-not-at-top,protected-access\u001b[0m\u001b[0;34m\u001b[0m\u001b[0;34m\u001b[0m\u001b[0m\n\u001b[1;32m    820\u001b[0m     \u001b[0;32mfrom\u001b[0m \u001b[0mtensorflow\u001b[0m\u001b[0;34m.\u001b[0m\u001b[0mpython\u001b[0m\u001b[0;34m.\u001b[0m\u001b[0mdata\u001b[0m\u001b[0;34m.\u001b[0m\u001b[0mops\u001b[0m \u001b[0;32mimport\u001b[0m \u001b[0mfrom_tensor_slices_op\u001b[0m\u001b[0;34m\u001b[0m\u001b[0;34m\u001b[0m\u001b[0m\n\u001b[0;32m--> 821\u001b[0;31m     \u001b[0;32mreturn\u001b[0m \u001b[0mfrom_tensor_slices_op\u001b[0m\u001b[0;34m.\u001b[0m\u001b[0m_from_tensor_slices\u001b[0m\u001b[0;34m(\u001b[0m\u001b[0mtensors\u001b[0m\u001b[0;34m,\u001b[0m \u001b[0mname\u001b[0m\u001b[0;34m)\u001b[0m\u001b[0;34m\u001b[0m\u001b[0;34m\u001b[0m\u001b[0m\n\u001b[0m\u001b[1;32m    822\u001b[0m     \u001b[0;31m# pylint: enable=g-import-not-at-top,protected-access\u001b[0m\u001b[0;34m\u001b[0m\u001b[0;34m\u001b[0m\u001b[0m\n\u001b[1;32m    823\u001b[0m \u001b[0;34m\u001b[0m\u001b[0m\n",
            "\u001b[0;32m/usr/local/lib/python3.10/dist-packages/tensorflow/python/data/ops/from_tensor_slices_op.py\u001b[0m in \u001b[0;36m_from_tensor_slices\u001b[0;34m(tensors, name)\u001b[0m\n\u001b[1;32m     23\u001b[0m \u001b[0;34m\u001b[0m\u001b[0m\n\u001b[1;32m     24\u001b[0m \u001b[0;32mdef\u001b[0m \u001b[0m_from_tensor_slices\u001b[0m\u001b[0;34m(\u001b[0m\u001b[0mtensors\u001b[0m\u001b[0;34m,\u001b[0m \u001b[0mname\u001b[0m\u001b[0;34m=\u001b[0m\u001b[0;32mNone\u001b[0m\u001b[0;34m)\u001b[0m\u001b[0;34m:\u001b[0m\u001b[0;34m\u001b[0m\u001b[0;34m\u001b[0m\u001b[0m\n\u001b[0;32m---> 25\u001b[0;31m   \u001b[0;32mreturn\u001b[0m \u001b[0m_TensorSliceDataset\u001b[0m\u001b[0;34m(\u001b[0m\u001b[0mtensors\u001b[0m\u001b[0;34m,\u001b[0m \u001b[0mname\u001b[0m\u001b[0;34m=\u001b[0m\u001b[0mname\u001b[0m\u001b[0;34m)\u001b[0m\u001b[0;34m\u001b[0m\u001b[0;34m\u001b[0m\u001b[0m\n\u001b[0m\u001b[1;32m     26\u001b[0m \u001b[0;34m\u001b[0m\u001b[0m\n\u001b[1;32m     27\u001b[0m \u001b[0;34m\u001b[0m\u001b[0m\n",
            "\u001b[0;32m/usr/local/lib/python3.10/dist-packages/tensorflow/python/data/ops/from_tensor_slices_op.py\u001b[0m in \u001b[0;36m__init__\u001b[0;34m(self, element, is_files, name)\u001b[0m\n\u001b[1;32m     31\u001b[0m   \u001b[0;32mdef\u001b[0m \u001b[0m__init__\u001b[0m\u001b[0;34m(\u001b[0m\u001b[0mself\u001b[0m\u001b[0;34m,\u001b[0m \u001b[0melement\u001b[0m\u001b[0;34m,\u001b[0m \u001b[0mis_files\u001b[0m\u001b[0;34m=\u001b[0m\u001b[0;32mFalse\u001b[0m\u001b[0;34m,\u001b[0m \u001b[0mname\u001b[0m\u001b[0;34m=\u001b[0m\u001b[0;32mNone\u001b[0m\u001b[0;34m)\u001b[0m\u001b[0;34m:\u001b[0m\u001b[0;34m\u001b[0m\u001b[0;34m\u001b[0m\u001b[0m\n\u001b[1;32m     32\u001b[0m     \u001b[0;34m\"\"\"See `Dataset.from_tensor_slices` for details.\"\"\"\u001b[0m\u001b[0;34m\u001b[0m\u001b[0;34m\u001b[0m\u001b[0m\n\u001b[0;32m---> 33\u001b[0;31m     \u001b[0melement\u001b[0m \u001b[0;34m=\u001b[0m \u001b[0mstructure\u001b[0m\u001b[0;34m.\u001b[0m\u001b[0mnormalize_element\u001b[0m\u001b[0;34m(\u001b[0m\u001b[0melement\u001b[0m\u001b[0;34m)\u001b[0m\u001b[0;34m\u001b[0m\u001b[0;34m\u001b[0m\u001b[0m\n\u001b[0m\u001b[1;32m     34\u001b[0m     \u001b[0mbatched_spec\u001b[0m \u001b[0;34m=\u001b[0m \u001b[0mstructure\u001b[0m\u001b[0;34m.\u001b[0m\u001b[0mtype_spec_from_value\u001b[0m\u001b[0;34m(\u001b[0m\u001b[0melement\u001b[0m\u001b[0;34m)\u001b[0m\u001b[0;34m\u001b[0m\u001b[0;34m\u001b[0m\u001b[0m\n\u001b[1;32m     35\u001b[0m     \u001b[0mself\u001b[0m\u001b[0;34m.\u001b[0m\u001b[0m_tensors\u001b[0m \u001b[0;34m=\u001b[0m \u001b[0mstructure\u001b[0m\u001b[0;34m.\u001b[0m\u001b[0mto_batched_tensor_list\u001b[0m\u001b[0;34m(\u001b[0m\u001b[0mbatched_spec\u001b[0m\u001b[0;34m,\u001b[0m \u001b[0melement\u001b[0m\u001b[0;34m)\u001b[0m\u001b[0;34m\u001b[0m\u001b[0;34m\u001b[0m\u001b[0m\n",
            "\u001b[0;32m/usr/local/lib/python3.10/dist-packages/tensorflow/python/data/util/structure.py\u001b[0m in \u001b[0;36mnormalize_element\u001b[0;34m(element, element_signature)\u001b[0m\n\u001b[1;32m    108\u001b[0m         \u001b[0;31m# the value. As a fallback try converting the value to a tensor.\u001b[0m\u001b[0;34m\u001b[0m\u001b[0;34m\u001b[0m\u001b[0m\n\u001b[1;32m    109\u001b[0m         normalized_components.append(\n\u001b[0;32m--> 110\u001b[0;31m             ops.convert_to_tensor(t, name=\"component_%d\" % i))\n\u001b[0m\u001b[1;32m    111\u001b[0m       \u001b[0;32melse\u001b[0m\u001b[0;34m:\u001b[0m\u001b[0;34m\u001b[0m\u001b[0;34m\u001b[0m\u001b[0m\n\u001b[1;32m    112\u001b[0m         \u001b[0;31m# To avoid a circular dependency between dataset_ops and structure,\u001b[0m\u001b[0;34m\u001b[0m\u001b[0;34m\u001b[0m\u001b[0m\n",
            "\u001b[0;32m/usr/local/lib/python3.10/dist-packages/tensorflow/python/profiler/trace.py\u001b[0m in \u001b[0;36mwrapped\u001b[0;34m(*args, **kwargs)\u001b[0m\n\u001b[1;32m    181\u001b[0m         \u001b[0;32mwith\u001b[0m \u001b[0mTrace\u001b[0m\u001b[0;34m(\u001b[0m\u001b[0mtrace_name\u001b[0m\u001b[0;34m,\u001b[0m \u001b[0;34m**\u001b[0m\u001b[0mtrace_kwargs\u001b[0m\u001b[0;34m)\u001b[0m\u001b[0;34m:\u001b[0m\u001b[0;34m\u001b[0m\u001b[0;34m\u001b[0m\u001b[0m\n\u001b[1;32m    182\u001b[0m           \u001b[0;32mreturn\u001b[0m \u001b[0mfunc\u001b[0m\u001b[0;34m(\u001b[0m\u001b[0;34m*\u001b[0m\u001b[0margs\u001b[0m\u001b[0;34m,\u001b[0m \u001b[0;34m**\u001b[0m\u001b[0mkwargs\u001b[0m\u001b[0;34m)\u001b[0m\u001b[0;34m\u001b[0m\u001b[0;34m\u001b[0m\u001b[0m\n\u001b[0;32m--> 183\u001b[0;31m       \u001b[0;32mreturn\u001b[0m \u001b[0mfunc\u001b[0m\u001b[0;34m(\u001b[0m\u001b[0;34m*\u001b[0m\u001b[0margs\u001b[0m\u001b[0;34m,\u001b[0m \u001b[0;34m**\u001b[0m\u001b[0mkwargs\u001b[0m\u001b[0;34m)\u001b[0m\u001b[0;34m\u001b[0m\u001b[0;34m\u001b[0m\u001b[0m\n\u001b[0m\u001b[1;32m    184\u001b[0m \u001b[0;34m\u001b[0m\u001b[0m\n\u001b[1;32m    185\u001b[0m     \u001b[0;32mreturn\u001b[0m \u001b[0mwrapped\u001b[0m\u001b[0;34m\u001b[0m\u001b[0;34m\u001b[0m\u001b[0m\n",
            "\u001b[0;32m/usr/local/lib/python3.10/dist-packages/tensorflow/python/framework/ops.py\u001b[0m in \u001b[0;36mconvert_to_tensor\u001b[0;34m(value, dtype, name, as_ref, preferred_dtype, dtype_hint, ctx, accepted_result_types)\u001b[0m\n\u001b[1;32m    696\u001b[0m   \u001b[0;31m# TODO(b/142518781): Fix all call-sites and remove redundant arg\u001b[0m\u001b[0;34m\u001b[0m\u001b[0;34m\u001b[0m\u001b[0m\n\u001b[1;32m    697\u001b[0m   \u001b[0mpreferred_dtype\u001b[0m \u001b[0;34m=\u001b[0m \u001b[0mpreferred_dtype\u001b[0m \u001b[0;32mor\u001b[0m \u001b[0mdtype_hint\u001b[0m\u001b[0;34m\u001b[0m\u001b[0;34m\u001b[0m\u001b[0m\n\u001b[0;32m--> 698\u001b[0;31m   return tensor_conversion_registry.convert(\n\u001b[0m\u001b[1;32m    699\u001b[0m       \u001b[0mvalue\u001b[0m\u001b[0;34m,\u001b[0m \u001b[0mdtype\u001b[0m\u001b[0;34m,\u001b[0m \u001b[0mname\u001b[0m\u001b[0;34m,\u001b[0m \u001b[0mas_ref\u001b[0m\u001b[0;34m,\u001b[0m \u001b[0mpreferred_dtype\u001b[0m\u001b[0;34m,\u001b[0m \u001b[0maccepted_result_types\u001b[0m\u001b[0;34m\u001b[0m\u001b[0;34m\u001b[0m\u001b[0m\n\u001b[1;32m    700\u001b[0m   )\n",
            "\u001b[0;32m/usr/local/lib/python3.10/dist-packages/tensorflow/python/framework/tensor_conversion_registry.py\u001b[0m in \u001b[0;36mconvert\u001b[0;34m(value, dtype, name, as_ref, preferred_dtype, accepted_result_types)\u001b[0m\n\u001b[1;32m    232\u001b[0m \u001b[0;34m\u001b[0m\u001b[0m\n\u001b[1;32m    233\u001b[0m     \u001b[0;32mif\u001b[0m \u001b[0mret\u001b[0m \u001b[0;32mis\u001b[0m \u001b[0;32mNone\u001b[0m\u001b[0;34m:\u001b[0m\u001b[0;34m\u001b[0m\u001b[0;34m\u001b[0m\u001b[0m\n\u001b[0;32m--> 234\u001b[0;31m       \u001b[0mret\u001b[0m \u001b[0;34m=\u001b[0m \u001b[0mconversion_func\u001b[0m\u001b[0;34m(\u001b[0m\u001b[0mvalue\u001b[0m\u001b[0;34m,\u001b[0m \u001b[0mdtype\u001b[0m\u001b[0;34m=\u001b[0m\u001b[0mdtype\u001b[0m\u001b[0;34m,\u001b[0m \u001b[0mname\u001b[0m\u001b[0;34m=\u001b[0m\u001b[0mname\u001b[0m\u001b[0;34m,\u001b[0m \u001b[0mas_ref\u001b[0m\u001b[0;34m=\u001b[0m\u001b[0mas_ref\u001b[0m\u001b[0;34m)\u001b[0m\u001b[0;34m\u001b[0m\u001b[0;34m\u001b[0m\u001b[0m\n\u001b[0m\u001b[1;32m    235\u001b[0m \u001b[0;34m\u001b[0m\u001b[0m\n\u001b[1;32m    236\u001b[0m     \u001b[0;32mif\u001b[0m \u001b[0mret\u001b[0m \u001b[0;32mis\u001b[0m \u001b[0mNotImplemented\u001b[0m\u001b[0;34m:\u001b[0m\u001b[0;34m\u001b[0m\u001b[0;34m\u001b[0m\u001b[0m\n",
            "\u001b[0;32m/usr/local/lib/python3.10/dist-packages/tensorflow/python/framework/constant_op.py\u001b[0m in \u001b[0;36m_constant_tensor_conversion_function\u001b[0;34m(v, dtype, name, as_ref)\u001b[0m\n\u001b[1;32m    326\u001b[0m                                          as_ref=False):\n\u001b[1;32m    327\u001b[0m   \u001b[0m_\u001b[0m \u001b[0;34m=\u001b[0m \u001b[0mas_ref\u001b[0m\u001b[0;34m\u001b[0m\u001b[0;34m\u001b[0m\u001b[0m\n\u001b[0;32m--> 328\u001b[0;31m   \u001b[0;32mreturn\u001b[0m \u001b[0mconstant\u001b[0m\u001b[0;34m(\u001b[0m\u001b[0mv\u001b[0m\u001b[0;34m,\u001b[0m \u001b[0mdtype\u001b[0m\u001b[0;34m=\u001b[0m\u001b[0mdtype\u001b[0m\u001b[0;34m,\u001b[0m \u001b[0mname\u001b[0m\u001b[0;34m=\u001b[0m\u001b[0mname\u001b[0m\u001b[0;34m)\u001b[0m\u001b[0;34m\u001b[0m\u001b[0;34m\u001b[0m\u001b[0m\n\u001b[0m\u001b[1;32m    329\u001b[0m \u001b[0;34m\u001b[0m\u001b[0m\n\u001b[1;32m    330\u001b[0m \u001b[0;31m# Register the conversion function for the \"unconvertible\" types\u001b[0m\u001b[0;34m\u001b[0m\u001b[0;34m\u001b[0m\u001b[0m\n",
            "\u001b[0;32m/usr/local/lib/python3.10/dist-packages/tensorflow/python/framework/constant_op.py\u001b[0m in \u001b[0;36mconstant\u001b[0;34m(value, dtype, shape, name)\u001b[0m\n\u001b[1;32m    265\u001b[0m     \u001b[0mValueError\u001b[0m\u001b[0;34m:\u001b[0m \u001b[0;32mif\u001b[0m \u001b[0mcalled\u001b[0m \u001b[0mon\u001b[0m \u001b[0ma\u001b[0m \u001b[0msymbolic\u001b[0m \u001b[0mtensor\u001b[0m\u001b[0;34m.\u001b[0m\u001b[0;34m\u001b[0m\u001b[0;34m\u001b[0m\u001b[0m\n\u001b[1;32m    266\u001b[0m   \"\"\"\n\u001b[0;32m--> 267\u001b[0;31m   return _constant_impl(value, dtype, shape, name, verify_shape=False,\n\u001b[0m\u001b[1;32m    268\u001b[0m                         allow_broadcast=True)\n\u001b[1;32m    269\u001b[0m \u001b[0;34m\u001b[0m\u001b[0m\n",
            "\u001b[0;32m/usr/local/lib/python3.10/dist-packages/tensorflow/python/framework/constant_op.py\u001b[0m in \u001b[0;36m_constant_impl\u001b[0;34m(value, dtype, shape, name, verify_shape, allow_broadcast)\u001b[0m\n\u001b[1;32m    277\u001b[0m       \u001b[0;32mwith\u001b[0m \u001b[0mtrace\u001b[0m\u001b[0;34m.\u001b[0m\u001b[0mTrace\u001b[0m\u001b[0;34m(\u001b[0m\u001b[0;34m\"tf.constant\"\u001b[0m\u001b[0;34m)\u001b[0m\u001b[0;34m:\u001b[0m\u001b[0;34m\u001b[0m\u001b[0;34m\u001b[0m\u001b[0m\n\u001b[1;32m    278\u001b[0m         \u001b[0;32mreturn\u001b[0m \u001b[0m_constant_eager_impl\u001b[0m\u001b[0;34m(\u001b[0m\u001b[0mctx\u001b[0m\u001b[0;34m,\u001b[0m \u001b[0mvalue\u001b[0m\u001b[0;34m,\u001b[0m \u001b[0mdtype\u001b[0m\u001b[0;34m,\u001b[0m \u001b[0mshape\u001b[0m\u001b[0;34m,\u001b[0m \u001b[0mverify_shape\u001b[0m\u001b[0;34m)\u001b[0m\u001b[0;34m\u001b[0m\u001b[0;34m\u001b[0m\u001b[0m\n\u001b[0;32m--> 279\u001b[0;31m     \u001b[0;32mreturn\u001b[0m \u001b[0m_constant_eager_impl\u001b[0m\u001b[0;34m(\u001b[0m\u001b[0mctx\u001b[0m\u001b[0;34m,\u001b[0m \u001b[0mvalue\u001b[0m\u001b[0;34m,\u001b[0m \u001b[0mdtype\u001b[0m\u001b[0;34m,\u001b[0m \u001b[0mshape\u001b[0m\u001b[0;34m,\u001b[0m \u001b[0mverify_shape\u001b[0m\u001b[0;34m)\u001b[0m\u001b[0;34m\u001b[0m\u001b[0;34m\u001b[0m\u001b[0m\n\u001b[0m\u001b[1;32m    280\u001b[0m \u001b[0;34m\u001b[0m\u001b[0m\n\u001b[1;32m    281\u001b[0m   const_tensor = ops._create_graph_constant(  # pylint: disable=protected-access\n",
            "\u001b[0;32m/usr/local/lib/python3.10/dist-packages/tensorflow/python/framework/constant_op.py\u001b[0m in \u001b[0;36m_constant_eager_impl\u001b[0;34m(ctx, value, dtype, shape, verify_shape)\u001b[0m\n\u001b[1;32m    287\u001b[0m \u001b[0;32mdef\u001b[0m \u001b[0m_constant_eager_impl\u001b[0m\u001b[0;34m(\u001b[0m\u001b[0mctx\u001b[0m\u001b[0;34m,\u001b[0m \u001b[0mvalue\u001b[0m\u001b[0;34m,\u001b[0m \u001b[0mdtype\u001b[0m\u001b[0;34m,\u001b[0m \u001b[0mshape\u001b[0m\u001b[0;34m,\u001b[0m \u001b[0mverify_shape\u001b[0m\u001b[0;34m)\u001b[0m\u001b[0;34m:\u001b[0m\u001b[0;34m\u001b[0m\u001b[0;34m\u001b[0m\u001b[0m\n\u001b[1;32m    288\u001b[0m   \u001b[0;34m\"\"\"Creates a constant on the current device.\"\"\"\u001b[0m\u001b[0;34m\u001b[0m\u001b[0;34m\u001b[0m\u001b[0m\n\u001b[0;32m--> 289\u001b[0;31m   \u001b[0mt\u001b[0m \u001b[0;34m=\u001b[0m \u001b[0mconvert_to_eager_tensor\u001b[0m\u001b[0;34m(\u001b[0m\u001b[0mvalue\u001b[0m\u001b[0;34m,\u001b[0m \u001b[0mctx\u001b[0m\u001b[0;34m,\u001b[0m \u001b[0mdtype\u001b[0m\u001b[0;34m)\u001b[0m\u001b[0;34m\u001b[0m\u001b[0;34m\u001b[0m\u001b[0m\n\u001b[0m\u001b[1;32m    290\u001b[0m   \u001b[0;32mif\u001b[0m \u001b[0mshape\u001b[0m \u001b[0;32mis\u001b[0m \u001b[0;32mNone\u001b[0m\u001b[0;34m:\u001b[0m\u001b[0;34m\u001b[0m\u001b[0;34m\u001b[0m\u001b[0m\n\u001b[1;32m    291\u001b[0m     \u001b[0;32mreturn\u001b[0m \u001b[0mt\u001b[0m\u001b[0;34m\u001b[0m\u001b[0;34m\u001b[0m\u001b[0m\n",
            "\u001b[0;32m/usr/local/lib/python3.10/dist-packages/tensorflow/python/framework/constant_op.py\u001b[0m in \u001b[0;36mconvert_to_eager_tensor\u001b[0;34m(value, ctx, dtype)\u001b[0m\n\u001b[1;32m    100\u001b[0m       \u001b[0mdtype\u001b[0m \u001b[0;34m=\u001b[0m \u001b[0mdtypes\u001b[0m\u001b[0;34m.\u001b[0m\u001b[0mas_dtype\u001b[0m\u001b[0;34m(\u001b[0m\u001b[0mdtype\u001b[0m\u001b[0;34m)\u001b[0m\u001b[0;34m.\u001b[0m\u001b[0mas_datatype_enum\u001b[0m\u001b[0;34m\u001b[0m\u001b[0;34m\u001b[0m\u001b[0m\n\u001b[1;32m    101\u001b[0m   \u001b[0mctx\u001b[0m\u001b[0;34m.\u001b[0m\u001b[0mensure_initialized\u001b[0m\u001b[0;34m(\u001b[0m\u001b[0;34m)\u001b[0m\u001b[0;34m\u001b[0m\u001b[0;34m\u001b[0m\u001b[0m\n\u001b[0;32m--> 102\u001b[0;31m   \u001b[0;32mreturn\u001b[0m \u001b[0mops\u001b[0m\u001b[0;34m.\u001b[0m\u001b[0mEagerTensor\u001b[0m\u001b[0;34m(\u001b[0m\u001b[0mvalue\u001b[0m\u001b[0;34m,\u001b[0m \u001b[0mctx\u001b[0m\u001b[0;34m.\u001b[0m\u001b[0mdevice_name\u001b[0m\u001b[0;34m,\u001b[0m \u001b[0mdtype\u001b[0m\u001b[0;34m)\u001b[0m\u001b[0;34m\u001b[0m\u001b[0;34m\u001b[0m\u001b[0m\n\u001b[0m\u001b[1;32m    103\u001b[0m \u001b[0;34m\u001b[0m\u001b[0m\n\u001b[1;32m    104\u001b[0m \u001b[0;34m\u001b[0m\u001b[0m\n",
            "\u001b[0;31mValueError\u001b[0m: Attempt to convert a value (Encoding(num_tokens=64, attributes=[ids, type_ids, tokens, offsets, attention_mask, special_tokens_mask, overflowing])) with an unsupported type (<class 'tokenizers.Encoding'>) to a Tensor."
          ]
        }
      ]
    },
    {
      "cell_type": "code",
      "source": [
        "bert_layer= TFDistilBertForSequenceClassification.from_pretrained('distilbert-base-uncased')\n",
        "\n",
        "model_3 = tf.keras.Sequential([\n",
        "    bert_layer,\n",
        "    layers.Dense(17, activation='softmax')\n",
        "], name=\"model_3_enc\")\n",
        "\n",
        "\n",
        "model_3.compile(\n",
        "    optimizer=tf.keras.optimizers.Adam(),\n",
        "    loss='categorical_crossentropy',\n",
        "    metrics=['accuracy']\n",
        ")\n",
        "model_3.build(input_shape=(None,max_len))\n",
        "\n",
        "model_3.summary()\n",
        "\n"
      ],
      "metadata": {
        "colab": {
          "base_uri": "https://localhost:8080/",
          "height": 1000
        },
        "id": "4UfUbvrTorS0",
        "outputId": "269904b8-a131-4531-b18d-6ef4699e0564"
      },
      "execution_count": null,
      "outputs": [
        {
          "output_type": "stream",
          "name": "stderr",
          "text": [
            "Some weights of the PyTorch model were not used when initializing the TF 2.0 model TFDistilBertForSequenceClassification: ['vocab_transform.bias', 'vocab_transform.weight', 'vocab_layer_norm.weight', 'vocab_projector.bias', 'vocab_layer_norm.bias']\n",
            "- This IS expected if you are initializing TFDistilBertForSequenceClassification from a PyTorch model trained on another task or with another architecture (e.g. initializing a TFBertForSequenceClassification model from a BertForPreTraining model).\n",
            "- This IS NOT expected if you are initializing TFDistilBertForSequenceClassification from a PyTorch model that you expect to be exactly identical (e.g. initializing a TFBertForSequenceClassification model from a BertForSequenceClassification model).\n",
            "Some weights or buffers of the TF 2.0 model TFDistilBertForSequenceClassification were not initialized from the PyTorch model and are newly initialized: ['pre_classifier.weight', 'pre_classifier.bias', 'classifier.weight', 'classifier.bias']\n",
            "You should probably TRAIN this model on a down-stream task to be able to use it for predictions and inference.\n"
          ]
        },
        {
          "output_type": "error",
          "ename": "ValueError",
          "evalue": "ignored",
          "traceback": [
            "\u001b[0;31m---------------------------------------------------------------------------\u001b[0m",
            "\u001b[0;31mTypeError\u001b[0m                                 Traceback (most recent call last)",
            "\u001b[0;32m/usr/local/lib/python3.10/dist-packages/keras/src/engine/training.py\u001b[0m in \u001b[0;36mbuild\u001b[0;34m(self, input_shape)\u001b[0m\n\u001b[1;32m    540\u001b[0m                 \u001b[0;32mtry\u001b[0m\u001b[0;34m:\u001b[0m\u001b[0;34m\u001b[0m\u001b[0;34m\u001b[0m\u001b[0m\n\u001b[0;32m--> 541\u001b[0;31m                     \u001b[0mself\u001b[0m\u001b[0;34m.\u001b[0m\u001b[0mcall\u001b[0m\u001b[0;34m(\u001b[0m\u001b[0mx\u001b[0m\u001b[0;34m,\u001b[0m \u001b[0;34m**\u001b[0m\u001b[0mkwargs\u001b[0m\u001b[0;34m)\u001b[0m\u001b[0;34m\u001b[0m\u001b[0;34m\u001b[0m\u001b[0m\n\u001b[0m\u001b[1;32m    542\u001b[0m                 \u001b[0;32mexcept\u001b[0m \u001b[0;34m(\u001b[0m\u001b[0mtf\u001b[0m\u001b[0;34m.\u001b[0m\u001b[0merrors\u001b[0m\u001b[0;34m.\u001b[0m\u001b[0mInvalidArgumentError\u001b[0m\u001b[0;34m,\u001b[0m \u001b[0mTypeError\u001b[0m\u001b[0;34m)\u001b[0m \u001b[0;32mas\u001b[0m \u001b[0me\u001b[0m\u001b[0;34m:\u001b[0m\u001b[0;34m\u001b[0m\u001b[0;34m\u001b[0m\u001b[0m\n",
            "\u001b[0;32m/usr/local/lib/python3.10/dist-packages/keras/src/engine/sequential.py\u001b[0m in \u001b[0;36mcall\u001b[0;34m(self, inputs, training, mask)\u001b[0m\n\u001b[1;32m    412\u001b[0m \u001b[0;34m\u001b[0m\u001b[0m\n\u001b[0;32m--> 413\u001b[0;31m             \u001b[0moutputs\u001b[0m \u001b[0;34m=\u001b[0m \u001b[0mlayer\u001b[0m\u001b[0;34m(\u001b[0m\u001b[0minputs\u001b[0m\u001b[0;34m,\u001b[0m \u001b[0;34m**\u001b[0m\u001b[0mkwargs\u001b[0m\u001b[0;34m)\u001b[0m\u001b[0;34m\u001b[0m\u001b[0;34m\u001b[0m\u001b[0m\n\u001b[0m\u001b[1;32m    414\u001b[0m \u001b[0;34m\u001b[0m\u001b[0m\n",
            "\u001b[0;32m/usr/local/lib/python3.10/dist-packages/keras/src/utils/traceback_utils.py\u001b[0m in \u001b[0;36merror_handler\u001b[0;34m(*args, **kwargs)\u001b[0m\n\u001b[1;32m     69\u001b[0m             \u001b[0;31m# `tf.debugging.disable_traceback_filtering()`\u001b[0m\u001b[0;34m\u001b[0m\u001b[0;34m\u001b[0m\u001b[0m\n\u001b[0;32m---> 70\u001b[0;31m             \u001b[0;32mraise\u001b[0m \u001b[0me\u001b[0m\u001b[0;34m.\u001b[0m\u001b[0mwith_traceback\u001b[0m\u001b[0;34m(\u001b[0m\u001b[0mfiltered_tb\u001b[0m\u001b[0;34m)\u001b[0m \u001b[0;32mfrom\u001b[0m \u001b[0;32mNone\u001b[0m\u001b[0;34m\u001b[0m\u001b[0;34m\u001b[0m\u001b[0m\n\u001b[0m\u001b[1;32m     71\u001b[0m         \u001b[0;32mfinally\u001b[0m\u001b[0;34m:\u001b[0m\u001b[0;34m\u001b[0m\u001b[0;34m\u001b[0m\u001b[0m\n",
            "\u001b[0;32m/usr/local/lib/python3.10/dist-packages/transformers/modeling_tf_utils.py\u001b[0m in \u001b[0;36mtf__run_call_with_unpacked_inputs\u001b[0;34m(self, *args, **kwargs)\u001b[0m\n\u001b[1;32m     36\u001b[0m                     \u001b[0mdo_return\u001b[0m \u001b[0;34m=\u001b[0m \u001b[0;32mTrue\u001b[0m\u001b[0;34m\u001b[0m\u001b[0;34m\u001b[0m\u001b[0m\n\u001b[0;32m---> 37\u001b[0;31m                     \u001b[0mretval_\u001b[0m \u001b[0;34m=\u001b[0m \u001b[0mag__\u001b[0m\u001b[0;34m.\u001b[0m\u001b[0mconverted_call\u001b[0m\u001b[0;34m(\u001b[0m\u001b[0mag__\u001b[0m\u001b[0;34m.\u001b[0m\u001b[0mld\u001b[0m\u001b[0;34m(\u001b[0m\u001b[0mfunc\u001b[0m\u001b[0;34m)\u001b[0m\u001b[0;34m,\u001b[0m \u001b[0;34m(\u001b[0m\u001b[0mag__\u001b[0m\u001b[0;34m.\u001b[0m\u001b[0mld\u001b[0m\u001b[0;34m(\u001b[0m\u001b[0mself\u001b[0m\u001b[0;34m)\u001b[0m\u001b[0;34m,\u001b[0m\u001b[0;34m)\u001b[0m\u001b[0;34m,\u001b[0m \u001b[0mdict\u001b[0m\u001b[0;34m(\u001b[0m\u001b[0;34m**\u001b[0m\u001b[0mag__\u001b[0m\u001b[0;34m.\u001b[0m\u001b[0mld\u001b[0m\u001b[0;34m(\u001b[0m\u001b[0munpacked_inputs\u001b[0m\u001b[0;34m)\u001b[0m\u001b[0;34m)\u001b[0m\u001b[0;34m,\u001b[0m \u001b[0mfscope\u001b[0m\u001b[0;34m)\u001b[0m\u001b[0;34m\u001b[0m\u001b[0;34m\u001b[0m\u001b[0m\n\u001b[0m\u001b[1;32m     38\u001b[0m                 \u001b[0;32mexcept\u001b[0m\u001b[0;34m:\u001b[0m\u001b[0;34m\u001b[0m\u001b[0;34m\u001b[0m\u001b[0m\n",
            "\u001b[0;32m/usr/local/lib/python3.10/dist-packages/transformers/models/distilbert/modeling_tf_distilbert.py\u001b[0m in \u001b[0;36mtf__call\u001b[0;34m(self, input_ids, attention_mask, head_mask, inputs_embeds, output_attentions, output_hidden_states, return_dict, labels, training)\u001b[0m\n\u001b[1;32m     16\u001b[0m                 \u001b[0mretval_\u001b[0m \u001b[0;34m=\u001b[0m \u001b[0mag__\u001b[0m\u001b[0;34m.\u001b[0m\u001b[0mUndefinedReturnValue\u001b[0m\u001b[0;34m(\u001b[0m\u001b[0;34m)\u001b[0m\u001b[0;34m\u001b[0m\u001b[0;34m\u001b[0m\u001b[0m\n\u001b[0;32m---> 17\u001b[0;31m                 \u001b[0mdistilbert_output\u001b[0m \u001b[0;34m=\u001b[0m \u001b[0mag__\u001b[0m\u001b[0;34m.\u001b[0m\u001b[0mconverted_call\u001b[0m\u001b[0;34m(\u001b[0m\u001b[0mag__\u001b[0m\u001b[0;34m.\u001b[0m\u001b[0mld\u001b[0m\u001b[0;34m(\u001b[0m\u001b[0mself\u001b[0m\u001b[0;34m)\u001b[0m\u001b[0;34m.\u001b[0m\u001b[0mdistilbert\u001b[0m\u001b[0;34m,\u001b[0m \u001b[0;34m(\u001b[0m\u001b[0;34m)\u001b[0m\u001b[0;34m,\u001b[0m \u001b[0mdict\u001b[0m\u001b[0;34m(\u001b[0m\u001b[0minput_ids\u001b[0m\u001b[0;34m=\u001b[0m\u001b[0mag__\u001b[0m\u001b[0;34m.\u001b[0m\u001b[0mld\u001b[0m\u001b[0;34m(\u001b[0m\u001b[0minput_ids\u001b[0m\u001b[0;34m)\u001b[0m\u001b[0;34m,\u001b[0m \u001b[0mattention_mask\u001b[0m\u001b[0;34m=\u001b[0m\u001b[0mag__\u001b[0m\u001b[0;34m.\u001b[0m\u001b[0mld\u001b[0m\u001b[0;34m(\u001b[0m\u001b[0mattention_mask\u001b[0m\u001b[0;34m)\u001b[0m\u001b[0;34m,\u001b[0m \u001b[0mhead_mask\u001b[0m\u001b[0;34m=\u001b[0m\u001b[0mag__\u001b[0m\u001b[0;34m.\u001b[0m\u001b[0mld\u001b[0m\u001b[0;34m(\u001b[0m\u001b[0mhead_mask\u001b[0m\u001b[0;34m)\u001b[0m\u001b[0;34m,\u001b[0m \u001b[0minputs_embeds\u001b[0m\u001b[0;34m=\u001b[0m\u001b[0mag__\u001b[0m\u001b[0;34m.\u001b[0m\u001b[0mld\u001b[0m\u001b[0;34m(\u001b[0m\u001b[0minputs_embeds\u001b[0m\u001b[0;34m)\u001b[0m\u001b[0;34m,\u001b[0m \u001b[0moutput_attentions\u001b[0m\u001b[0;34m=\u001b[0m\u001b[0mag__\u001b[0m\u001b[0;34m.\u001b[0m\u001b[0mld\u001b[0m\u001b[0;34m(\u001b[0m\u001b[0moutput_attentions\u001b[0m\u001b[0;34m)\u001b[0m\u001b[0;34m,\u001b[0m \u001b[0moutput_hidden_states\u001b[0m\u001b[0;34m=\u001b[0m\u001b[0mag__\u001b[0m\u001b[0;34m.\u001b[0m\u001b[0mld\u001b[0m\u001b[0;34m(\u001b[0m\u001b[0moutput_hidden_states\u001b[0m\u001b[0;34m)\u001b[0m\u001b[0;34m,\u001b[0m \u001b[0mreturn_dict\u001b[0m\u001b[0;34m=\u001b[0m\u001b[0mag__\u001b[0m\u001b[0;34m.\u001b[0m\u001b[0mld\u001b[0m\u001b[0;34m(\u001b[0m\u001b[0mreturn_dict\u001b[0m\u001b[0;34m)\u001b[0m\u001b[0;34m,\u001b[0m \u001b[0mtraining\u001b[0m\u001b[0;34m=\u001b[0m\u001b[0mag__\u001b[0m\u001b[0;34m.\u001b[0m\u001b[0mld\u001b[0m\u001b[0;34m(\u001b[0m\u001b[0mtraining\u001b[0m\u001b[0;34m)\u001b[0m\u001b[0;34m)\u001b[0m\u001b[0;34m,\u001b[0m \u001b[0mfscope\u001b[0m\u001b[0;34m)\u001b[0m\u001b[0;34m\u001b[0m\u001b[0;34m\u001b[0m\u001b[0m\n\u001b[0m\u001b[1;32m     18\u001b[0m                 \u001b[0mhidden_state\u001b[0m \u001b[0;34m=\u001b[0m \u001b[0mag__\u001b[0m\u001b[0;34m.\u001b[0m\u001b[0mld\u001b[0m\u001b[0;34m(\u001b[0m\u001b[0mdistilbert_output\u001b[0m\u001b[0;34m)\u001b[0m\u001b[0;34m[\u001b[0m\u001b[0;36m0\u001b[0m\u001b[0;34m]\u001b[0m\u001b[0;34m\u001b[0m\u001b[0;34m\u001b[0m\u001b[0m\n",
            "\u001b[0;32m/usr/local/lib/python3.10/dist-packages/transformers/modeling_tf_utils.py\u001b[0m in \u001b[0;36mtf__run_call_with_unpacked_inputs\u001b[0;34m(self, *args, **kwargs)\u001b[0m\n\u001b[1;32m     36\u001b[0m                     \u001b[0mdo_return\u001b[0m \u001b[0;34m=\u001b[0m \u001b[0;32mTrue\u001b[0m\u001b[0;34m\u001b[0m\u001b[0;34m\u001b[0m\u001b[0m\n\u001b[0;32m---> 37\u001b[0;31m                     \u001b[0mretval_\u001b[0m \u001b[0;34m=\u001b[0m \u001b[0mag__\u001b[0m\u001b[0;34m.\u001b[0m\u001b[0mconverted_call\u001b[0m\u001b[0;34m(\u001b[0m\u001b[0mag__\u001b[0m\u001b[0;34m.\u001b[0m\u001b[0mld\u001b[0m\u001b[0;34m(\u001b[0m\u001b[0mfunc\u001b[0m\u001b[0;34m)\u001b[0m\u001b[0;34m,\u001b[0m \u001b[0;34m(\u001b[0m\u001b[0mag__\u001b[0m\u001b[0;34m.\u001b[0m\u001b[0mld\u001b[0m\u001b[0;34m(\u001b[0m\u001b[0mself\u001b[0m\u001b[0;34m)\u001b[0m\u001b[0;34m,\u001b[0m\u001b[0;34m)\u001b[0m\u001b[0;34m,\u001b[0m \u001b[0mdict\u001b[0m\u001b[0;34m(\u001b[0m\u001b[0;34m**\u001b[0m\u001b[0mag__\u001b[0m\u001b[0;34m.\u001b[0m\u001b[0mld\u001b[0m\u001b[0;34m(\u001b[0m\u001b[0munpacked_inputs\u001b[0m\u001b[0;34m)\u001b[0m\u001b[0;34m)\u001b[0m\u001b[0;34m,\u001b[0m \u001b[0mfscope\u001b[0m\u001b[0;34m)\u001b[0m\u001b[0;34m\u001b[0m\u001b[0;34m\u001b[0m\u001b[0m\n\u001b[0m\u001b[1;32m     38\u001b[0m                 \u001b[0;32mexcept\u001b[0m\u001b[0;34m:\u001b[0m\u001b[0;34m\u001b[0m\u001b[0;34m\u001b[0m\u001b[0m\n",
            "\u001b[0;32m/usr/local/lib/python3.10/dist-packages/transformers/models/distilbert/modeling_tf_distilbert.py\u001b[0m in \u001b[0;36mtf__call\u001b[0;34m(self, input_ids, attention_mask, head_mask, inputs_embeds, output_attentions, output_hidden_states, return_dict, training)\u001b[0m\n\u001b[1;32m     92\u001b[0m                 \u001b[0mag__\u001b[0m\u001b[0;34m.\u001b[0m\u001b[0mif_stmt\u001b[0m\u001b[0;34m(\u001b[0m\u001b[0mag__\u001b[0m\u001b[0;34m.\u001b[0m\u001b[0mld\u001b[0m\u001b[0;34m(\u001b[0m\u001b[0mhead_mask\u001b[0m\u001b[0;34m)\u001b[0m \u001b[0;32mis\u001b[0m \u001b[0;32mnot\u001b[0m \u001b[0;32mNone\u001b[0m\u001b[0;34m,\u001b[0m \u001b[0mif_body_4\u001b[0m\u001b[0;34m,\u001b[0m \u001b[0melse_body_4\u001b[0m\u001b[0;34m,\u001b[0m \u001b[0mget_state_4\u001b[0m\u001b[0;34m,\u001b[0m \u001b[0mset_state_4\u001b[0m\u001b[0;34m,\u001b[0m \u001b[0;34m(\u001b[0m\u001b[0;34m'head_mask'\u001b[0m\u001b[0;34m,\u001b[0m\u001b[0;34m)\u001b[0m\u001b[0;34m,\u001b[0m \u001b[0;36m1\u001b[0m\u001b[0;34m)\u001b[0m\u001b[0;34m\u001b[0m\u001b[0;34m\u001b[0m\u001b[0m\n\u001b[0;32m---> 93\u001b[0;31m                 \u001b[0membedding_output\u001b[0m \u001b[0;34m=\u001b[0m \u001b[0mag__\u001b[0m\u001b[0;34m.\u001b[0m\u001b[0mconverted_call\u001b[0m\u001b[0;34m(\u001b[0m\u001b[0mag__\u001b[0m\u001b[0;34m.\u001b[0m\u001b[0mld\u001b[0m\u001b[0;34m(\u001b[0m\u001b[0mself\u001b[0m\u001b[0;34m)\u001b[0m\u001b[0;34m.\u001b[0m\u001b[0membeddings\u001b[0m\u001b[0;34m,\u001b[0m \u001b[0;34m(\u001b[0m\u001b[0mag__\u001b[0m\u001b[0;34m.\u001b[0m\u001b[0mld\u001b[0m\u001b[0;34m(\u001b[0m\u001b[0minput_ids\u001b[0m\u001b[0;34m)\u001b[0m\u001b[0;34m,\u001b[0m\u001b[0;34m)\u001b[0m\u001b[0;34m,\u001b[0m \u001b[0mdict\u001b[0m\u001b[0;34m(\u001b[0m\u001b[0minputs_embeds\u001b[0m\u001b[0;34m=\u001b[0m\u001b[0mag__\u001b[0m\u001b[0;34m.\u001b[0m\u001b[0mld\u001b[0m\u001b[0;34m(\u001b[0m\u001b[0minputs_embeds\u001b[0m\u001b[0;34m)\u001b[0m\u001b[0;34m)\u001b[0m\u001b[0;34m,\u001b[0m \u001b[0mfscope\u001b[0m\u001b[0;34m)\u001b[0m\u001b[0;34m\u001b[0m\u001b[0;34m\u001b[0m\u001b[0m\n\u001b[0m\u001b[1;32m     94\u001b[0m                 \u001b[0mtfmr_output\u001b[0m \u001b[0;34m=\u001b[0m \u001b[0mag__\u001b[0m\u001b[0;34m.\u001b[0m\u001b[0mconverted_call\u001b[0m\u001b[0;34m(\u001b[0m\u001b[0mag__\u001b[0m\u001b[0;34m.\u001b[0m\u001b[0mld\u001b[0m\u001b[0;34m(\u001b[0m\u001b[0mself\u001b[0m\u001b[0;34m)\u001b[0m\u001b[0;34m.\u001b[0m\u001b[0mtransformer\u001b[0m\u001b[0;34m,\u001b[0m \u001b[0;34m(\u001b[0m\u001b[0mag__\u001b[0m\u001b[0;34m.\u001b[0m\u001b[0mld\u001b[0m\u001b[0;34m(\u001b[0m\u001b[0membedding_output\u001b[0m\u001b[0;34m)\u001b[0m\u001b[0;34m,\u001b[0m \u001b[0mag__\u001b[0m\u001b[0;34m.\u001b[0m\u001b[0mld\u001b[0m\u001b[0;34m(\u001b[0m\u001b[0mattention_mask\u001b[0m\u001b[0;34m)\u001b[0m\u001b[0;34m,\u001b[0m \u001b[0mag__\u001b[0m\u001b[0;34m.\u001b[0m\u001b[0mld\u001b[0m\u001b[0;34m(\u001b[0m\u001b[0mhead_mask\u001b[0m\u001b[0;34m)\u001b[0m\u001b[0;34m,\u001b[0m \u001b[0mag__\u001b[0m\u001b[0;34m.\u001b[0m\u001b[0mld\u001b[0m\u001b[0;34m(\u001b[0m\u001b[0moutput_attentions\u001b[0m\u001b[0;34m)\u001b[0m\u001b[0;34m,\u001b[0m \u001b[0mag__\u001b[0m\u001b[0;34m.\u001b[0m\u001b[0mld\u001b[0m\u001b[0;34m(\u001b[0m\u001b[0moutput_hidden_states\u001b[0m\u001b[0;34m)\u001b[0m\u001b[0;34m,\u001b[0m \u001b[0mag__\u001b[0m\u001b[0;34m.\u001b[0m\u001b[0mld\u001b[0m\u001b[0;34m(\u001b[0m\u001b[0mreturn_dict\u001b[0m\u001b[0;34m)\u001b[0m\u001b[0;34m)\u001b[0m\u001b[0;34m,\u001b[0m \u001b[0mdict\u001b[0m\u001b[0;34m(\u001b[0m\u001b[0mtraining\u001b[0m\u001b[0;34m=\u001b[0m\u001b[0mag__\u001b[0m\u001b[0;34m.\u001b[0m\u001b[0mld\u001b[0m\u001b[0;34m(\u001b[0m\u001b[0mtraining\u001b[0m\u001b[0;34m)\u001b[0m\u001b[0;34m)\u001b[0m\u001b[0;34m,\u001b[0m \u001b[0mfscope\u001b[0m\u001b[0;34m)\u001b[0m\u001b[0;34m\u001b[0m\u001b[0;34m\u001b[0m\u001b[0m\n",
            "\u001b[0;32m/usr/local/lib/python3.10/dist-packages/transformers/models/distilbert/modeling_tf_distilbert.py\u001b[0m in \u001b[0;36mtf__call\u001b[0;34m(self, input_ids, position_ids, inputs_embeds, training)\u001b[0m\n\u001b[1;32m     33\u001b[0m                     \u001b[0;32mpass\u001b[0m\u001b[0;34m\u001b[0m\u001b[0;34m\u001b[0m\u001b[0m\n\u001b[0;32m---> 34\u001b[0;31m                 \u001b[0mag__\u001b[0m\u001b[0;34m.\u001b[0m\u001b[0mif_stmt\u001b[0m\u001b[0;34m(\u001b[0m\u001b[0mag__\u001b[0m\u001b[0;34m.\u001b[0m\u001b[0mld\u001b[0m\u001b[0;34m(\u001b[0m\u001b[0minput_ids\u001b[0m\u001b[0;34m)\u001b[0m \u001b[0;32mis\u001b[0m \u001b[0;32mnot\u001b[0m \u001b[0;32mNone\u001b[0m\u001b[0;34m,\u001b[0m \u001b[0mif_body\u001b[0m\u001b[0;34m,\u001b[0m \u001b[0melse_body\u001b[0m\u001b[0;34m,\u001b[0m \u001b[0mget_state\u001b[0m\u001b[0;34m,\u001b[0m \u001b[0mset_state\u001b[0m\u001b[0;34m,\u001b[0m \u001b[0;34m(\u001b[0m\u001b[0;34m'inputs_embeds'\u001b[0m\u001b[0;34m,\u001b[0m\u001b[0;34m)\u001b[0m\u001b[0;34m,\u001b[0m \u001b[0;36m1\u001b[0m\u001b[0;34m)\u001b[0m\u001b[0;34m\u001b[0m\u001b[0;34m\u001b[0m\u001b[0m\n\u001b[0m\u001b[1;32m     35\u001b[0m                 \u001b[0minput_shape\u001b[0m \u001b[0;34m=\u001b[0m \u001b[0mag__\u001b[0m\u001b[0;34m.\u001b[0m\u001b[0mconverted_call\u001b[0m\u001b[0;34m(\u001b[0m\u001b[0mag__\u001b[0m\u001b[0;34m.\u001b[0m\u001b[0mld\u001b[0m\u001b[0;34m(\u001b[0m\u001b[0mshape_list\u001b[0m\u001b[0;34m)\u001b[0m\u001b[0;34m,\u001b[0m \u001b[0;34m(\u001b[0m\u001b[0mag__\u001b[0m\u001b[0;34m.\u001b[0m\u001b[0mld\u001b[0m\u001b[0;34m(\u001b[0m\u001b[0minputs_embeds\u001b[0m\u001b[0;34m)\u001b[0m\u001b[0;34m,\u001b[0m\u001b[0;34m)\u001b[0m\u001b[0;34m,\u001b[0m \u001b[0;32mNone\u001b[0m\u001b[0;34m,\u001b[0m \u001b[0mfscope\u001b[0m\u001b[0;34m)\u001b[0m\u001b[0;34m[\u001b[0m\u001b[0;34m:\u001b[0m\u001b[0;34m-\u001b[0m\u001b[0;36m1\u001b[0m\u001b[0;34m]\u001b[0m\u001b[0;34m\u001b[0m\u001b[0;34m\u001b[0m\u001b[0m\n",
            "\u001b[0;32m/usr/local/lib/python3.10/dist-packages/transformers/models/distilbert/modeling_tf_distilbert.py\u001b[0m in \u001b[0;36mif_body\u001b[0;34m()\u001b[0m\n\u001b[1;32m     28\u001b[0m                     \u001b[0mag__\u001b[0m\u001b[0;34m.\u001b[0m\u001b[0mconverted_call\u001b[0m\u001b[0;34m(\u001b[0m\u001b[0mag__\u001b[0m\u001b[0;34m.\u001b[0m\u001b[0mld\u001b[0m\u001b[0;34m(\u001b[0m\u001b[0mcheck_embeddings_within_bounds\u001b[0m\u001b[0;34m)\u001b[0m\u001b[0;34m,\u001b[0m \u001b[0;34m(\u001b[0m\u001b[0mag__\u001b[0m\u001b[0;34m.\u001b[0m\u001b[0mld\u001b[0m\u001b[0;34m(\u001b[0m\u001b[0minput_ids\u001b[0m\u001b[0;34m)\u001b[0m\u001b[0;34m,\u001b[0m \u001b[0mag__\u001b[0m\u001b[0;34m.\u001b[0m\u001b[0mld\u001b[0m\u001b[0;34m(\u001b[0m\u001b[0mself\u001b[0m\u001b[0;34m)\u001b[0m\u001b[0;34m.\u001b[0m\u001b[0mconfig\u001b[0m\u001b[0;34m.\u001b[0m\u001b[0mvocab_size\u001b[0m\u001b[0;34m)\u001b[0m\u001b[0;34m,\u001b[0m \u001b[0;32mNone\u001b[0m\u001b[0;34m,\u001b[0m \u001b[0mfscope\u001b[0m\u001b[0;34m)\u001b[0m\u001b[0;34m\u001b[0m\u001b[0;34m\u001b[0m\u001b[0m\n\u001b[0;32m---> 29\u001b[0;31m                     \u001b[0minputs_embeds\u001b[0m \u001b[0;34m=\u001b[0m \u001b[0mag__\u001b[0m\u001b[0;34m.\u001b[0m\u001b[0mconverted_call\u001b[0m\u001b[0;34m(\u001b[0m\u001b[0mag__\u001b[0m\u001b[0;34m.\u001b[0m\u001b[0mld\u001b[0m\u001b[0;34m(\u001b[0m\u001b[0mtf\u001b[0m\u001b[0;34m)\u001b[0m\u001b[0;34m.\u001b[0m\u001b[0mgather\u001b[0m\u001b[0;34m,\u001b[0m \u001b[0;34m(\u001b[0m\u001b[0;34m)\u001b[0m\u001b[0;34m,\u001b[0m \u001b[0mdict\u001b[0m\u001b[0;34m(\u001b[0m\u001b[0mparams\u001b[0m\u001b[0;34m=\u001b[0m\u001b[0mag__\u001b[0m\u001b[0;34m.\u001b[0m\u001b[0mld\u001b[0m\u001b[0;34m(\u001b[0m\u001b[0mself\u001b[0m\u001b[0;34m)\u001b[0m\u001b[0;34m.\u001b[0m\u001b[0mweight\u001b[0m\u001b[0;34m,\u001b[0m \u001b[0mindices\u001b[0m\u001b[0;34m=\u001b[0m\u001b[0mag__\u001b[0m\u001b[0;34m.\u001b[0m\u001b[0mld\u001b[0m\u001b[0;34m(\u001b[0m\u001b[0minput_ids\u001b[0m\u001b[0;34m)\u001b[0m\u001b[0;34m)\u001b[0m\u001b[0;34m,\u001b[0m \u001b[0mfscope\u001b[0m\u001b[0;34m)\u001b[0m\u001b[0;34m\u001b[0m\u001b[0;34m\u001b[0m\u001b[0m\n\u001b[0m\u001b[1;32m     30\u001b[0m \u001b[0;34m\u001b[0m\u001b[0m\n",
            "\u001b[0;31mTypeError\u001b[0m: Exception encountered when calling layer 'tf_distil_bert_for_sequence_classification_7' (type TFDistilBertForSequenceClassification).\n\nin user code:\n\n    File \"/usr/local/lib/python3.10/dist-packages/transformers/modeling_tf_utils.py\", line 712, in run_call_with_unpacked_inputs  *\n        return func(self, **unpacked_inputs)\n    File \"/usr/local/lib/python3.10/dist-packages/transformers/models/distilbert/modeling_tf_distilbert.py\", line 720, in call  *\n        distilbert_output = self.distilbert(\n    File \"/usr/local/lib/python3.10/dist-packages/keras/src/utils/traceback_utils.py\", line 70, in error_handler  **\n        raise e.with_traceback(filtered_tb) from None\n    File \"/tmp/__autograph_generated_fileq2dlini4.py\", line 37, in tf__run_call_with_unpacked_inputs\n        retval_ = ag__.converted_call(ag__.ld(func), (ag__.ld(self),), dict(**ag__.ld(unpacked_inputs)), fscope)\n    File \"/tmp/__autograph_generated_file0w2mzo5b.py\", line 93, in tf__call\n        embedding_output = ag__.converted_call(ag__.ld(self).embeddings, (ag__.ld(input_ids),), dict(inputs_embeds=ag__.ld(inputs_embeds)), fscope)\n    File \"/tmp/__autograph_generated_fileqf7knupr.py\", line 34, in tf__call\n        ag__.if_stmt(ag__.ld(input_ids) is not None, if_body, else_body, get_state, set_state, ('inputs_embeds',), 1)\n    File \"/tmp/__autograph_generated_fileqf7knupr.py\", line 29, in if_body\n        inputs_embeds = ag__.converted_call(ag__.ld(tf).gather, (), dict(params=ag__.ld(self).weight, indices=ag__.ld(input_ids)), fscope)\n\n    TypeError: Exception encountered when calling layer 'distilbert' (type TFDistilBertMainLayer).\n    \n    in user code:\n    \n        File \"/usr/local/lib/python3.10/dist-packages/transformers/modeling_tf_utils.py\", line 712, in run_call_with_unpacked_inputs  *\n            return func(self, **unpacked_inputs)\n        File \"/usr/local/lib/python3.10/dist-packages/transformers/models/distilbert/modeling_tf_distilbert.py\", line 402, in call  *\n            embedding_output = self.embeddings(input_ids, inputs_embeds=inputs_embeds)  # (bs, seq_length, dim)\n        File \"/usr/local/lib/python3.10/dist-packages/keras/src/utils/traceback_utils.py\", line 70, in error_handler  **\n            raise e.with_traceback(filtered_tb) from None\n        File \"/tmp/__autograph_generated_fileqf7knupr.py\", line 34, in tf__call\n            ag__.if_stmt(ag__.ld(input_ids) is not None, if_body, else_body, get_state, set_state, ('inputs_embeds',), 1)\n        File \"/tmp/__autograph_generated_fileqf7knupr.py\", line 29, in if_body\n            inputs_embeds = ag__.converted_call(ag__.ld(tf).gather, (), dict(params=ag__.ld(self).weight, indices=ag__.ld(input_ids)), fscope)\n    \n        TypeError: Exception encountered when calling layer 'embeddings' (type TFEmbeddings).\n        \n        in user code:\n        \n            File \"/usr/local/lib/python3.10/dist-packages/transformers/models/distilbert/modeling_tf_distilbert.py\", line 115, in call  *\n                inputs_embeds = tf.gather(params=self.weight, indices=input_ids)\n        \n            TypeError: Value passed to parameter 'indices' has DataType float32 not in list of allowed values: int32, int64\n        \n        \n        Call arguments received by layer 'embeddings' (type TFEmbeddings):\n          • input_ids=tf.Tensor(shape=(None, 512), dtype=float32)\n          • position_ids=None\n          • inputs_embeds=None\n          • training=False\n    \n    \n    Call arguments received by layer 'distilbert' (type TFDistilBertMainLayer):\n      • input_ids=tf.Tensor(shape=(None, 512), dtype=float32)\n      • attention_mask=None\n      • head_mask=None\n      • inputs_embeds=None\n      • output_attentions=False\n      • output_hidden_states=False\n      • return_dict=True\n      • training=False\n\n\nCall arguments received by layer 'tf_distil_bert_for_sequence_classification_7' (type TFDistilBertForSequenceClassification):\n  • input_ids=tf.Tensor(shape=(None, 512), dtype=float32)\n  • attention_mask=None\n  • head_mask=None\n  • inputs_embeds=None\n  • output_attentions=None\n  • output_hidden_states=None\n  • return_dict=None\n  • labels=None\n  • training=False",
            "\nDuring handling of the above exception, another exception occurred:\n",
            "\u001b[0;31mValueError\u001b[0m                                Traceback (most recent call last)",
            "\u001b[0;32m<ipython-input-70-d3f5051ac849>\u001b[0m in \u001b[0;36m<cell line: 15>\u001b[0;34m()\u001b[0m\n\u001b[1;32m     13\u001b[0m     \u001b[0mmetrics\u001b[0m\u001b[0;34m=\u001b[0m\u001b[0;34m[\u001b[0m\u001b[0;34m'accuracy'\u001b[0m\u001b[0;34m]\u001b[0m\u001b[0;34m\u001b[0m\u001b[0;34m\u001b[0m\u001b[0m\n\u001b[1;32m     14\u001b[0m )\n\u001b[0;32m---> 15\u001b[0;31m \u001b[0mmodel_3\u001b[0m\u001b[0;34m.\u001b[0m\u001b[0mbuild\u001b[0m\u001b[0;34m(\u001b[0m\u001b[0minput_shape\u001b[0m\u001b[0;34m=\u001b[0m\u001b[0;34m(\u001b[0m\u001b[0;32mNone\u001b[0m\u001b[0;34m,\u001b[0m\u001b[0mmax_len\u001b[0m\u001b[0;34m)\u001b[0m\u001b[0;34m)\u001b[0m\u001b[0;34m\u001b[0m\u001b[0;34m\u001b[0m\u001b[0m\n\u001b[0m\u001b[1;32m     16\u001b[0m \u001b[0;34m\u001b[0m\u001b[0m\n\u001b[1;32m     17\u001b[0m \u001b[0mmodel_3\u001b[0m\u001b[0;34m.\u001b[0m\u001b[0msummary\u001b[0m\u001b[0;34m(\u001b[0m\u001b[0;34m)\u001b[0m\u001b[0;34m\u001b[0m\u001b[0;34m\u001b[0m\u001b[0m\n",
            "\u001b[0;32m/usr/local/lib/python3.10/dist-packages/keras/src/engine/sequential.py\u001b[0m in \u001b[0;36mbuild\u001b[0;34m(self, input_shape)\u001b[0m\n\u001b[1;32m    374\u001b[0m                 \u001b[0minput_shape\u001b[0m \u001b[0;34m=\u001b[0m \u001b[0mtuple\u001b[0m\u001b[0;34m(\u001b[0m\u001b[0minput_shape\u001b[0m\u001b[0;34m)\u001b[0m\u001b[0;34m\u001b[0m\u001b[0;34m\u001b[0m\u001b[0m\n\u001b[1;32m    375\u001b[0m                 \u001b[0mself\u001b[0m\u001b[0;34m.\u001b[0m\u001b[0m_build_input_shape\u001b[0m \u001b[0;34m=\u001b[0m \u001b[0minput_shape\u001b[0m\u001b[0;34m\u001b[0m\u001b[0;34m\u001b[0m\u001b[0m\n\u001b[0;32m--> 376\u001b[0;31m                 \u001b[0msuper\u001b[0m\u001b[0;34m(\u001b[0m\u001b[0;34m)\u001b[0m\u001b[0;34m.\u001b[0m\u001b[0mbuild\u001b[0m\u001b[0;34m(\u001b[0m\u001b[0minput_shape\u001b[0m\u001b[0;34m)\u001b[0m\u001b[0;34m\u001b[0m\u001b[0;34m\u001b[0m\u001b[0m\n\u001b[0m\u001b[1;32m    377\u001b[0m         \u001b[0mself\u001b[0m\u001b[0;34m.\u001b[0m\u001b[0mbuilt\u001b[0m \u001b[0;34m=\u001b[0m \u001b[0;32mTrue\u001b[0m\u001b[0;34m\u001b[0m\u001b[0;34m\u001b[0m\u001b[0m\n\u001b[1;32m    378\u001b[0m \u001b[0;34m\u001b[0m\u001b[0m\n",
            "\u001b[0;32m/usr/local/lib/python3.10/dist-packages/keras/src/engine/training.py\u001b[0m in \u001b[0;36mbuild\u001b[0;34m(self, input_shape)\u001b[0m\n\u001b[1;32m    541\u001b[0m                     \u001b[0mself\u001b[0m\u001b[0;34m.\u001b[0m\u001b[0mcall\u001b[0m\u001b[0;34m(\u001b[0m\u001b[0mx\u001b[0m\u001b[0;34m,\u001b[0m \u001b[0;34m**\u001b[0m\u001b[0mkwargs\u001b[0m\u001b[0;34m)\u001b[0m\u001b[0;34m\u001b[0m\u001b[0;34m\u001b[0m\u001b[0m\n\u001b[1;32m    542\u001b[0m                 \u001b[0;32mexcept\u001b[0m \u001b[0;34m(\u001b[0m\u001b[0mtf\u001b[0m\u001b[0;34m.\u001b[0m\u001b[0merrors\u001b[0m\u001b[0;34m.\u001b[0m\u001b[0mInvalidArgumentError\u001b[0m\u001b[0;34m,\u001b[0m \u001b[0mTypeError\u001b[0m\u001b[0;34m)\u001b[0m \u001b[0;32mas\u001b[0m \u001b[0me\u001b[0m\u001b[0;34m:\u001b[0m\u001b[0;34m\u001b[0m\u001b[0;34m\u001b[0m\u001b[0m\n\u001b[0;32m--> 543\u001b[0;31m                     raise ValueError(\n\u001b[0m\u001b[1;32m    544\u001b[0m                         \u001b[0;34m\"You cannot build your model by calling `build` \"\u001b[0m\u001b[0;34m\u001b[0m\u001b[0;34m\u001b[0m\u001b[0m\n\u001b[1;32m    545\u001b[0m                         \u001b[0;34m\"if your layers do not support float type inputs. \"\u001b[0m\u001b[0;34m\u001b[0m\u001b[0;34m\u001b[0m\u001b[0m\n",
            "\u001b[0;31mValueError\u001b[0m: You cannot build your model by calling `build` if your layers do not support float type inputs. Instead, in order to instantiate and build your model, call your model on real tensor data (of the correct dtype).\n\nThe actual error from `call` is: Exception encountered when calling layer 'tf_distil_bert_for_sequence_classification_7' (type TFDistilBertForSequenceClassification).\n\nin user code:\n\n    File \"/usr/local/lib/python3.10/dist-packages/transformers/modeling_tf_utils.py\", line 712, in run_call_with_unpacked_inputs  *\n        return func(self, **unpacked_inputs)\n    File \"/usr/local/lib/python3.10/dist-packages/transformers/models/distilbert/modeling_tf_distilbert.py\", line 720, in call  *\n        distilbert_output = self.distilbert(\n    File \"/usr/local/lib/python3.10/dist-packages/keras/src/utils/traceback_utils.py\", line 70, in error_handler  **\n        raise e.with_traceback(filtered_tb) from None\n    File \"/tmp/__autograph_generated_fileq2dlini4.py\", line 37, in tf__run_call_with_unpacked_inputs\n        retval_ = ag__.converted_call(ag__.ld(func), (ag__.ld(self),), dict(**ag__.ld(unpacked_inputs)), fscope)\n    File \"/tmp/__autograph_generated_file0w2mzo5b.py\", line 93, in tf__call\n        embedding_output = ag__.converted_call(ag__.ld(self).embeddings, (ag__.ld(input_ids),), dict(inputs_embeds=ag__.ld(inputs_embeds)), fscope)\n    File \"/tmp/__autograph_generated_fileqf7knupr.py\", line 34, in tf__call\n        ag__.if_stmt(ag__.ld(input_ids) is not None, if_body, else_body, get_state, set_state, ('inputs_embeds',), 1)\n    File \"/tmp/__autograph_generated_fileqf7knupr.py\", line 29, in if_body\n        inputs_embeds = ag__.converted_call(ag__.ld(tf).gather, (), dict(params=ag__.ld(self).weight, indices=ag__.ld(input_ids)), fscope)\n\n    TypeError: Exception encountered when calling layer 'distilbert' (type TFDistilBertMainLayer).\n    \n    in user code:\n    \n        File \"/usr/local/lib/python3.10/dist-packages/transformers/modeling_tf_utils.py\", line 712, in run_call_with_unpacked_inputs  *\n            return func(self, **unpacked_inputs)\n        File \"/usr/local/lib/python3.10/dist-packages/transformers/models/distilbert/modeling_tf_distilbert.py\", line 402, in call  *\n            embedding_output = self.embeddings(input_ids, inputs_embeds=inputs_embeds)  # (bs, seq_length, dim)\n        File \"/usr/local/lib/python3.10/dist-packages/keras/src/utils/traceback_utils.py\", line 70, in error_handler  **\n            raise e.with_traceback(filtered_tb) from None\n        File \"/tmp/__autograph_generated_fileqf7knupr.py\", line 34, in tf__call\n            ag__.if_stmt(ag__.ld(input_ids) is not None, if_body, else_body, get_state, set_state, ('inputs_embeds',), 1)\n        File \"/tmp/__autograph_generated_fileqf7knupr.py\", line 29, in if_body\n            inputs_embeds = ag__.converted_call(ag__.ld(tf).gather, (), dict(params=ag__.ld(self).weight, indices=ag__.ld(input_ids)), fscope)\n    \n        TypeError: Exception encountered when calling layer 'embeddings' (type TFEmbeddings).\n        \n        in user code:\n        \n            File \"/usr/local/lib/python3.10/dist-packages/transformers/models/distilbert/modeling_tf_distilbert.py\", line 115, in call  *\n                inputs_embeds = tf.gather(params=self.weight, indices=input_ids)\n        \n            TypeError: Value passed to parameter 'indices' has DataType float32 not in list of allowed values: int32, int64\n        \n        \n        Call arguments received by layer 'embeddings' (type TFEmbeddings):\n          • input_ids=tf.Tensor(shape=(None, 512), dtype=float32)\n          • position_ids=None\n          • inputs_embeds=None\n          • training=False\n    \n    \n    Call arguments received by layer 'distilbert' (type TFDistilBertMainLayer):\n      • input_ids=tf.Tensor(shape=(None, 512), dtype=float32)\n      • attention_mask=None\n      • head_mask=None\n      • inputs_embeds=None\n      • output_attentions=False\n      • output_hidden_states=False\n      • return_dict=True\n      • training=False\n\n\nCall arguments received by layer 'tf_distil_bert_for_sequence_classification_7' (type TFDistilBertForSequenceClassification):\n  • input_ids=tf.Tensor(shape=(None, 512), dtype=float32)\n  • attention_mask=None\n  • head_mask=None\n  • inputs_embeds=None\n  • output_attentions=None\n  • output_hidden_states=None\n  • return_dict=None\n  • labels=None\n  • training=False."
          ]
        }
      ]
    },
    {
      "cell_type": "code",
      "source": [
        "model_3.compile(\n",
        "    optimizer=tf.keras.optimizers.Adam(),\n",
        "    loss=model_3.compute_loss,\n",
        "    metrics=['accuracy']\n",
        ")\n",
        "model_3.summary()"
      ],
      "metadata": {
        "colab": {
          "base_uri": "https://localhost:8080/"
        },
        "id": "pXs9JBhRo5XI",
        "outputId": "63c3f22e-b1b2-4267-80c3-ba88c81bde98"
      },
      "execution_count": null,
      "outputs": [
        {
          "output_type": "stream",
          "name": "stdout",
          "text": [
            "Model: \"tf_distil_bert_for_sequence_classification\"\n",
            "_________________________________________________________________\n",
            " Layer (type)                Output Shape              Param #   \n",
            "=================================================================\n",
            " distilbert (TFDistilBertMa  multiple                  66362880  \n",
            " inLayer)                                                        \n",
            "                                                                 \n",
            " pre_classifier (Dense)      multiple                  590592    \n",
            "                                                                 \n",
            " classifier (Dense)          multiple                  13073     \n",
            "                                                                 \n",
            " dropout_19 (Dropout)        multiple                  0         \n",
            "                                                                 \n",
            "=================================================================\n",
            "Total params: 66966545 (255.46 MB)\n",
            "Trainable params: 66966545 (255.46 MB)\n",
            "Non-trainable params: 0 (0.00 Byte)\n",
            "_________________________________________________________________\n"
          ]
        }
      ]
    },
    {
      "cell_type": "code",
      "source": [
        "model_3.predict(tokenizer.encode(\"hello\"))"
      ],
      "metadata": {
        "colab": {
          "base_uri": "https://localhost:8080/"
        },
        "id": "L6oPtUQHpSKA",
        "outputId": "8d20985e-0e5d-49b6-abf3-6b71b871c52b"
      },
      "execution_count": null,
      "outputs": [
        {
          "output_type": "stream",
          "name": "stdout",
          "text": [
            "1/1 [==============================] - 8s 8s/step\n"
          ]
        },
        {
          "output_type": "execute_result",
          "data": {
            "text/plain": [
              "TFSequenceClassifierOutput(loss=None, logits=array([[ 0.11474557, -0.03065788, -0.04443032, -0.00558452,  0.13272558,\n",
              "         0.05412149,  0.02868245, -0.07739072,  0.08932655,  0.02135   ,\n",
              "         0.06145254,  0.00486833, -0.0260458 ,  0.03884526, -0.0058161 ,\n",
              "        -0.05487537, -0.03716559]], dtype=float32), hidden_states=None, attentions=None)"
            ]
          },
          "metadata": {},
          "execution_count": 56
        }
      ]
    }
  ],
  "metadata": {
    "accelerator": "GPU",
    "colab": {
      "provenance": []
    },
    "kernelspec": {
      "display_name": "Python 3",
      "name": "python3"
    },
    "language_info": {
      "name": "python"
    },
    "widgets": {
      "application/vnd.jupyter.widget-state+json": {
        "87a9fb45836c4d1e981c01f3f40f4ec4": {
          "model_module": "@jupyter-widgets/controls",
          "model_name": "HBoxModel",
          "model_module_version": "1.5.0",
          "state": {
            "_dom_classes": [],
            "_model_module": "@jupyter-widgets/controls",
            "_model_module_version": "1.5.0",
            "_model_name": "HBoxModel",
            "_view_count": null,
            "_view_module": "@jupyter-widgets/controls",
            "_view_module_version": "1.5.0",
            "_view_name": "HBoxView",
            "box_style": "",
            "children": [
              "IPY_MODEL_9b619eee0bbc476ab8a21b945ce2ebe8",
              "IPY_MODEL_3a9d381ee28547d7987eed1ea8f025d3",
              "IPY_MODEL_b75683775ee04eafae3f7e73cfee1d8f"
            ],
            "layout": "IPY_MODEL_410905ab708842fc909a2f57826ad054"
          }
        },
        "9b619eee0bbc476ab8a21b945ce2ebe8": {
          "model_module": "@jupyter-widgets/controls",
          "model_name": "HTMLModel",
          "model_module_version": "1.5.0",
          "state": {
            "_dom_classes": [],
            "_model_module": "@jupyter-widgets/controls",
            "_model_module_version": "1.5.0",
            "_model_name": "HTMLModel",
            "_view_count": null,
            "_view_module": "@jupyter-widgets/controls",
            "_view_module_version": "1.5.0",
            "_view_name": "HTMLView",
            "description": "",
            "description_tooltip": null,
            "layout": "IPY_MODEL_12acd42a8dbe44178c1917b4e5f43c90",
            "placeholder": "​",
            "style": "IPY_MODEL_11f09657c1424e8586fa77b7581ac8bc",
            "value": "tokenizer_config.json: 100%"
          }
        },
        "3a9d381ee28547d7987eed1ea8f025d3": {
          "model_module": "@jupyter-widgets/controls",
          "model_name": "FloatProgressModel",
          "model_module_version": "1.5.0",
          "state": {
            "_dom_classes": [],
            "_model_module": "@jupyter-widgets/controls",
            "_model_module_version": "1.5.0",
            "_model_name": "FloatProgressModel",
            "_view_count": null,
            "_view_module": "@jupyter-widgets/controls",
            "_view_module_version": "1.5.0",
            "_view_name": "ProgressView",
            "bar_style": "success",
            "description": "",
            "description_tooltip": null,
            "layout": "IPY_MODEL_3601e41f5a2e46979bdd5126e54ab507",
            "max": 28,
            "min": 0,
            "orientation": "horizontal",
            "style": "IPY_MODEL_63868bf1df2746eba1fdd597935e355e",
            "value": 28
          }
        },
        "b75683775ee04eafae3f7e73cfee1d8f": {
          "model_module": "@jupyter-widgets/controls",
          "model_name": "HTMLModel",
          "model_module_version": "1.5.0",
          "state": {
            "_dom_classes": [],
            "_model_module": "@jupyter-widgets/controls",
            "_model_module_version": "1.5.0",
            "_model_name": "HTMLModel",
            "_view_count": null,
            "_view_module": "@jupyter-widgets/controls",
            "_view_module_version": "1.5.0",
            "_view_name": "HTMLView",
            "description": "",
            "description_tooltip": null,
            "layout": "IPY_MODEL_d5acbaf917f14e22a64a78e648eff81c",
            "placeholder": "​",
            "style": "IPY_MODEL_535c4b41530e4110ad0150765d778b92",
            "value": " 28.0/28.0 [00:00&lt;00:00, 775B/s]"
          }
        },
        "410905ab708842fc909a2f57826ad054": {
          "model_module": "@jupyter-widgets/base",
          "model_name": "LayoutModel",
          "model_module_version": "1.2.0",
          "state": {
            "_model_module": "@jupyter-widgets/base",
            "_model_module_version": "1.2.0",
            "_model_name": "LayoutModel",
            "_view_count": null,
            "_view_module": "@jupyter-widgets/base",
            "_view_module_version": "1.2.0",
            "_view_name": "LayoutView",
            "align_content": null,
            "align_items": null,
            "align_self": null,
            "border": null,
            "bottom": null,
            "display": null,
            "flex": null,
            "flex_flow": null,
            "grid_area": null,
            "grid_auto_columns": null,
            "grid_auto_flow": null,
            "grid_auto_rows": null,
            "grid_column": null,
            "grid_gap": null,
            "grid_row": null,
            "grid_template_areas": null,
            "grid_template_columns": null,
            "grid_template_rows": null,
            "height": null,
            "justify_content": null,
            "justify_items": null,
            "left": null,
            "margin": null,
            "max_height": null,
            "max_width": null,
            "min_height": null,
            "min_width": null,
            "object_fit": null,
            "object_position": null,
            "order": null,
            "overflow": null,
            "overflow_x": null,
            "overflow_y": null,
            "padding": null,
            "right": null,
            "top": null,
            "visibility": null,
            "width": null
          }
        },
        "12acd42a8dbe44178c1917b4e5f43c90": {
          "model_module": "@jupyter-widgets/base",
          "model_name": "LayoutModel",
          "model_module_version": "1.2.0",
          "state": {
            "_model_module": "@jupyter-widgets/base",
            "_model_module_version": "1.2.0",
            "_model_name": "LayoutModel",
            "_view_count": null,
            "_view_module": "@jupyter-widgets/base",
            "_view_module_version": "1.2.0",
            "_view_name": "LayoutView",
            "align_content": null,
            "align_items": null,
            "align_self": null,
            "border": null,
            "bottom": null,
            "display": null,
            "flex": null,
            "flex_flow": null,
            "grid_area": null,
            "grid_auto_columns": null,
            "grid_auto_flow": null,
            "grid_auto_rows": null,
            "grid_column": null,
            "grid_gap": null,
            "grid_row": null,
            "grid_template_areas": null,
            "grid_template_columns": null,
            "grid_template_rows": null,
            "height": null,
            "justify_content": null,
            "justify_items": null,
            "left": null,
            "margin": null,
            "max_height": null,
            "max_width": null,
            "min_height": null,
            "min_width": null,
            "object_fit": null,
            "object_position": null,
            "order": null,
            "overflow": null,
            "overflow_x": null,
            "overflow_y": null,
            "padding": null,
            "right": null,
            "top": null,
            "visibility": null,
            "width": null
          }
        },
        "11f09657c1424e8586fa77b7581ac8bc": {
          "model_module": "@jupyter-widgets/controls",
          "model_name": "DescriptionStyleModel",
          "model_module_version": "1.5.0",
          "state": {
            "_model_module": "@jupyter-widgets/controls",
            "_model_module_version": "1.5.0",
            "_model_name": "DescriptionStyleModel",
            "_view_count": null,
            "_view_module": "@jupyter-widgets/base",
            "_view_module_version": "1.2.0",
            "_view_name": "StyleView",
            "description_width": ""
          }
        },
        "3601e41f5a2e46979bdd5126e54ab507": {
          "model_module": "@jupyter-widgets/base",
          "model_name": "LayoutModel",
          "model_module_version": "1.2.0",
          "state": {
            "_model_module": "@jupyter-widgets/base",
            "_model_module_version": "1.2.0",
            "_model_name": "LayoutModel",
            "_view_count": null,
            "_view_module": "@jupyter-widgets/base",
            "_view_module_version": "1.2.0",
            "_view_name": "LayoutView",
            "align_content": null,
            "align_items": null,
            "align_self": null,
            "border": null,
            "bottom": null,
            "display": null,
            "flex": null,
            "flex_flow": null,
            "grid_area": null,
            "grid_auto_columns": null,
            "grid_auto_flow": null,
            "grid_auto_rows": null,
            "grid_column": null,
            "grid_gap": null,
            "grid_row": null,
            "grid_template_areas": null,
            "grid_template_columns": null,
            "grid_template_rows": null,
            "height": null,
            "justify_content": null,
            "justify_items": null,
            "left": null,
            "margin": null,
            "max_height": null,
            "max_width": null,
            "min_height": null,
            "min_width": null,
            "object_fit": null,
            "object_position": null,
            "order": null,
            "overflow": null,
            "overflow_x": null,
            "overflow_y": null,
            "padding": null,
            "right": null,
            "top": null,
            "visibility": null,
            "width": null
          }
        },
        "63868bf1df2746eba1fdd597935e355e": {
          "model_module": "@jupyter-widgets/controls",
          "model_name": "ProgressStyleModel",
          "model_module_version": "1.5.0",
          "state": {
            "_model_module": "@jupyter-widgets/controls",
            "_model_module_version": "1.5.0",
            "_model_name": "ProgressStyleModel",
            "_view_count": null,
            "_view_module": "@jupyter-widgets/base",
            "_view_module_version": "1.2.0",
            "_view_name": "StyleView",
            "bar_color": null,
            "description_width": ""
          }
        },
        "d5acbaf917f14e22a64a78e648eff81c": {
          "model_module": "@jupyter-widgets/base",
          "model_name": "LayoutModel",
          "model_module_version": "1.2.0",
          "state": {
            "_model_module": "@jupyter-widgets/base",
            "_model_module_version": "1.2.0",
            "_model_name": "LayoutModel",
            "_view_count": null,
            "_view_module": "@jupyter-widgets/base",
            "_view_module_version": "1.2.0",
            "_view_name": "LayoutView",
            "align_content": null,
            "align_items": null,
            "align_self": null,
            "border": null,
            "bottom": null,
            "display": null,
            "flex": null,
            "flex_flow": null,
            "grid_area": null,
            "grid_auto_columns": null,
            "grid_auto_flow": null,
            "grid_auto_rows": null,
            "grid_column": null,
            "grid_gap": null,
            "grid_row": null,
            "grid_template_areas": null,
            "grid_template_columns": null,
            "grid_template_rows": null,
            "height": null,
            "justify_content": null,
            "justify_items": null,
            "left": null,
            "margin": null,
            "max_height": null,
            "max_width": null,
            "min_height": null,
            "min_width": null,
            "object_fit": null,
            "object_position": null,
            "order": null,
            "overflow": null,
            "overflow_x": null,
            "overflow_y": null,
            "padding": null,
            "right": null,
            "top": null,
            "visibility": null,
            "width": null
          }
        },
        "535c4b41530e4110ad0150765d778b92": {
          "model_module": "@jupyter-widgets/controls",
          "model_name": "DescriptionStyleModel",
          "model_module_version": "1.5.0",
          "state": {
            "_model_module": "@jupyter-widgets/controls",
            "_model_module_version": "1.5.0",
            "_model_name": "DescriptionStyleModel",
            "_view_count": null,
            "_view_module": "@jupyter-widgets/base",
            "_view_module_version": "1.2.0",
            "_view_name": "StyleView",
            "description_width": ""
          }
        },
        "a633ae4be9ca4e70aa4d58a7e1ae69b2": {
          "model_module": "@jupyter-widgets/controls",
          "model_name": "HBoxModel",
          "model_module_version": "1.5.0",
          "state": {
            "_dom_classes": [],
            "_model_module": "@jupyter-widgets/controls",
            "_model_module_version": "1.5.0",
            "_model_name": "HBoxModel",
            "_view_count": null,
            "_view_module": "@jupyter-widgets/controls",
            "_view_module_version": "1.5.0",
            "_view_name": "HBoxView",
            "box_style": "",
            "children": [
              "IPY_MODEL_fa14a2477e02404a8e5f91ebfaa2edd1",
              "IPY_MODEL_086596339ed14a09aed02f22bd46b045",
              "IPY_MODEL_8c5783ffb3e04d35aac2fab652da1171"
            ],
            "layout": "IPY_MODEL_ce7b5787ad8147daa6b3d57366a3974b"
          }
        },
        "fa14a2477e02404a8e5f91ebfaa2edd1": {
          "model_module": "@jupyter-widgets/controls",
          "model_name": "HTMLModel",
          "model_module_version": "1.5.0",
          "state": {
            "_dom_classes": [],
            "_model_module": "@jupyter-widgets/controls",
            "_model_module_version": "1.5.0",
            "_model_name": "HTMLModel",
            "_view_count": null,
            "_view_module": "@jupyter-widgets/controls",
            "_view_module_version": "1.5.0",
            "_view_name": "HTMLView",
            "description": "",
            "description_tooltip": null,
            "layout": "IPY_MODEL_b0f3391d50f84d0cb2764dd76985d500",
            "placeholder": "​",
            "style": "IPY_MODEL_8c751b302c9d4396a844746c0366d777",
            "value": "vocab.txt: 100%"
          }
        },
        "086596339ed14a09aed02f22bd46b045": {
          "model_module": "@jupyter-widgets/controls",
          "model_name": "FloatProgressModel",
          "model_module_version": "1.5.0",
          "state": {
            "_dom_classes": [],
            "_model_module": "@jupyter-widgets/controls",
            "_model_module_version": "1.5.0",
            "_model_name": "FloatProgressModel",
            "_view_count": null,
            "_view_module": "@jupyter-widgets/controls",
            "_view_module_version": "1.5.0",
            "_view_name": "ProgressView",
            "bar_style": "success",
            "description": "",
            "description_tooltip": null,
            "layout": "IPY_MODEL_1cd51a38601744549e252c9a14f8760b",
            "max": 231508,
            "min": 0,
            "orientation": "horizontal",
            "style": "IPY_MODEL_a40d82611e364ca18a0badb3692b1bb2",
            "value": 231508
          }
        },
        "8c5783ffb3e04d35aac2fab652da1171": {
          "model_module": "@jupyter-widgets/controls",
          "model_name": "HTMLModel",
          "model_module_version": "1.5.0",
          "state": {
            "_dom_classes": [],
            "_model_module": "@jupyter-widgets/controls",
            "_model_module_version": "1.5.0",
            "_model_name": "HTMLModel",
            "_view_count": null,
            "_view_module": "@jupyter-widgets/controls",
            "_view_module_version": "1.5.0",
            "_view_name": "HTMLView",
            "description": "",
            "description_tooltip": null,
            "layout": "IPY_MODEL_4cb9f46de0334247ad2b9b2118b4a8cf",
            "placeholder": "​",
            "style": "IPY_MODEL_1cdb0df30216414b945bb7652532a255",
            "value": " 232k/232k [00:00&lt;00:00, 4.19MB/s]"
          }
        },
        "ce7b5787ad8147daa6b3d57366a3974b": {
          "model_module": "@jupyter-widgets/base",
          "model_name": "LayoutModel",
          "model_module_version": "1.2.0",
          "state": {
            "_model_module": "@jupyter-widgets/base",
            "_model_module_version": "1.2.0",
            "_model_name": "LayoutModel",
            "_view_count": null,
            "_view_module": "@jupyter-widgets/base",
            "_view_module_version": "1.2.0",
            "_view_name": "LayoutView",
            "align_content": null,
            "align_items": null,
            "align_self": null,
            "border": null,
            "bottom": null,
            "display": null,
            "flex": null,
            "flex_flow": null,
            "grid_area": null,
            "grid_auto_columns": null,
            "grid_auto_flow": null,
            "grid_auto_rows": null,
            "grid_column": null,
            "grid_gap": null,
            "grid_row": null,
            "grid_template_areas": null,
            "grid_template_columns": null,
            "grid_template_rows": null,
            "height": null,
            "justify_content": null,
            "justify_items": null,
            "left": null,
            "margin": null,
            "max_height": null,
            "max_width": null,
            "min_height": null,
            "min_width": null,
            "object_fit": null,
            "object_position": null,
            "order": null,
            "overflow": null,
            "overflow_x": null,
            "overflow_y": null,
            "padding": null,
            "right": null,
            "top": null,
            "visibility": null,
            "width": null
          }
        },
        "b0f3391d50f84d0cb2764dd76985d500": {
          "model_module": "@jupyter-widgets/base",
          "model_name": "LayoutModel",
          "model_module_version": "1.2.0",
          "state": {
            "_model_module": "@jupyter-widgets/base",
            "_model_module_version": "1.2.0",
            "_model_name": "LayoutModel",
            "_view_count": null,
            "_view_module": "@jupyter-widgets/base",
            "_view_module_version": "1.2.0",
            "_view_name": "LayoutView",
            "align_content": null,
            "align_items": null,
            "align_self": null,
            "border": null,
            "bottom": null,
            "display": null,
            "flex": null,
            "flex_flow": null,
            "grid_area": null,
            "grid_auto_columns": null,
            "grid_auto_flow": null,
            "grid_auto_rows": null,
            "grid_column": null,
            "grid_gap": null,
            "grid_row": null,
            "grid_template_areas": null,
            "grid_template_columns": null,
            "grid_template_rows": null,
            "height": null,
            "justify_content": null,
            "justify_items": null,
            "left": null,
            "margin": null,
            "max_height": null,
            "max_width": null,
            "min_height": null,
            "min_width": null,
            "object_fit": null,
            "object_position": null,
            "order": null,
            "overflow": null,
            "overflow_x": null,
            "overflow_y": null,
            "padding": null,
            "right": null,
            "top": null,
            "visibility": null,
            "width": null
          }
        },
        "8c751b302c9d4396a844746c0366d777": {
          "model_module": "@jupyter-widgets/controls",
          "model_name": "DescriptionStyleModel",
          "model_module_version": "1.5.0",
          "state": {
            "_model_module": "@jupyter-widgets/controls",
            "_model_module_version": "1.5.0",
            "_model_name": "DescriptionStyleModel",
            "_view_count": null,
            "_view_module": "@jupyter-widgets/base",
            "_view_module_version": "1.2.0",
            "_view_name": "StyleView",
            "description_width": ""
          }
        },
        "1cd51a38601744549e252c9a14f8760b": {
          "model_module": "@jupyter-widgets/base",
          "model_name": "LayoutModel",
          "model_module_version": "1.2.0",
          "state": {
            "_model_module": "@jupyter-widgets/base",
            "_model_module_version": "1.2.0",
            "_model_name": "LayoutModel",
            "_view_count": null,
            "_view_module": "@jupyter-widgets/base",
            "_view_module_version": "1.2.0",
            "_view_name": "LayoutView",
            "align_content": null,
            "align_items": null,
            "align_self": null,
            "border": null,
            "bottom": null,
            "display": null,
            "flex": null,
            "flex_flow": null,
            "grid_area": null,
            "grid_auto_columns": null,
            "grid_auto_flow": null,
            "grid_auto_rows": null,
            "grid_column": null,
            "grid_gap": null,
            "grid_row": null,
            "grid_template_areas": null,
            "grid_template_columns": null,
            "grid_template_rows": null,
            "height": null,
            "justify_content": null,
            "justify_items": null,
            "left": null,
            "margin": null,
            "max_height": null,
            "max_width": null,
            "min_height": null,
            "min_width": null,
            "object_fit": null,
            "object_position": null,
            "order": null,
            "overflow": null,
            "overflow_x": null,
            "overflow_y": null,
            "padding": null,
            "right": null,
            "top": null,
            "visibility": null,
            "width": null
          }
        },
        "a40d82611e364ca18a0badb3692b1bb2": {
          "model_module": "@jupyter-widgets/controls",
          "model_name": "ProgressStyleModel",
          "model_module_version": "1.5.0",
          "state": {
            "_model_module": "@jupyter-widgets/controls",
            "_model_module_version": "1.5.0",
            "_model_name": "ProgressStyleModel",
            "_view_count": null,
            "_view_module": "@jupyter-widgets/base",
            "_view_module_version": "1.2.0",
            "_view_name": "StyleView",
            "bar_color": null,
            "description_width": ""
          }
        },
        "4cb9f46de0334247ad2b9b2118b4a8cf": {
          "model_module": "@jupyter-widgets/base",
          "model_name": "LayoutModel",
          "model_module_version": "1.2.0",
          "state": {
            "_model_module": "@jupyter-widgets/base",
            "_model_module_version": "1.2.0",
            "_model_name": "LayoutModel",
            "_view_count": null,
            "_view_module": "@jupyter-widgets/base",
            "_view_module_version": "1.2.0",
            "_view_name": "LayoutView",
            "align_content": null,
            "align_items": null,
            "align_self": null,
            "border": null,
            "bottom": null,
            "display": null,
            "flex": null,
            "flex_flow": null,
            "grid_area": null,
            "grid_auto_columns": null,
            "grid_auto_flow": null,
            "grid_auto_rows": null,
            "grid_column": null,
            "grid_gap": null,
            "grid_row": null,
            "grid_template_areas": null,
            "grid_template_columns": null,
            "grid_template_rows": null,
            "height": null,
            "justify_content": null,
            "justify_items": null,
            "left": null,
            "margin": null,
            "max_height": null,
            "max_width": null,
            "min_height": null,
            "min_width": null,
            "object_fit": null,
            "object_position": null,
            "order": null,
            "overflow": null,
            "overflow_x": null,
            "overflow_y": null,
            "padding": null,
            "right": null,
            "top": null,
            "visibility": null,
            "width": null
          }
        },
        "1cdb0df30216414b945bb7652532a255": {
          "model_module": "@jupyter-widgets/controls",
          "model_name": "DescriptionStyleModel",
          "model_module_version": "1.5.0",
          "state": {
            "_model_module": "@jupyter-widgets/controls",
            "_model_module_version": "1.5.0",
            "_model_name": "DescriptionStyleModel",
            "_view_count": null,
            "_view_module": "@jupyter-widgets/base",
            "_view_module_version": "1.2.0",
            "_view_name": "StyleView",
            "description_width": ""
          }
        },
        "0775ade7d6044c3492c5cc16fcf5c9f3": {
          "model_module": "@jupyter-widgets/controls",
          "model_name": "HBoxModel",
          "model_module_version": "1.5.0",
          "state": {
            "_dom_classes": [],
            "_model_module": "@jupyter-widgets/controls",
            "_model_module_version": "1.5.0",
            "_model_name": "HBoxModel",
            "_view_count": null,
            "_view_module": "@jupyter-widgets/controls",
            "_view_module_version": "1.5.0",
            "_view_name": "HBoxView",
            "box_style": "",
            "children": [
              "IPY_MODEL_4433a04fc88248a4affce82dbd5d2967",
              "IPY_MODEL_2c113914e01a4d028c008fcc191e55eb",
              "IPY_MODEL_a1ae51482b38496f96346c0d6671e800"
            ],
            "layout": "IPY_MODEL_a2fb5aede2c14c7da3b2edd3e9ab3723"
          }
        },
        "4433a04fc88248a4affce82dbd5d2967": {
          "model_module": "@jupyter-widgets/controls",
          "model_name": "HTMLModel",
          "model_module_version": "1.5.0",
          "state": {
            "_dom_classes": [],
            "_model_module": "@jupyter-widgets/controls",
            "_model_module_version": "1.5.0",
            "_model_name": "HTMLModel",
            "_view_count": null,
            "_view_module": "@jupyter-widgets/controls",
            "_view_module_version": "1.5.0",
            "_view_name": "HTMLView",
            "description": "",
            "description_tooltip": null,
            "layout": "IPY_MODEL_bc112973e4ea4f469479ea9fc8bdb0e5",
            "placeholder": "​",
            "style": "IPY_MODEL_32a4e75ff88f46c490dad627c69f732a",
            "value": "tokenizer.json: 100%"
          }
        },
        "2c113914e01a4d028c008fcc191e55eb": {
          "model_module": "@jupyter-widgets/controls",
          "model_name": "FloatProgressModel",
          "model_module_version": "1.5.0",
          "state": {
            "_dom_classes": [],
            "_model_module": "@jupyter-widgets/controls",
            "_model_module_version": "1.5.0",
            "_model_name": "FloatProgressModel",
            "_view_count": null,
            "_view_module": "@jupyter-widgets/controls",
            "_view_module_version": "1.5.0",
            "_view_name": "ProgressView",
            "bar_style": "success",
            "description": "",
            "description_tooltip": null,
            "layout": "IPY_MODEL_80482c4570b14cfe8edbd40275a5763a",
            "max": 466062,
            "min": 0,
            "orientation": "horizontal",
            "style": "IPY_MODEL_825d772b19f54d75821f7dabe0851d4a",
            "value": 466062
          }
        },
        "a1ae51482b38496f96346c0d6671e800": {
          "model_module": "@jupyter-widgets/controls",
          "model_name": "HTMLModel",
          "model_module_version": "1.5.0",
          "state": {
            "_dom_classes": [],
            "_model_module": "@jupyter-widgets/controls",
            "_model_module_version": "1.5.0",
            "_model_name": "HTMLModel",
            "_view_count": null,
            "_view_module": "@jupyter-widgets/controls",
            "_view_module_version": "1.5.0",
            "_view_name": "HTMLView",
            "description": "",
            "description_tooltip": null,
            "layout": "IPY_MODEL_7d28ca1326004e1192db2c700652bed2",
            "placeholder": "​",
            "style": "IPY_MODEL_2dadad280d80477eae3fce35ba4dae91",
            "value": " 466k/466k [00:00&lt;00:00, 2.15MB/s]"
          }
        },
        "a2fb5aede2c14c7da3b2edd3e9ab3723": {
          "model_module": "@jupyter-widgets/base",
          "model_name": "LayoutModel",
          "model_module_version": "1.2.0",
          "state": {
            "_model_module": "@jupyter-widgets/base",
            "_model_module_version": "1.2.0",
            "_model_name": "LayoutModel",
            "_view_count": null,
            "_view_module": "@jupyter-widgets/base",
            "_view_module_version": "1.2.0",
            "_view_name": "LayoutView",
            "align_content": null,
            "align_items": null,
            "align_self": null,
            "border": null,
            "bottom": null,
            "display": null,
            "flex": null,
            "flex_flow": null,
            "grid_area": null,
            "grid_auto_columns": null,
            "grid_auto_flow": null,
            "grid_auto_rows": null,
            "grid_column": null,
            "grid_gap": null,
            "grid_row": null,
            "grid_template_areas": null,
            "grid_template_columns": null,
            "grid_template_rows": null,
            "height": null,
            "justify_content": null,
            "justify_items": null,
            "left": null,
            "margin": null,
            "max_height": null,
            "max_width": null,
            "min_height": null,
            "min_width": null,
            "object_fit": null,
            "object_position": null,
            "order": null,
            "overflow": null,
            "overflow_x": null,
            "overflow_y": null,
            "padding": null,
            "right": null,
            "top": null,
            "visibility": null,
            "width": null
          }
        },
        "bc112973e4ea4f469479ea9fc8bdb0e5": {
          "model_module": "@jupyter-widgets/base",
          "model_name": "LayoutModel",
          "model_module_version": "1.2.0",
          "state": {
            "_model_module": "@jupyter-widgets/base",
            "_model_module_version": "1.2.0",
            "_model_name": "LayoutModel",
            "_view_count": null,
            "_view_module": "@jupyter-widgets/base",
            "_view_module_version": "1.2.0",
            "_view_name": "LayoutView",
            "align_content": null,
            "align_items": null,
            "align_self": null,
            "border": null,
            "bottom": null,
            "display": null,
            "flex": null,
            "flex_flow": null,
            "grid_area": null,
            "grid_auto_columns": null,
            "grid_auto_flow": null,
            "grid_auto_rows": null,
            "grid_column": null,
            "grid_gap": null,
            "grid_row": null,
            "grid_template_areas": null,
            "grid_template_columns": null,
            "grid_template_rows": null,
            "height": null,
            "justify_content": null,
            "justify_items": null,
            "left": null,
            "margin": null,
            "max_height": null,
            "max_width": null,
            "min_height": null,
            "min_width": null,
            "object_fit": null,
            "object_position": null,
            "order": null,
            "overflow": null,
            "overflow_x": null,
            "overflow_y": null,
            "padding": null,
            "right": null,
            "top": null,
            "visibility": null,
            "width": null
          }
        },
        "32a4e75ff88f46c490dad627c69f732a": {
          "model_module": "@jupyter-widgets/controls",
          "model_name": "DescriptionStyleModel",
          "model_module_version": "1.5.0",
          "state": {
            "_model_module": "@jupyter-widgets/controls",
            "_model_module_version": "1.5.0",
            "_model_name": "DescriptionStyleModel",
            "_view_count": null,
            "_view_module": "@jupyter-widgets/base",
            "_view_module_version": "1.2.0",
            "_view_name": "StyleView",
            "description_width": ""
          }
        },
        "80482c4570b14cfe8edbd40275a5763a": {
          "model_module": "@jupyter-widgets/base",
          "model_name": "LayoutModel",
          "model_module_version": "1.2.0",
          "state": {
            "_model_module": "@jupyter-widgets/base",
            "_model_module_version": "1.2.0",
            "_model_name": "LayoutModel",
            "_view_count": null,
            "_view_module": "@jupyter-widgets/base",
            "_view_module_version": "1.2.0",
            "_view_name": "LayoutView",
            "align_content": null,
            "align_items": null,
            "align_self": null,
            "border": null,
            "bottom": null,
            "display": null,
            "flex": null,
            "flex_flow": null,
            "grid_area": null,
            "grid_auto_columns": null,
            "grid_auto_flow": null,
            "grid_auto_rows": null,
            "grid_column": null,
            "grid_gap": null,
            "grid_row": null,
            "grid_template_areas": null,
            "grid_template_columns": null,
            "grid_template_rows": null,
            "height": null,
            "justify_content": null,
            "justify_items": null,
            "left": null,
            "margin": null,
            "max_height": null,
            "max_width": null,
            "min_height": null,
            "min_width": null,
            "object_fit": null,
            "object_position": null,
            "order": null,
            "overflow": null,
            "overflow_x": null,
            "overflow_y": null,
            "padding": null,
            "right": null,
            "top": null,
            "visibility": null,
            "width": null
          }
        },
        "825d772b19f54d75821f7dabe0851d4a": {
          "model_module": "@jupyter-widgets/controls",
          "model_name": "ProgressStyleModel",
          "model_module_version": "1.5.0",
          "state": {
            "_model_module": "@jupyter-widgets/controls",
            "_model_module_version": "1.5.0",
            "_model_name": "ProgressStyleModel",
            "_view_count": null,
            "_view_module": "@jupyter-widgets/base",
            "_view_module_version": "1.2.0",
            "_view_name": "StyleView",
            "bar_color": null,
            "description_width": ""
          }
        },
        "7d28ca1326004e1192db2c700652bed2": {
          "model_module": "@jupyter-widgets/base",
          "model_name": "LayoutModel",
          "model_module_version": "1.2.0",
          "state": {
            "_model_module": "@jupyter-widgets/base",
            "_model_module_version": "1.2.0",
            "_model_name": "LayoutModel",
            "_view_count": null,
            "_view_module": "@jupyter-widgets/base",
            "_view_module_version": "1.2.0",
            "_view_name": "LayoutView",
            "align_content": null,
            "align_items": null,
            "align_self": null,
            "border": null,
            "bottom": null,
            "display": null,
            "flex": null,
            "flex_flow": null,
            "grid_area": null,
            "grid_auto_columns": null,
            "grid_auto_flow": null,
            "grid_auto_rows": null,
            "grid_column": null,
            "grid_gap": null,
            "grid_row": null,
            "grid_template_areas": null,
            "grid_template_columns": null,
            "grid_template_rows": null,
            "height": null,
            "justify_content": null,
            "justify_items": null,
            "left": null,
            "margin": null,
            "max_height": null,
            "max_width": null,
            "min_height": null,
            "min_width": null,
            "object_fit": null,
            "object_position": null,
            "order": null,
            "overflow": null,
            "overflow_x": null,
            "overflow_y": null,
            "padding": null,
            "right": null,
            "top": null,
            "visibility": null,
            "width": null
          }
        },
        "2dadad280d80477eae3fce35ba4dae91": {
          "model_module": "@jupyter-widgets/controls",
          "model_name": "DescriptionStyleModel",
          "model_module_version": "1.5.0",
          "state": {
            "_model_module": "@jupyter-widgets/controls",
            "_model_module_version": "1.5.0",
            "_model_name": "DescriptionStyleModel",
            "_view_count": null,
            "_view_module": "@jupyter-widgets/base",
            "_view_module_version": "1.2.0",
            "_view_name": "StyleView",
            "description_width": ""
          }
        },
        "44fb6860339b4ae2a72df9cd5babf04f": {
          "model_module": "@jupyter-widgets/controls",
          "model_name": "HBoxModel",
          "model_module_version": "1.5.0",
          "state": {
            "_dom_classes": [],
            "_model_module": "@jupyter-widgets/controls",
            "_model_module_version": "1.5.0",
            "_model_name": "HBoxModel",
            "_view_count": null,
            "_view_module": "@jupyter-widgets/controls",
            "_view_module_version": "1.5.0",
            "_view_name": "HBoxView",
            "box_style": "",
            "children": [
              "IPY_MODEL_eb1e6ddcd9e043b3872e886004f0b5aa",
              "IPY_MODEL_da43e87851794619a87248be7b083bf7",
              "IPY_MODEL_a844683cf12c43039730421cffeade0b"
            ],
            "layout": "IPY_MODEL_faf0aa404a3943aab8f41afd55f206ac"
          }
        },
        "eb1e6ddcd9e043b3872e886004f0b5aa": {
          "model_module": "@jupyter-widgets/controls",
          "model_name": "HTMLModel",
          "model_module_version": "1.5.0",
          "state": {
            "_dom_classes": [],
            "_model_module": "@jupyter-widgets/controls",
            "_model_module_version": "1.5.0",
            "_model_name": "HTMLModel",
            "_view_count": null,
            "_view_module": "@jupyter-widgets/controls",
            "_view_module_version": "1.5.0",
            "_view_name": "HTMLView",
            "description": "",
            "description_tooltip": null,
            "layout": "IPY_MODEL_8e256bca5e3c4147947328161ba45a44",
            "placeholder": "​",
            "style": "IPY_MODEL_4b8bee412c994b86b9e78722e8a23c02",
            "value": "config.json: 100%"
          }
        },
        "da43e87851794619a87248be7b083bf7": {
          "model_module": "@jupyter-widgets/controls",
          "model_name": "FloatProgressModel",
          "model_module_version": "1.5.0",
          "state": {
            "_dom_classes": [],
            "_model_module": "@jupyter-widgets/controls",
            "_model_module_version": "1.5.0",
            "_model_name": "FloatProgressModel",
            "_view_count": null,
            "_view_module": "@jupyter-widgets/controls",
            "_view_module_version": "1.5.0",
            "_view_name": "ProgressView",
            "bar_style": "success",
            "description": "",
            "description_tooltip": null,
            "layout": "IPY_MODEL_17c0f0c557d2423385f0b83d788b9249",
            "max": 483,
            "min": 0,
            "orientation": "horizontal",
            "style": "IPY_MODEL_47e8ff6cd5054159a4a9a5b755bb5830",
            "value": 483
          }
        },
        "a844683cf12c43039730421cffeade0b": {
          "model_module": "@jupyter-widgets/controls",
          "model_name": "HTMLModel",
          "model_module_version": "1.5.0",
          "state": {
            "_dom_classes": [],
            "_model_module": "@jupyter-widgets/controls",
            "_model_module_version": "1.5.0",
            "_model_name": "HTMLModel",
            "_view_count": null,
            "_view_module": "@jupyter-widgets/controls",
            "_view_module_version": "1.5.0",
            "_view_name": "HTMLView",
            "description": "",
            "description_tooltip": null,
            "layout": "IPY_MODEL_376d97e48c444168ae5cbf1725d39cb6",
            "placeholder": "​",
            "style": "IPY_MODEL_2600a05dfb6148ce971f64bd50b0a7c0",
            "value": " 483/483 [00:00&lt;00:00, 14.1kB/s]"
          }
        },
        "faf0aa404a3943aab8f41afd55f206ac": {
          "model_module": "@jupyter-widgets/base",
          "model_name": "LayoutModel",
          "model_module_version": "1.2.0",
          "state": {
            "_model_module": "@jupyter-widgets/base",
            "_model_module_version": "1.2.0",
            "_model_name": "LayoutModel",
            "_view_count": null,
            "_view_module": "@jupyter-widgets/base",
            "_view_module_version": "1.2.0",
            "_view_name": "LayoutView",
            "align_content": null,
            "align_items": null,
            "align_self": null,
            "border": null,
            "bottom": null,
            "display": null,
            "flex": null,
            "flex_flow": null,
            "grid_area": null,
            "grid_auto_columns": null,
            "grid_auto_flow": null,
            "grid_auto_rows": null,
            "grid_column": null,
            "grid_gap": null,
            "grid_row": null,
            "grid_template_areas": null,
            "grid_template_columns": null,
            "grid_template_rows": null,
            "height": null,
            "justify_content": null,
            "justify_items": null,
            "left": null,
            "margin": null,
            "max_height": null,
            "max_width": null,
            "min_height": null,
            "min_width": null,
            "object_fit": null,
            "object_position": null,
            "order": null,
            "overflow": null,
            "overflow_x": null,
            "overflow_y": null,
            "padding": null,
            "right": null,
            "top": null,
            "visibility": null,
            "width": null
          }
        },
        "8e256bca5e3c4147947328161ba45a44": {
          "model_module": "@jupyter-widgets/base",
          "model_name": "LayoutModel",
          "model_module_version": "1.2.0",
          "state": {
            "_model_module": "@jupyter-widgets/base",
            "_model_module_version": "1.2.0",
            "_model_name": "LayoutModel",
            "_view_count": null,
            "_view_module": "@jupyter-widgets/base",
            "_view_module_version": "1.2.0",
            "_view_name": "LayoutView",
            "align_content": null,
            "align_items": null,
            "align_self": null,
            "border": null,
            "bottom": null,
            "display": null,
            "flex": null,
            "flex_flow": null,
            "grid_area": null,
            "grid_auto_columns": null,
            "grid_auto_flow": null,
            "grid_auto_rows": null,
            "grid_column": null,
            "grid_gap": null,
            "grid_row": null,
            "grid_template_areas": null,
            "grid_template_columns": null,
            "grid_template_rows": null,
            "height": null,
            "justify_content": null,
            "justify_items": null,
            "left": null,
            "margin": null,
            "max_height": null,
            "max_width": null,
            "min_height": null,
            "min_width": null,
            "object_fit": null,
            "object_position": null,
            "order": null,
            "overflow": null,
            "overflow_x": null,
            "overflow_y": null,
            "padding": null,
            "right": null,
            "top": null,
            "visibility": null,
            "width": null
          }
        },
        "4b8bee412c994b86b9e78722e8a23c02": {
          "model_module": "@jupyter-widgets/controls",
          "model_name": "DescriptionStyleModel",
          "model_module_version": "1.5.0",
          "state": {
            "_model_module": "@jupyter-widgets/controls",
            "_model_module_version": "1.5.0",
            "_model_name": "DescriptionStyleModel",
            "_view_count": null,
            "_view_module": "@jupyter-widgets/base",
            "_view_module_version": "1.2.0",
            "_view_name": "StyleView",
            "description_width": ""
          }
        },
        "17c0f0c557d2423385f0b83d788b9249": {
          "model_module": "@jupyter-widgets/base",
          "model_name": "LayoutModel",
          "model_module_version": "1.2.0",
          "state": {
            "_model_module": "@jupyter-widgets/base",
            "_model_module_version": "1.2.0",
            "_model_name": "LayoutModel",
            "_view_count": null,
            "_view_module": "@jupyter-widgets/base",
            "_view_module_version": "1.2.0",
            "_view_name": "LayoutView",
            "align_content": null,
            "align_items": null,
            "align_self": null,
            "border": null,
            "bottom": null,
            "display": null,
            "flex": null,
            "flex_flow": null,
            "grid_area": null,
            "grid_auto_columns": null,
            "grid_auto_flow": null,
            "grid_auto_rows": null,
            "grid_column": null,
            "grid_gap": null,
            "grid_row": null,
            "grid_template_areas": null,
            "grid_template_columns": null,
            "grid_template_rows": null,
            "height": null,
            "justify_content": null,
            "justify_items": null,
            "left": null,
            "margin": null,
            "max_height": null,
            "max_width": null,
            "min_height": null,
            "min_width": null,
            "object_fit": null,
            "object_position": null,
            "order": null,
            "overflow": null,
            "overflow_x": null,
            "overflow_y": null,
            "padding": null,
            "right": null,
            "top": null,
            "visibility": null,
            "width": null
          }
        },
        "47e8ff6cd5054159a4a9a5b755bb5830": {
          "model_module": "@jupyter-widgets/controls",
          "model_name": "ProgressStyleModel",
          "model_module_version": "1.5.0",
          "state": {
            "_model_module": "@jupyter-widgets/controls",
            "_model_module_version": "1.5.0",
            "_model_name": "ProgressStyleModel",
            "_view_count": null,
            "_view_module": "@jupyter-widgets/base",
            "_view_module_version": "1.2.0",
            "_view_name": "StyleView",
            "bar_color": null,
            "description_width": ""
          }
        },
        "376d97e48c444168ae5cbf1725d39cb6": {
          "model_module": "@jupyter-widgets/base",
          "model_name": "LayoutModel",
          "model_module_version": "1.2.0",
          "state": {
            "_model_module": "@jupyter-widgets/base",
            "_model_module_version": "1.2.0",
            "_model_name": "LayoutModel",
            "_view_count": null,
            "_view_module": "@jupyter-widgets/base",
            "_view_module_version": "1.2.0",
            "_view_name": "LayoutView",
            "align_content": null,
            "align_items": null,
            "align_self": null,
            "border": null,
            "bottom": null,
            "display": null,
            "flex": null,
            "flex_flow": null,
            "grid_area": null,
            "grid_auto_columns": null,
            "grid_auto_flow": null,
            "grid_auto_rows": null,
            "grid_column": null,
            "grid_gap": null,
            "grid_row": null,
            "grid_template_areas": null,
            "grid_template_columns": null,
            "grid_template_rows": null,
            "height": null,
            "justify_content": null,
            "justify_items": null,
            "left": null,
            "margin": null,
            "max_height": null,
            "max_width": null,
            "min_height": null,
            "min_width": null,
            "object_fit": null,
            "object_position": null,
            "order": null,
            "overflow": null,
            "overflow_x": null,
            "overflow_y": null,
            "padding": null,
            "right": null,
            "top": null,
            "visibility": null,
            "width": null
          }
        },
        "2600a05dfb6148ce971f64bd50b0a7c0": {
          "model_module": "@jupyter-widgets/controls",
          "model_name": "DescriptionStyleModel",
          "model_module_version": "1.5.0",
          "state": {
            "_model_module": "@jupyter-widgets/controls",
            "_model_module_version": "1.5.0",
            "_model_name": "DescriptionStyleModel",
            "_view_count": null,
            "_view_module": "@jupyter-widgets/base",
            "_view_module_version": "1.2.0",
            "_view_name": "StyleView",
            "description_width": ""
          }
        }
      }
    }
  },
  "nbformat": 4,
  "nbformat_minor": 0
}